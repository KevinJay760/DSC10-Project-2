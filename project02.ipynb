{
 "cells": [
  {
   "cell_type": "markdown",
   "metadata": {},
   "source": [
    "# Project 2: College Admissions & SDPD\n",
    "\n",
    "### Due at 11:59pm on June 3, 2020."
   ]
  },
  {
   "cell_type": "markdown",
   "metadata": {},
   "source": [
    "We will be exploring 2 topics in this project.\n",
    "\n",
    "In the first half of this project, you will analyze college admission statistics and discover many interesting insights about the evolution of gender discrimination in college admissions and enrollment.\n",
    "\n",
    "In the second half of this project, we will shift gears to some data from SDPD (San Diego Police Department) about analyzing police calls and how the COVID-19 situation has affected the trend in reports."
   ]
  },
  {
   "cell_type": "markdown",
   "metadata": {},
   "source": [
    "### Logistics\n",
    "\n",
    "\n",
    "**Free Response Questions**: The free response questions and plots for the project are **optional** and ungraded, meaning you do **not** need to submit a PDF of this notebook to Gradescope. These questions tend to be open-ended. However, these questions will be very good practice for the free-response exam questions, so do give them a good effort. Solutions will be posted after the project late submission deadline.\n",
    "\n",
    "**Partners.** You may work with one other partner. Only one of you is required to submit the project. On [okpy.org](http://okpy.org), the person who submits should also designate their partner so that both of you receive credit.\n",
    "\n",
    "**Rules.** Don't share your code with anybody but your partner. You are welcome to discuss questions with other students, but don't share the answers. The experience of solving the problems in this project will prepare you for exams (and life). If someone asks you for the answer, resist! Instead, you can demonstrate how you would solve a similar problem.\n",
    "\n",
    "**Support.** You are not alone! Come to office hours, post on the forum, and talk to your classmates. If you want to ask about the details of your solution to a problem, make a private forum post and the staff will respond.\n",
    "\n",
    "**Tests.** Passing the tests for a question **does not** mean that you answered the question correctly. Tests usually only check that your table has the correct column labels. However, more tests will be applied to verify the correctness of your submission in order to assign your final score, so be careful and check your work!\n",
    "\n",
    "**Advice.** Develop your answers incrementally. To perform a complicated table manipulation, break it up into steps, perform each step on a different line, give a new name to each result, and check that each intermediate result is what you expect. You can add any additional names or functions you want to the provided cells. \n",
    "\n",
    "All of the concepts necessary for this project are found in the textbook. If you are stuck on a particular problem, reading through the relevant textbook section often will help clarify the concept.\n",
    "\n",
    "To get started, run the following cell without modification."
   ]
  },
  {
   "cell_type": "code",
   "execution_count": 4,
   "metadata": {},
   "outputs": [
    {
     "name": "stdout",
     "output_type": "stream",
     "text": [
      "=====================================================================\n",
      "Assignment: Project 2: College Admissions & SDPD\n",
      "OK, version v1.14.18\n",
      "=====================================================================\n",
      "\n"
     ]
    },
    {
     "name": "stderr",
     "output_type": "stream",
     "text": [
      "ERROR  | auth.py:102 | {'error': 'invalid_grant'}\n"
     ]
    },
    {
     "name": "stdout",
     "output_type": "stream",
     "text": [
      "\n",
      "Open the following URL:\n",
      "\n",
      "https://okpy.org/client/login/\n",
      "\n",
      "After logging in, copy the code from the web page and paste it into the box.\n",
      "Then press the \"Enter\" key on your keyboard.\n",
      "\n",
      "Paste your code here: nR8X2jLbiA8iSgzxfpdaRKZnm9YM83\n",
      "Successfully logged in as kjay@ucsd.edu\n"
     ]
    }
   ],
   "source": [
    "# Don't change this cell; just run it\n",
    "\n",
    "import babypandas as bpd\n",
    "import numpy as np\n",
    "\n",
    "import matplotlib.pyplot as plots\n",
    "%matplotlib inline\n",
    "plots.style.use('fivethirtyeight')\n",
    "np.set_printoptions(legacy='1.13')\n",
    "\n",
    "import warnings; warnings.simplefilter('ignore')\n",
    "\n",
    "from client.api.notebook import Notebook\n",
    "ok = Notebook('project02.ok')\n",
    "_ = ok.auth(inline=True)"
   ]
  },
  {
   "cell_type": "markdown",
   "metadata": {},
   "source": [
    "# Outline"
   ]
  },
  {
   "cell_type": "markdown",
   "metadata": {},
   "source": [
    "Here is a roadmap for this project:\n",
    "\n",
    "* In Part 1, we'll seek to understand how college admission standards have been evolving regarding gender.\n",
    "* In Part 2, we'll dive deeper and analyze discrimination in public/private institutions based on gender.\n",
    "* In Part 3, we'll explore a new problem about SDPD police reports and how COVID-19 has affected them.\n",
    "* In Part 4, we'll analyze which types of police reports have had significant changes.\n",
    "\n",
    "Let's get started!"
   ]
  },
  {
   "cell_type": "markdown",
   "metadata": {},
   "source": [
    "# College Statistics"
   ]
  },
  {
   "cell_type": "markdown",
   "metadata": {},
   "source": [
    "## Part 1: Changes in Admission Rates"
   ]
  },
  {
   "cell_type": "markdown",
   "metadata": {},
   "source": [
    "The graph below shows how the rates of women receiving degrees from institutions has changed over time."
   ]
  },
  {
   "cell_type": "markdown",
   "metadata": {
    "deletable": false,
    "for_assignment_type": "student",
    "manual_problem_id": "part_1_plot_causes"
   },
   "source": [
    "<img src=\"admissions.png\"/>\n",
    "\n",
    "*SOURCE: National Center for Education Statistics*"
   ]
  },
  {
   "cell_type": "markdown",
   "metadata": {},
   "source": [
    "Let's examine the graph in more detail. It is evident that the rates of women receiving all types of degrees has significantly increased from 1970 to 2011. Historically, women were less educated than men, and more men enrolled in and receieved degrees from colleges. There has been a lot of social progress in advocating for gender equality, which colleges have taken more seriously as time progressed. \n",
    "\n",
    "In the sections below, we will see if there is still a gender imbalance or not, as well as explore some other discriminatory factors like ethnicity for example."
   ]
  },
  {
   "cell_type": "markdown",
   "metadata": {},
   "source": [
    "## Part 2: Discrimination in Private/Public Institution Admissions"
   ]
  },
  {
   "cell_type": "markdown",
   "metadata": {},
   "source": [
    "The college statistics dataset contains comprehensive information collected on institutions across the United States about their applicants, admissions, enrollment, student demographics, etc... In this section, we'll focus on admission discrimination against women and students of varying ethnicities. Admissions discrimination has been a prominent issue for a long time, instigating many lawsuits. Usually there had been insufficient evidence to further cases and enforce strict changes to admission policies. However, data does not lie and we will investigate the disparities through a series of analysis.\n",
    "\n",
    "Run the cell below to examine data of colleges across the country and information about student demographics. \n",
    "\n",
    "***Note***: This is a large dataset with lots of columns, but we will focus on analyzing specific columns in this project. An important part of being a data scientist is being able to ask certain questions and identifying specific data needed to answer them. You are welcome to analyze other parts of this data (there are lots of different questions you can ask!), but you are not required to."
   ]
  },
  {
   "cell_type": "code",
   "execution_count": 5,
   "metadata": {},
   "outputs": [
    {
     "data": {
      "text/html": [
       "<div>\n",
       "<style scoped>\n",
       "    .dataframe tbody tr th:only-of-type {\n",
       "        vertical-align: middle;\n",
       "    }\n",
       "\n",
       "    .dataframe tbody tr th {\n",
       "        vertical-align: top;\n",
       "    }\n",
       "\n",
       "    .dataframe thead th {\n",
       "        text-align: right;\n",
       "    }\n",
       "</style>\n",
       "<table border=\"1\" class=\"dataframe\">\n",
       "  <thead>\n",
       "    <tr style=\"text-align: right;\">\n",
       "      <th></th>\n",
       "      <th>Name</th>\n",
       "      <th>Applicants total</th>\n",
       "      <th>Admissions total</th>\n",
       "      <th>Enrolled total</th>\n",
       "      <th>Percent of freshmen submitting SAT scores</th>\n",
       "      <th>Percent of freshmen submitting ACT scores</th>\n",
       "      <th>SAT Critical Reading 25th percentile score</th>\n",
       "      <th>SAT Critical Reading 75th percentile score</th>\n",
       "      <th>SAT Math 25th percentile score</th>\n",
       "      <th>SAT Math 75th percentile score</th>\n",
       "      <th>...</th>\n",
       "      <th>Percent of freshmen receiving other federal grant aid</th>\n",
       "      <th>Percent of freshmen receiving state/local grant aid</th>\n",
       "      <th>Percent of freshmen receiving institutional grant aid</th>\n",
       "      <th>Percent of freshmen receiving student loan aid</th>\n",
       "      <th>Percent of freshmen receiving federal student loans</th>\n",
       "      <th>Percent of freshmen receiving other loan aid</th>\n",
       "      <th>Endowment assets (year end) per FTE enrollment (GASB)</th>\n",
       "      <th>Endowment assets (year end) per FTE enrollment (FASB)</th>\n",
       "      <th>women_enrollment</th>\n",
       "      <th>sector</th>\n",
       "    </tr>\n",
       "  </thead>\n",
       "  <tbody>\n",
       "    <tr>\n",
       "      <th>0</th>\n",
       "      <td>Alabama A &amp; M University</td>\n",
       "      <td>6142.0</td>\n",
       "      <td>5521.0</td>\n",
       "      <td>1104.0</td>\n",
       "      <td>15.0</td>\n",
       "      <td>88.0</td>\n",
       "      <td>370.0</td>\n",
       "      <td>450.0</td>\n",
       "      <td>350.0</td>\n",
       "      <td>450.0</td>\n",
       "      <td>...</td>\n",
       "      <td>7.0</td>\n",
       "      <td>1.0</td>\n",
       "      <td>32.0</td>\n",
       "      <td>89.0</td>\n",
       "      <td>89.0</td>\n",
       "      <td>1.0</td>\n",
       "      <td>NaN</td>\n",
       "      <td>NaN</td>\n",
       "      <td>0.55</td>\n",
       "      <td>public</td>\n",
       "    </tr>\n",
       "    <tr>\n",
       "      <th>1</th>\n",
       "      <td>University of Alabama at Birmingham</td>\n",
       "      <td>5689.0</td>\n",
       "      <td>4934.0</td>\n",
       "      <td>1773.0</td>\n",
       "      <td>6.0</td>\n",
       "      <td>93.0</td>\n",
       "      <td>520.0</td>\n",
       "      <td>640.0</td>\n",
       "      <td>520.0</td>\n",
       "      <td>650.0</td>\n",
       "      <td>...</td>\n",
       "      <td>10.0</td>\n",
       "      <td>0.0</td>\n",
       "      <td>60.0</td>\n",
       "      <td>56.0</td>\n",
       "      <td>55.0</td>\n",
       "      <td>5.0</td>\n",
       "      <td>24136.0</td>\n",
       "      <td>NaN</td>\n",
       "      <td>0.61</td>\n",
       "      <td>public</td>\n",
       "    </tr>\n",
       "    <tr>\n",
       "      <th>2</th>\n",
       "      <td>Amridge University</td>\n",
       "      <td>NaN</td>\n",
       "      <td>NaN</td>\n",
       "      <td>NaN</td>\n",
       "      <td>NaN</td>\n",
       "      <td>NaN</td>\n",
       "      <td>NaN</td>\n",
       "      <td>NaN</td>\n",
       "      <td>NaN</td>\n",
       "      <td>NaN</td>\n",
       "      <td>...</td>\n",
       "      <td>0.0</td>\n",
       "      <td>40.0</td>\n",
       "      <td>90.0</td>\n",
       "      <td>100.0</td>\n",
       "      <td>100.0</td>\n",
       "      <td>0.0</td>\n",
       "      <td>NaN</td>\n",
       "      <td>302.0</td>\n",
       "      <td>0.58</td>\n",
       "      <td>private</td>\n",
       "    </tr>\n",
       "    <tr>\n",
       "      <th>3</th>\n",
       "      <td>University of Alabama in Huntsville</td>\n",
       "      <td>2054.0</td>\n",
       "      <td>1656.0</td>\n",
       "      <td>651.0</td>\n",
       "      <td>34.0</td>\n",
       "      <td>94.0</td>\n",
       "      <td>510.0</td>\n",
       "      <td>640.0</td>\n",
       "      <td>510.0</td>\n",
       "      <td>650.0</td>\n",
       "      <td>...</td>\n",
       "      <td>4.0</td>\n",
       "      <td>1.0</td>\n",
       "      <td>63.0</td>\n",
       "      <td>46.0</td>\n",
       "      <td>46.0</td>\n",
       "      <td>3.0</td>\n",
       "      <td>11502.0</td>\n",
       "      <td>NaN</td>\n",
       "      <td>0.44</td>\n",
       "      <td>public</td>\n",
       "    </tr>\n",
       "    <tr>\n",
       "      <th>4</th>\n",
       "      <td>Alabama State University</td>\n",
       "      <td>10245.0</td>\n",
       "      <td>5251.0</td>\n",
       "      <td>1479.0</td>\n",
       "      <td>18.0</td>\n",
       "      <td>87.0</td>\n",
       "      <td>380.0</td>\n",
       "      <td>480.0</td>\n",
       "      <td>370.0</td>\n",
       "      <td>480.0</td>\n",
       "      <td>...</td>\n",
       "      <td>13.0</td>\n",
       "      <td>11.0</td>\n",
       "      <td>34.0</td>\n",
       "      <td>81.0</td>\n",
       "      <td>81.0</td>\n",
       "      <td>0.0</td>\n",
       "      <td>13202.0</td>\n",
       "      <td>NaN</td>\n",
       "      <td>0.61</td>\n",
       "      <td>public</td>\n",
       "    </tr>\n",
       "    <tr>\n",
       "      <th>...</th>\n",
       "      <td>...</td>\n",
       "      <td>...</td>\n",
       "      <td>...</td>\n",
       "      <td>...</td>\n",
       "      <td>...</td>\n",
       "      <td>...</td>\n",
       "      <td>...</td>\n",
       "      <td>...</td>\n",
       "      <td>...</td>\n",
       "      <td>...</td>\n",
       "      <td>...</td>\n",
       "      <td>...</td>\n",
       "      <td>...</td>\n",
       "      <td>...</td>\n",
       "      <td>...</td>\n",
       "      <td>...</td>\n",
       "      <td>...</td>\n",
       "      <td>...</td>\n",
       "      <td>...</td>\n",
       "      <td>...</td>\n",
       "      <td>...</td>\n",
       "    </tr>\n",
       "    <tr>\n",
       "      <th>1149</th>\n",
       "      <td>Averett University-Non-Traditional Programs</td>\n",
       "      <td>NaN</td>\n",
       "      <td>NaN</td>\n",
       "      <td>NaN</td>\n",
       "      <td>NaN</td>\n",
       "      <td>NaN</td>\n",
       "      <td>NaN</td>\n",
       "      <td>NaN</td>\n",
       "      <td>NaN</td>\n",
       "      <td>NaN</td>\n",
       "      <td>...</td>\n",
       "      <td>NaN</td>\n",
       "      <td>NaN</td>\n",
       "      <td>NaN</td>\n",
       "      <td>NaN</td>\n",
       "      <td>NaN</td>\n",
       "      <td>NaN</td>\n",
       "      <td>NaN</td>\n",
       "      <td>NaN</td>\n",
       "      <td>0.59</td>\n",
       "      <td>private</td>\n",
       "    </tr>\n",
       "    <tr>\n",
       "      <th>1150</th>\n",
       "      <td>University of South Florida-Sarasota-Manatee</td>\n",
       "      <td>393.0</td>\n",
       "      <td>136.0</td>\n",
       "      <td>86.0</td>\n",
       "      <td>79.0</td>\n",
       "      <td>59.0</td>\n",
       "      <td>502.0</td>\n",
       "      <td>580.0</td>\n",
       "      <td>490.0</td>\n",
       "      <td>570.0</td>\n",
       "      <td>...</td>\n",
       "      <td>NaN</td>\n",
       "      <td>NaN</td>\n",
       "      <td>NaN</td>\n",
       "      <td>NaN</td>\n",
       "      <td>NaN</td>\n",
       "      <td>NaN</td>\n",
       "      <td>4422.0</td>\n",
       "      <td>NaN</td>\n",
       "      <td>0.60</td>\n",
       "      <td>public</td>\n",
       "    </tr>\n",
       "    <tr>\n",
       "      <th>1151</th>\n",
       "      <td>The Kingâ€™s College</td>\n",
       "      <td>3033.0</td>\n",
       "      <td>2158.0</td>\n",
       "      <td>127.0</td>\n",
       "      <td>57.0</td>\n",
       "      <td>45.0</td>\n",
       "      <td>540.0</td>\n",
       "      <td>630.0</td>\n",
       "      <td>510.0</td>\n",
       "      <td>600.0</td>\n",
       "      <td>...</td>\n",
       "      <td>10.0</td>\n",
       "      <td>4.0</td>\n",
       "      <td>100.0</td>\n",
       "      <td>57.0</td>\n",
       "      <td>56.0</td>\n",
       "      <td>12.0</td>\n",
       "      <td>NaN</td>\n",
       "      <td>935.0</td>\n",
       "      <td>0.60</td>\n",
       "      <td>private</td>\n",
       "    </tr>\n",
       "    <tr>\n",
       "      <th>1152</th>\n",
       "      <td>Providence Christian College</td>\n",
       "      <td>122.0</td>\n",
       "      <td>65.0</td>\n",
       "      <td>20.0</td>\n",
       "      <td>NaN</td>\n",
       "      <td>NaN</td>\n",
       "      <td>NaN</td>\n",
       "      <td>NaN</td>\n",
       "      <td>NaN</td>\n",
       "      <td>NaN</td>\n",
       "      <td>...</td>\n",
       "      <td>14.0</td>\n",
       "      <td>0.0</td>\n",
       "      <td>100.0</td>\n",
       "      <td>64.0</td>\n",
       "      <td>64.0</td>\n",
       "      <td>14.0</td>\n",
       "      <td>NaN</td>\n",
       "      <td>350.0</td>\n",
       "      <td>0.52</td>\n",
       "      <td>private</td>\n",
       "    </tr>\n",
       "    <tr>\n",
       "      <th>1153</th>\n",
       "      <td>Polytechnic University of Puerto Rico-Orlando</td>\n",
       "      <td>NaN</td>\n",
       "      <td>NaN</td>\n",
       "      <td>NaN</td>\n",
       "      <td>NaN</td>\n",
       "      <td>NaN</td>\n",
       "      <td>NaN</td>\n",
       "      <td>NaN</td>\n",
       "      <td>NaN</td>\n",
       "      <td>NaN</td>\n",
       "      <td>...</td>\n",
       "      <td>0.0</td>\n",
       "      <td>50.0</td>\n",
       "      <td>0.0</td>\n",
       "      <td>50.0</td>\n",
       "      <td>50.0</td>\n",
       "      <td>0.0</td>\n",
       "      <td>NaN</td>\n",
       "      <td>NaN</td>\n",
       "      <td>0.34</td>\n",
       "      <td>private</td>\n",
       "    </tr>\n",
       "  </tbody>\n",
       "</table>\n",
       "<p>1154 rows × 110 columns</p>\n",
       "</div>"
      ],
      "text/plain": [
       "                                               Name  Applicants total  \\\n",
       "0                          Alabama A & M University            6142.0   \n",
       "1               University of Alabama at Birmingham            5689.0   \n",
       "2                                Amridge University               NaN   \n",
       "3               University of Alabama in Huntsville            2054.0   \n",
       "4                          Alabama State University           10245.0   \n",
       "...                                             ...               ...   \n",
       "1149    Averett University-Non-Traditional Programs               NaN   \n",
       "1150   University of South Florida-Sarasota-Manatee             393.0   \n",
       "1151                           The Kingâ€™s College            3033.0   \n",
       "1152                   Providence Christian College             122.0   \n",
       "1153  Polytechnic University of Puerto Rico-Orlando               NaN   \n",
       "\n",
       "      Admissions total  Enrolled total  \\\n",
       "0               5521.0          1104.0   \n",
       "1               4934.0          1773.0   \n",
       "2                  NaN             NaN   \n",
       "3               1656.0           651.0   \n",
       "4               5251.0          1479.0   \n",
       "...                ...             ...   \n",
       "1149               NaN             NaN   \n",
       "1150             136.0            86.0   \n",
       "1151            2158.0           127.0   \n",
       "1152              65.0            20.0   \n",
       "1153               NaN             NaN   \n",
       "\n",
       "      Percent of freshmen submitting SAT scores  \\\n",
       "0                                          15.0   \n",
       "1                                           6.0   \n",
       "2                                           NaN   \n",
       "3                                          34.0   \n",
       "4                                          18.0   \n",
       "...                                         ...   \n",
       "1149                                        NaN   \n",
       "1150                                       79.0   \n",
       "1151                                       57.0   \n",
       "1152                                        NaN   \n",
       "1153                                        NaN   \n",
       "\n",
       "      Percent of freshmen submitting ACT scores  \\\n",
       "0                                          88.0   \n",
       "1                                          93.0   \n",
       "2                                           NaN   \n",
       "3                                          94.0   \n",
       "4                                          87.0   \n",
       "...                                         ...   \n",
       "1149                                        NaN   \n",
       "1150                                       59.0   \n",
       "1151                                       45.0   \n",
       "1152                                        NaN   \n",
       "1153                                        NaN   \n",
       "\n",
       "      SAT Critical Reading 25th percentile score  \\\n",
       "0                                          370.0   \n",
       "1                                          520.0   \n",
       "2                                            NaN   \n",
       "3                                          510.0   \n",
       "4                                          380.0   \n",
       "...                                          ...   \n",
       "1149                                         NaN   \n",
       "1150                                       502.0   \n",
       "1151                                       540.0   \n",
       "1152                                         NaN   \n",
       "1153                                         NaN   \n",
       "\n",
       "      SAT Critical Reading 75th percentile score  \\\n",
       "0                                          450.0   \n",
       "1                                          640.0   \n",
       "2                                            NaN   \n",
       "3                                          640.0   \n",
       "4                                          480.0   \n",
       "...                                          ...   \n",
       "1149                                         NaN   \n",
       "1150                                       580.0   \n",
       "1151                                       630.0   \n",
       "1152                                         NaN   \n",
       "1153                                         NaN   \n",
       "\n",
       "      SAT Math 25th percentile score  SAT Math 75th percentile score  ...  \\\n",
       "0                              350.0                           450.0  ...   \n",
       "1                              520.0                           650.0  ...   \n",
       "2                                NaN                             NaN  ...   \n",
       "3                              510.0                           650.0  ...   \n",
       "4                              370.0                           480.0  ...   \n",
       "...                              ...                             ...  ...   \n",
       "1149                             NaN                             NaN  ...   \n",
       "1150                           490.0                           570.0  ...   \n",
       "1151                           510.0                           600.0  ...   \n",
       "1152                             NaN                             NaN  ...   \n",
       "1153                             NaN                             NaN  ...   \n",
       "\n",
       "      Percent of freshmen receiving other federal grant aid  \\\n",
       "0                                                   7.0       \n",
       "1                                                  10.0       \n",
       "2                                                   0.0       \n",
       "3                                                   4.0       \n",
       "4                                                  13.0       \n",
       "...                                                 ...       \n",
       "1149                                                NaN       \n",
       "1150                                                NaN       \n",
       "1151                                               10.0       \n",
       "1152                                               14.0       \n",
       "1153                                                0.0       \n",
       "\n",
       "      Percent of freshmen receiving state/local grant aid  \\\n",
       "0                                                   1.0     \n",
       "1                                                   0.0     \n",
       "2                                                  40.0     \n",
       "3                                                   1.0     \n",
       "4                                                  11.0     \n",
       "...                                                 ...     \n",
       "1149                                                NaN     \n",
       "1150                                                NaN     \n",
       "1151                                                4.0     \n",
       "1152                                                0.0     \n",
       "1153                                               50.0     \n",
       "\n",
       "      Percent of freshmen receiving institutional grant aid  \\\n",
       "0                                                  32.0       \n",
       "1                                                  60.0       \n",
       "2                                                  90.0       \n",
       "3                                                  63.0       \n",
       "4                                                  34.0       \n",
       "...                                                 ...       \n",
       "1149                                                NaN       \n",
       "1150                                                NaN       \n",
       "1151                                              100.0       \n",
       "1152                                              100.0       \n",
       "1153                                                0.0       \n",
       "\n",
       "      Percent of freshmen receiving student loan aid  \\\n",
       "0                                               89.0   \n",
       "1                                               56.0   \n",
       "2                                              100.0   \n",
       "3                                               46.0   \n",
       "4                                               81.0   \n",
       "...                                              ...   \n",
       "1149                                             NaN   \n",
       "1150                                             NaN   \n",
       "1151                                            57.0   \n",
       "1152                                            64.0   \n",
       "1153                                            50.0   \n",
       "\n",
       "      Percent of freshmen receiving federal student loans  \\\n",
       "0                                                  89.0     \n",
       "1                                                  55.0     \n",
       "2                                                 100.0     \n",
       "3                                                  46.0     \n",
       "4                                                  81.0     \n",
       "...                                                 ...     \n",
       "1149                                                NaN     \n",
       "1150                                                NaN     \n",
       "1151                                               56.0     \n",
       "1152                                               64.0     \n",
       "1153                                               50.0     \n",
       "\n",
       "      Percent of freshmen receiving other loan aid  \\\n",
       "0                                              1.0   \n",
       "1                                              5.0   \n",
       "2                                              0.0   \n",
       "3                                              3.0   \n",
       "4                                              0.0   \n",
       "...                                            ...   \n",
       "1149                                           NaN   \n",
       "1150                                           NaN   \n",
       "1151                                          12.0   \n",
       "1152                                          14.0   \n",
       "1153                                           0.0   \n",
       "\n",
       "      Endowment assets (year end) per FTE enrollment (GASB)  \\\n",
       "0                                                   NaN       \n",
       "1                                               24136.0       \n",
       "2                                                   NaN       \n",
       "3                                               11502.0       \n",
       "4                                               13202.0       \n",
       "...                                                 ...       \n",
       "1149                                                NaN       \n",
       "1150                                             4422.0       \n",
       "1151                                                NaN       \n",
       "1152                                                NaN       \n",
       "1153                                                NaN       \n",
       "\n",
       "      Endowment assets (year end) per FTE enrollment (FASB)  women_enrollment  \\\n",
       "0                                                   NaN                  0.55   \n",
       "1                                                   NaN                  0.61   \n",
       "2                                                 302.0                  0.58   \n",
       "3                                                   NaN                  0.44   \n",
       "4                                                   NaN                  0.61   \n",
       "...                                                 ...                   ...   \n",
       "1149                                                NaN                  0.59   \n",
       "1150                                                NaN                  0.60   \n",
       "1151                                              935.0                  0.60   \n",
       "1152                                              350.0                  0.52   \n",
       "1153                                                NaN                  0.34   \n",
       "\n",
       "       sector  \n",
       "0      public  \n",
       "1      public  \n",
       "2     private  \n",
       "3      public  \n",
       "4      public  \n",
       "...       ...  \n",
       "1149  private  \n",
       "1150   public  \n",
       "1151  private  \n",
       "1152  private  \n",
       "1153  private  \n",
       "\n",
       "[1154 rows x 110 columns]"
      ]
     },
     "execution_count": 5,
     "metadata": {},
     "output_type": "execute_result"
    }
   ],
   "source": [
    "# Don't change, just run this cell\n",
    "colleges = bpd.read_csv('college_statistics.csv')\n",
    "colleges = colleges.assign(women_enrollment=colleges.get(\"Percent of total enrollment that are women\")/100,\n",
    "                           sector=colleges.get(\"Sector of institution\").apply(\n",
    "                           lambda x: \"public\" if x==\"Public, 4-year or above\" else \"private\")\n",
    ")\n",
    "\n",
    "colleges"
   ]
  },
  {
   "cell_type": "code",
   "execution_count": 6,
   "metadata": {},
   "outputs": [
    {
     "name": "stdout",
     "output_type": "stream",
     "text": [
      "Name\n",
      "Applicants total\n",
      "Admissions total\n",
      "Enrolled total\n",
      "Percent of freshmen submitting SAT scores\n",
      "Percent of freshmen submitting ACT scores\n",
      "SAT Critical Reading 25th percentile score\n",
      "SAT Critical Reading 75th percentile score\n",
      "SAT Math 25th percentile score\n",
      "SAT Math 75th percentile score\n",
      "SAT Writing 25th percentile score\n",
      "SAT Writing 75th percentile score\n",
      "ACT Composite 25th percentile score\n",
      "ACT Composite 75th percentile score\n",
      "Estimated enrollment, total\n",
      "Estimated enrollment, full time\n",
      "Estimated enrollment, part time\n",
      "Estimated undergraduate enrollment, total\n",
      "Estimated undergraduate enrollment, full time\n",
      "Estimated undergraduate enrollment, part time\n",
      "Estimated freshman undergraduate enrollment, total\n",
      "Estimated freshman enrollment, full time\n",
      "Estimated freshman enrollment, part time\n",
      "Estimated graduate enrollment, total\n",
      "Estimated graduate enrollment, full time\n",
      "Estimated graduate enrollment, part time\n",
      "Number of students receiving an Associate's degree\n",
      "Percent admitted - total\n",
      "Admissions yield - total\n",
      "Tuition and fees, 2010-11\n",
      "Tuition and fees, 2011-12\n",
      "Tuition and fees, 2012-13\n",
      "Tuition and fees, 2013-14\n",
      "Total price for in-state students living on campus 2013-14\n",
      "Total price for out-of-state students living on campus 2013-14\n",
      "State abbreviation\n",
      "FIPS state code\n",
      "Geographic region\n",
      "Sector of institution\n",
      "Level of institution\n",
      "Control of institution\n",
      "Historically Black College or University\n",
      "Tribal college\n",
      "Degree of urbanization (Urban-centric locale)\n",
      "Carnegie Classification 2010: Basic\n",
      "Total  enrollment\n",
      "Full-time enrollment\n",
      "Part-time enrollment\n",
      "Undergraduate enrollment\n",
      "Graduate enrollment\n",
      "Full-time undergraduate enrollment\n",
      "Part-time undergraduate enrollment\n",
      "Percent of total enrollment that are American Indian or Alaska Native\n",
      "Percent of total enrollment that are Asian\n",
      "Percent of total enrollment that are Black or African American\n",
      "Percent of total enrollment that are Hispanic/Latino\n",
      "Percent of total enrollment that are Native Hawaiian or Other Pacific Islander\n",
      "Percent of total enrollment that are White\n",
      "Percent of total enrollment that are two or more races\n",
      "Percent of total enrollment that are Race/ethnicity unknown\n",
      "Percent of total enrollment that are Nonresident Alien\n",
      "Percent of total enrollment that are Asian/Native Hawaiian/Pacific Islander\n",
      "Percent of total enrollment that are women\n",
      "Percent of undergraduate enrollment that are American Indian or Alaska Native\n",
      "Percent of undergraduate enrollment that are Asian\n",
      "Percent of undergraduate enrollment that are Black or African American\n",
      "Percent of undergraduate enrollment that are Hispanic/Latino\n",
      "Percent of undergraduate enrollment that are Native Hawaiian or Other Pacific Islander\n",
      "Percent of undergraduate enrollment that are White\n",
      "Percent of undergraduate enrollment that are two or more races\n",
      "Percent of undergraduate enrollment that are Race/ethnicity unknown\n",
      "Percent of undergraduate enrollment that are Nonresident Alien\n",
      "Percent of undergraduate enrollment that are Asian/Native Hawaiian/Pacific Islander\n",
      "Percent of undergraduate enrollment that are women\n",
      "Percent of graduate enrollment that are American Indian or Alaska Native\n",
      "Percent of graduate enrollment that are Asian\n",
      "Percent of graduate enrollment that are Black or African American\n",
      "Percent of graduate enrollment that are Hispanic/Latino\n",
      "Percent of graduate enrollment that are Native Hawaiian or Other Pacific Islander\n",
      "Percent of graduate enrollment that are White\n",
      "Percent of graduate enrollment that are two or more races\n",
      "Percent of graduate enrollment that are Race/ethnicity unknown\n",
      "Percent of graduate enrollment that are Nonresident Alien\n",
      "Percent of graduate enrollment that are Asian/Native Hawaiian/Pacific Islander\n",
      "Percent of graduate enrollment that are women\n",
      "Number of first-time undergraduates - in-state\n",
      "Percent of first-time undergraduates - in-state\n",
      "Number of first-time undergraduates - out-of-state\n",
      "Percent of first-time undergraduates - out-of-state\n",
      "Number of first-time undergraduates - foreign countries\n",
      "Percent of first-time undergraduates - foreign countries\n",
      "Number of first-time undergraduates - residence unknown\n",
      "Percent of first-time undergraduates - residence unknown\n",
      "Graduation rate - Bachelor degree within 4 years, total\n",
      "Graduation rate - Bachelor degree within 5 years, total\n",
      "Graduation rate - Bachelor degree within 6 years, total\n",
      "Percent of freshmen receiving any financial aid\n",
      "Percent of freshmen receiving federal, state, local or institutional grant aid\n",
      "Percent of freshmen  receiving federal grant aid\n",
      "Percent of freshmen receiving Pell grants\n",
      "Percent of freshmen receiving other federal grant aid\n",
      "Percent of freshmen receiving state/local grant aid\n",
      "Percent of freshmen receiving institutional grant aid\n",
      "Percent of freshmen receiving student loan aid\n",
      "Percent of freshmen receiving federal student loans\n",
      "Percent of freshmen receiving other loan aid\n",
      "Endowment assets (year end) per FTE enrollment (GASB)\n",
      "Endowment assets (year end) per FTE enrollment (FASB)\n",
      "women_enrollment\n",
      "sector\n"
     ]
    }
   ],
   "source": [
    "for i in colleges.columns:\n",
    "    print(i)"
   ]
  },
  {
   "cell_type": "markdown",
   "metadata": {},
   "source": [
    "### Section 1: Proportion of Women Enrollment in Institutions"
   ]
  },
  {
   "cell_type": "markdown",
   "metadata": {},
   "source": [
    "##### Background\n",
    "\n",
    "In this section, we will look at the disparity between women and men enrollment across colleges in the United States.\n",
    "Particularly, there have been allgeations of [gender discrimination](https://www.washingtonpost.com/posteverything/wp/2015/07/30/achieving-perfect-gender-balance-on-campus-isnt-that-important-ending-private-colleges-affirmative-action-for-men-is/), which we will investigate in this part.\n",
    "\n",
    "In our data, each row contains data about one institution. The column `women_enrollment` tells us the percentage of women enrolled in that college.\n",
    "\n",
    "Run the cell below to take a peak at the data we have!"
   ]
  },
  {
   "cell_type": "code",
   "execution_count": 7,
   "metadata": {
    "scrolled": true
   },
   "outputs": [
    {
     "data": {
      "text/plain": [
       "0       0.55\n",
       "1       0.61\n",
       "2       0.58\n",
       "3       0.44\n",
       "4       0.61\n",
       "        ... \n",
       "1149    0.59\n",
       "1150    0.60\n",
       "1151    0.60\n",
       "1152    0.52\n",
       "1153    0.34\n",
       "Name: women_enrollment, Length: 1154, dtype: float64"
      ]
     },
     "execution_count": 7,
     "metadata": {},
     "output_type": "execute_result"
    }
   ],
   "source": [
    "colleges.get(\"women_enrollment\")"
   ]
  },
  {
   "cell_type": "markdown",
   "metadata": {},
   "source": [
    "Before we begin our investigation into gender discrimination in admissions, we'll first look at the degree to which gender disparity exists on campuses. In particular, we will investigate whether or not there is a similar amount of women and men in the universities. \n",
    "\n",
    "In an ideal setting, there will be 50% male enrollment, and 50% female enrollment. However, this may not exactly be the case because it is unreasonable to strictly enforce these quotas. Instead, we should look to whether there could be a gender discrepancy by chance. We are going to conduct a hypothesis test with the following null and alternative hypotheses:\n",
    "\n",
    "**Null Hypothesis**: The proportion of women enrollment in a college campus in the data is equal to 50%, which indicates a gender balance between men and women enrollment. (i.e., any difference is due to chance).\n",
    "\n",
    "**Alternative Hypothesis**: The proportion of women enrollment in a college campus in the data is less than 50%, indicating gender disbalance between men and women enrollment.\n",
    "\n",
    "We are going to use the difference between the observed proportion of female enrollment and the ideal proportion, 0.5, as our test statistic. The column `women_enrollment` in the `colleges` table contains the proportion of female enrollment for a particular college."
   ]
  },
  {
   "cell_type": "markdown",
   "metadata": {},
   "source": [
    "**Question 0.5:** From the provided Hypotheses and test statistic, what seems more reasonable to use, A/B Testing or the Standard Hypothesis Testing? Assign the variable `test` to one of the following choices. \n",
    "\n",
    "1. Standard Hypothesis Test\n",
    "2. A/B Testing"
   ]
  },
  {
   "cell_type": "code",
   "execution_count": 8,
   "metadata": {},
   "outputs": [
    {
     "data": {
      "text/plain": [
       "1"
      ]
     },
     "execution_count": 8,
     "metadata": {},
     "output_type": "execute_result"
    }
   ],
   "source": [
    "#...test\n",
    "test = 1\n",
    "test"
   ]
  },
  {
   "cell_type": "code",
   "execution_count": 9,
   "metadata": {},
   "outputs": [
    {
     "name": "stdout",
     "output_type": "stream",
     "text": [
      "~~~~~~~~~~~~~~~~~~~~~~~~~~~~~~~~~~~~~~~~~~~~~~~~~~~~~~~~~~~~~~~~~~~~~\n",
      "Running tests\n",
      "\n",
      "---------------------------------------------------------------------\n",
      "Test summary\n",
      "    Passed: 1\n",
      "    Failed: 0\n",
      "[ooooooooook] 100.0% passed\n",
      "\n"
     ]
    }
   ],
   "source": [
    "_ = ok.grade('q2_1_0')"
   ]
  },
  {
   "cell_type": "markdown",
   "metadata": {},
   "source": [
    "**Question 1**: What is the observed value of the statistic in the college statistics data?"
   ]
  },
  {
   "cell_type": "code",
   "execution_count": 10,
   "metadata": {
    "deletable": false,
    "for_assignment_type": "student",
    "manual_problem_id": "part_2_observed_diabetes"
   },
   "outputs": [
    {
     "data": {
      "text/plain": [
       "0.037265624999999969"
      ]
     },
     "execution_count": 10,
     "metadata": {},
     "output_type": "execute_result"
    }
   ],
   "source": [
    "#...observed_enrollment_distance\n",
    "observed_enrollment_distance = colleges.get('women_enrollment').mean()-0.5\n",
    "observed_enrollment_distance"
   ]
  },
  {
   "cell_type": "code",
   "execution_count": 11,
   "metadata": {
    "deletable": false
   },
   "outputs": [
    {
     "name": "stdout",
     "output_type": "stream",
     "text": [
      "~~~~~~~~~~~~~~~~~~~~~~~~~~~~~~~~~~~~~~~~~~~~~~~~~~~~~~~~~~~~~~~~~~~~~\n",
      "Running tests\n",
      "\n",
      "---------------------------------------------------------------------\n",
      "Test summary\n",
      "    Passed: 1\n",
      "    Failed: 0\n",
      "[ooooooooook] 100.0% passed\n",
      "\n"
     ]
    }
   ],
   "source": [
    "_ = ok.grade('q2_1_1')"
   ]
  },
  {
   "cell_type": "markdown",
   "metadata": {},
   "source": [
    "**Question 2**: The array `enrollment_proportions` contains the ideal proportions of male and female enrollment in an institution. Complete the following code to simulate 5000 values of the statistic under the null hypothesis. For this problem, we will assume that the average college campus has 1,000 students, so we will sample 1,000 times from `enrollment_proportions` per iteration. You may add new lines of code, if desired.\n",
    "\n",
    "*hint: use `np.random.multinomial` to create samples. How many do we sample? How do we convert to proportion?*"
   ]
  },
  {
   "cell_type": "code",
   "execution_count": 12,
   "metadata": {},
   "outputs": [
    {
     "data": {
      "text/plain": [
       "array([ 0.03 ,  0.01 ,  0.017, ...,  0.   , -0.002,  0.016])"
      ]
     },
     "execution_count": 12,
     "metadata": {},
     "output_type": "execute_result"
    }
   ],
   "source": [
    "enrollment_proportions = np.array([0.5, 0.5])\n",
    "\n",
    "enrollment_simulated_stats = ([])\n",
    "N = 1000\n",
    "\n",
    "for i in np.arange(0,5000):\n",
    "    sample = np.random.multinomial(1000,enrollment_proportions)\n",
    "    simulated_stat = (sample[0])/1000 - (.5)\n",
    "    enrollment_simulated_stats = np.append(simulated_stat,enrollment_simulated_stats)\n",
    "    \n",
    "enrollment_simulated_stats"
   ]
  },
  {
   "cell_type": "code",
   "execution_count": 13,
   "metadata": {
    "deletable": false
   },
   "outputs": [
    {
     "name": "stdout",
     "output_type": "stream",
     "text": [
      "~~~~~~~~~~~~~~~~~~~~~~~~~~~~~~~~~~~~~~~~~~~~~~~~~~~~~~~~~~~~~~~~~~~~~\n",
      "Running tests\n",
      "\n",
      "---------------------------------------------------------------------\n",
      "Test summary\n",
      "    Passed: 1\n",
      "    Failed: 0\n",
      "[ooooooooook] 100.0% passed\n",
      "\n"
     ]
    }
   ],
   "source": [
    "_ = ok.grade('q2_1_2')"
   ]
  },
  {
   "cell_type": "code",
   "execution_count": null,
   "metadata": {
    "deletable": false,
    "for_assignment_type": "student",
    "manual_problem_id": "part_2_simulate_diabetes"
   },
   "outputs": [],
   "source": []
  },
  {
   "cell_type": "markdown",
   "metadata": {},
   "source": [
    "**Question 3**: Run the following cell to generate a histogram of the simulated values of your statistic, along with the observed value.\n",
    "\n",
    "*Make sure to run this cell that draws the histogram, since it will be graded. But otherwise, nothing else in this question is graded.*"
   ]
  },
  {
   "cell_type": "code",
   "execution_count": 14,
   "metadata": {},
   "outputs": [
    {
     "data": {
      "text/plain": [
       "<matplotlib.collections.PathCollection at 0x7f8b0ffa7978>"
      ]
     },
     "execution_count": 14,
     "metadata": {},
     "output_type": "execute_result"
    },
    {
     "data": {
      "image/png": "[encoded data removed]",
      "text/plain": [
       "<Figure size 432x288 with 1 Axes>"
      ]
     },
     "metadata": {},
     "output_type": "display_data"
    }
   ],
   "source": [
    "bpd.DataFrame().assign(SimulatedDistance=enrollment_simulated_stats).plot(kind='hist', density=True)\n",
    "plots.scatter(observed_enrollment_distance, 0, color='red', s=30)"
   ]
  },
  {
   "cell_type": "code",
   "execution_count": 15,
   "metadata": {},
   "outputs": [
    {
     "data": {
      "text/plain": [
       "-14629.618812425948"
      ]
     },
     "execution_count": 15,
     "metadata": {},
     "output_type": "execute_result"
    }
   ],
   "source": [
    "(observed_enrollment_distance-.5)/(np.std(enrollment_simulated_stats)/(1000**1/2))"
   ]
  },
  {
   "cell_type": "markdown",
   "metadata": {},
   "source": [
    "**Question 4**: Based on the results of the test and the empirical distribution of the test statistic under the null, should you reject the null hypothesis, and why? \n",
    "\n",
    "*Hint*: It may be tempting to immediately reject the null hypothesis if the observed statistic is not near the simulated distribution. However, remember to refer back to our hypotheses and think about how much the p-value is! When performing statistical tests in the real world, it's very likely you may not find many significant results."
   ]
  },
  {
   "cell_type": "markdown",
   "metadata": {
    "deletable": false,
    "manual_problem_id": "part_2_null"
   },
   "source": [
    "<hr style=\"color:Maroon;background-color:Maroon;border:0 none; height: 3px;\">\n",
    "\n",
    "This is a difficult question, because the p-value is large but not neccesarily huge. In general, if we are doing 95% confidence then we would reject at p-values greater than 1.96. However, to reject the null hypothesis in favor of the alternative, we would have to prove that women are being accepted LESS than men, when in fact the p-value proves that women are being accepted MORE than men at a statistically significant rate.\n",
    "\n",
    "<hr style=\"color:Maroon;background-color:Maroon;border:0 none; height: 3px;\">"
   ]
  },
  {
   "cell_type": "markdown",
   "metadata": {},
   "source": [
    "**Question 5**: As you read about above in Part 1, there seems to be a trend of greater women enrollment in higher education in the present compared to the past. Given this information, what reasons below may explain the outcome and conclusion of your hypothesis test? Assign the name `possibilities` to a list of choices of the following explanations that **are possible and consistent** with the information from Part 1 and hypothesis test results.\n",
    "\n",
    "1. Social progress and advocation has led to more colleges adopting policies against gender discrimination, leading to a drastically larger proportion of women enrolled in higher education.\n",
    "2. Women have become more concerned than men about their education and careers, leading to more women enrollment.\n",
    "3. Governments have enforced all colleges to diregard gender as a consideration in admissions.\n",
    "4. College admissions gradually became stricter on men in order to promote gender equality in enrollment."
   ]
  },
  {
   "cell_type": "code",
   "execution_count": 25,
   "metadata": {
    "deletable": false,
    "manual_problem_id": "part_2_explanations"
   },
   "outputs": [
    {
     "data": {
      "text/plain": [
       "[1, 2, 4]"
      ]
     },
     "execution_count": 25,
     "metadata": {},
     "output_type": "execute_result"
    }
   ],
   "source": [
    "#...possibilities\n",
    "possibilities = [1,2,4]\n",
    "possibilities"
   ]
  },
  {
   "cell_type": "code",
   "execution_count": 26,
   "metadata": {
    "deletable": false
   },
   "outputs": [
    {
     "name": "stdout",
     "output_type": "stream",
     "text": [
      "~~~~~~~~~~~~~~~~~~~~~~~~~~~~~~~~~~~~~~~~~~~~~~~~~~~~~~~~~~~~~~~~~~~~~\n",
      "Running tests\n",
      "\n",
      "---------------------------------------------------------------------\n",
      "Test summary\n",
      "    Passed: 1\n",
      "    Failed: 0\n",
      "[ooooooooook] 100.0% passed\n",
      "\n"
     ]
    }
   ],
   "source": [
    "_ = ok.grade('q2_1_5')"
   ]
  },
  {
   "cell_type": "markdown",
   "metadata": {},
   "source": [
    "It seems as though the gender imbalance of men and women in education is diminishing, which is great progress. In fact, the progress has come so far that there may appear to be even more women than men overall in college enrollment, which is the trend that is being observed, and forecasted to continue throughout the future. \n",
    "\n",
    "In the next part, we will go deeper into the data and examine if gender bias exists across select instituions.\n",
    "\n",
    "*For more on the changes of women enrollment in higher education, you can check out this article: [Vox](https://www.vox.com/2015/2/17/8050259/discrimination-against-women-is-a-real-problem-in-college-admissions).*"
   ]
  },
  {
   "cell_type": "markdown",
   "metadata": {},
   "source": [
    "### Section 2: Public and Private Institutions"
   ]
  },
  {
   "cell_type": "markdown",
   "metadata": {},
   "source": [
    "Next, we are going to examine the association between the proportion of women enrollment in an institution, and whether the sector of the institution (whether it's public or private). There have been [concerns](https://www.washingtonpost.com/posteverything/wp/2015/07/30/achieving-perfect-gender-balance-on-campus-isnt-that-important-ending-private-colleges-affirmative-action-for-men-is/) growing over the private, elite colleges exercising more prejudice on women. This is because private institutions, like ivy-league schools, are mostly exempt from [*Title IX's ban on sex discrimination*](https://www2.ed.gov/about/offices/list/ocr/docs/tix_dis.html) in admissions, whereas public institutions are regulated by *Title IX*. Of course, this doesn't necessarily mean that private colleges are guranteed to be gender discriminatory, which is the question explored in this section.\n",
    "\n",
    "We'll use the following null and alternative hypotheses:\n",
    "\n",
    "**Null Hypothesis:** The proportion of women enrollment among private institutions is the same as the proportion of women enrollment among public institutions. Any observed difference is due to chance.\n",
    "\n",
    "**Alternative Hypothesis:** The proportion of women enrollment among private institutions is less than the proportion of women enrollment among public institutions. The observed difference is not due to chance."
   ]
  },
  {
   "cell_type": "markdown",
   "metadata": {},
   "source": [
    "**Question 1:** From the provided Null and Alternative Hypotheses, what seems more reasonable to use, A/B Testing or the Standard Hypothesis Testing? Assign the variable `reasonable_test` to one of the following choices. \n",
    "\n",
    "1. Standard Hypothesis Test\n",
    "2. A/B Testing"
   ]
  },
  {
   "cell_type": "code",
   "execution_count": 27,
   "metadata": {
    "deletable": false,
    "manual_problem_id": "part_2_reasonable_test"
   },
   "outputs": [
    {
     "data": {
      "text/plain": [
       "2"
      ]
     },
     "execution_count": 27,
     "metadata": {},
     "output_type": "execute_result"
    }
   ],
   "source": [
    "#...reasonable_test\n",
    "reasonable_test = 2\n",
    "reasonable_test"
   ]
  },
  {
   "cell_type": "code",
   "execution_count": 28,
   "metadata": {
    "deletable": false
   },
   "outputs": [
    {
     "name": "stdout",
     "output_type": "stream",
     "text": [
      "~~~~~~~~~~~~~~~~~~~~~~~~~~~~~~~~~~~~~~~~~~~~~~~~~~~~~~~~~~~~~~~~~~~~~\n",
      "Running tests\n",
      "\n",
      "---------------------------------------------------------------------\n",
      "Test summary\n",
      "    Passed: 1\n",
      "    Failed: 0\n",
      "[ooooooooook] 100.0% passed\n",
      "\n"
     ]
    }
   ],
   "source": [
    "_ = ok.grade('q2_2_1')"
   ]
  },
  {
   "cell_type": "markdown",
   "metadata": {},
   "source": [
    "**Question 2:** To test the hypotheses above, we need a test statistic. \n",
    "\n",
    "A good statistic to use is: *the difference between the mean women enrollment rates of public institutions and private institutions.* \n",
    "**i.e.** if the mean women enrollment rate of public institutions was 0.7, and the mean women enrollment rate of private institutions was 0.4, the test statistic would be 0.7 - 0.4 = 0.3\n",
    "\n",
    "Explain and justify why this statistic is reasonable to test the null/alternative hypotheses in two sentences or less.\n",
    "\n",
    "*Hint*: Remember that larger values of the test statistic should favor the alternative hypothesis over the null."
   ]
  },
  {
   "cell_type": "markdown",
   "metadata": {
    "deletable": false,
    "manual_problem_id": "part_2_ts"
   },
   "source": [
    "<hr style=\"color:Maroon;background-color:Maroon;border:0 none; height: 3px;\">\n",
    "\n",
    "This statistic is reasonable to test differences in enrollment rate between public and private insitutions because our test statistic increases in size as the difference between enrollment rates increases. A drastically large difference in enrollment rate will create a large test statistic, and so we will be able to accept the alternative hypothesis in times of extreme difference.\n",
    "\n",
    "<hr style=\"color:Maroon;background-color:Maroon;border:0 none; height: 3px;\">"
   ]
  },
  {
   "cell_type": "markdown",
   "metadata": {},
   "source": [
    "**Question 3**: Write a function called `compute_test_statistic` that computes your test statistic. It should take a table (colleges), with two columns, `sector` (public or private) and `women_enrollment` (proportion of women enrollment), and compute the test statistic you described above. "
   ]
  },
  {
   "cell_type": "code",
   "execution_count": 29,
   "metadata": {},
   "outputs": [],
   "source": [
    "def compute_test_statistic(tbl):\n",
    "    public_sector = tbl[tbl.get('sector') == 'public'].get('women_enrollment').mean()\n",
    "    private_sector = tbl[tbl.get('sector') == 'private'].get('women_enrollment').mean()\n",
    "    return public_sector-private_sector"
   ]
  },
  {
   "cell_type": "code",
   "execution_count": 30,
   "metadata": {
    "deletable": false
   },
   "outputs": [
    {
     "name": "stdout",
     "output_type": "stream",
     "text": [
      "~~~~~~~~~~~~~~~~~~~~~~~~~~~~~~~~~~~~~~~~~~~~~~~~~~~~~~~~~~~~~~~~~~~~~\n",
      "Running tests\n",
      "\n",
      "---------------------------------------------------------------------\n",
      "Test summary\n",
      "    Passed: 1\n",
      "    Failed: 0\n",
      "[ooooooooook] 100.0% passed\n",
      "\n"
     ]
    }
   ],
   "source": [
    "_ = ok.grade('q2_2_3')"
   ]
  },
  {
   "cell_type": "code",
   "execution_count": null,
   "metadata": {
    "deletable": false,
    "for_assignment_type": "student",
    "manual_problem_id": "part_2_compute_ts"
   },
   "outputs": [],
   "source": []
  },
  {
   "cell_type": "markdown",
   "metadata": {},
   "source": [
    "**Question 4**: Use the function you defined above to compute the observed test statistic, and assign it to the name `colleges_observed_statistic`."
   ]
  },
  {
   "cell_type": "code",
   "execution_count": 31,
   "metadata": {},
   "outputs": [
    {
     "data": {
      "text/plain": [
       "0.037469801026086547"
      ]
     },
     "execution_count": 31,
     "metadata": {},
     "output_type": "execute_result"
    }
   ],
   "source": [
    "colleges_observed_statistic = compute_test_statistic(colleges)\n",
    "colleges_observed_statistic"
   ]
  },
  {
   "cell_type": "code",
   "execution_count": 32,
   "metadata": {
    "deletable": false
   },
   "outputs": [
    {
     "name": "stdout",
     "output_type": "stream",
     "text": [
      "~~~~~~~~~~~~~~~~~~~~~~~~~~~~~~~~~~~~~~~~~~~~~~~~~~~~~~~~~~~~~~~~~~~~~\n",
      "Running tests\n",
      "\n",
      "---------------------------------------------------------------------\n",
      "Test summary\n",
      "    Passed: 1\n",
      "    Failed: 0\n",
      "[ooooooooook] 100.0% passed\n",
      "\n"
     ]
    }
   ],
   "source": [
    "_ = ok.grade('q2_2_4')"
   ]
  },
  {
   "cell_type": "code",
   "execution_count": null,
   "metadata": {
    "deletable": false,
    "for_assignment_type": "student",
    "manual_problem_id": "part_2_frame_os"
   },
   "outputs": [],
   "source": []
  },
  {
   "cell_type": "markdown",
   "metadata": {},
   "source": [
    "Now that we have defined hypotheses and a test statistic, we are ready to conduct a hypothesis test. We'll start by defining a function to simulate the test statistic under the null hypothesis, and then use that function 1000 times to understand the distribution under the null hypothesis.\n",
    "\n",
    "**Question 5**: Write a function named `simulate_colleges_null` to simulate the test statistic under the null hypothesis. \n",
    "\n",
    "The `simulate_colleges_null` function should simulate the null hypothesis once (just once! not 1000 times) and return the value of the test statistic for that simulated sample."
   ]
  },
  {
   "cell_type": "code",
   "execution_count": 33,
   "metadata": {},
   "outputs": [
    {
     "data": {
      "text/plain": [
       "array([ 0.6 ,  0.51,  0.5 , ...,  0.55,  0.34,  0.59])"
      ]
     },
     "execution_count": 33,
     "metadata": {},
     "output_type": "execute_result"
    }
   ],
   "source": [
    "np.random.permutation(colleges.get('women_enrollment'))"
   ]
  },
  {
   "cell_type": "code",
   "execution_count": 34,
   "metadata": {},
   "outputs": [],
   "source": [
    "def simulate_colleges_null():\n",
    "    # hint: since we're only running one iteration here, all we need to do is shuffle column and compute the statistic\n",
    "    simulated_table = colleges.assign(women_enrollment = np.random.permutation(colleges.get('women_enrollment')))\n",
    "    return compute_test_statistic(simulated_table)"
   ]
  },
  {
   "cell_type": "code",
   "execution_count": 35,
   "metadata": {},
   "outputs": [
    {
     "data": {
      "text/plain": [
       "-0.003823290823173231"
      ]
     },
     "execution_count": 35,
     "metadata": {},
     "output_type": "execute_result"
    }
   ],
   "source": [
    "# Run your function once to make sure that it works.\n",
    "simulate_colleges_null()"
   ]
  },
  {
   "cell_type": "code",
   "execution_count": 36,
   "metadata": {
    "deletable": false
   },
   "outputs": [
    {
     "name": "stdout",
     "output_type": "stream",
     "text": [
      "~~~~~~~~~~~~~~~~~~~~~~~~~~~~~~~~~~~~~~~~~~~~~~~~~~~~~~~~~~~~~~~~~~~~~\n",
      "Running tests\n",
      "\n",
      "---------------------------------------------------------------------\n",
      "Test summary\n",
      "    Passed: 1\n",
      "    Failed: 0\n",
      "[ooooooooook] 100.0% passed\n",
      "\n"
     ]
    }
   ],
   "source": [
    "_ = ok.grade('q2_2_5')"
   ]
  },
  {
   "cell_type": "code",
   "execution_count": null,
   "metadata": {
    "deletable": false,
    "for_assignment_type": "student",
    "manual_problem_id": "part_2_simulate_null"
   },
   "outputs": [],
   "source": []
  },
  {
   "cell_type": "markdown",
   "metadata": {},
   "source": [
    "**Question 6**: Fill in the blanks below to complete the simulation for the hypothesis test. Your simulation should compute 1000 values of the test statistic under the null hypothesis and store the result in the array `colleges_simulated_stats`.\n",
    "\n",
    "*Hint*: You should use the function you wrote above in Question 5.\n",
    "\n",
    "*Note*: **Warning**: running your code might take a few minutes!  We encourage you to check your `simulate_colleges_null()` code to make sure it works correctly before running this cell. "
   ]
  },
  {
   "cell_type": "code",
   "execution_count": 37,
   "metadata": {},
   "outputs": [],
   "source": [
    "colleges_simulated_stats = ([])\n",
    "\n",
    "for i in np.arange(0,1000):\n",
    "    simulated_stat = simulate_colleges_null()\n",
    "    colleges_simulated_stats = np.append(simulated_stat,colleges_simulated_stats)"
   ]
  },
  {
   "cell_type": "code",
   "execution_count": 38,
   "metadata": {
    "deletable": false,
    "for_assignment_type": "student",
    "manual_problem_id": "part_2_hypothesis_test"
   },
   "outputs": [
    {
     "name": "stdout",
     "output_type": "stream",
     "text": [
      "~~~~~~~~~~~~~~~~~~~~~~~~~~~~~~~~~~~~~~~~~~~~~~~~~~~~~~~~~~~~~~~~~~~~~\n",
      "Running tests\n",
      "\n",
      "---------------------------------------------------------------------\n",
      "Test summary\n",
      "    Passed: 1\n",
      "    Failed: 0\n",
      "[ooooooooook] 100.0% passed\n",
      "\n"
     ]
    }
   ],
   "source": [
    "_ = ok.grade('q2_2_6')"
   ]
  },
  {
   "cell_type": "markdown",
   "metadata": {},
   "source": [
    "The following line will plot the histogram of the simulated test statistics, as well as a point for the observed test statistic."
   ]
  },
  {
   "cell_type": "code",
   "execution_count": 39,
   "metadata": {
    "deletable": false,
    "manual_problem_id": "disease_q_4_1_6"
   },
   "outputs": [
    {
     "data": {
      "image/png": "[encoded data removed]",
      "text/plain": [
       "<Figure size 432x288 with 1 Axes>"
      ]
     },
     "metadata": {},
     "output_type": "display_data"
    }
   ],
   "source": [
    "bpd.DataFrame().assign(SimulatedStats=colleges_simulated_stats).plot(kind='hist', density=True)\n",
    "plots.scatter(colleges_observed_statistic, 0, color='red', s=30);"
   ]
  },
  {
   "cell_type": "markdown",
   "metadata": {},
   "source": [
    "**Question 7**: Compute the p-value for this hypothesis test, and assign it to the name `colleges_p_value`.\n",
    "\n",
    "*Hint*: Don't worry if you think the p-value is too extreme. Recall that a significantly low p-value shows that the observed statistic isn't very likely to have occurred by chance. Since private instituions aren't obliged under Title IX, there may be more cases of gender imbalance."
   ]
  },
  {
   "cell_type": "code",
   "execution_count": 40,
   "metadata": {
    "deletable": false,
    "for_assignment_type": "student",
    "manual_problem_id": "part_2_p_value"
   },
   "outputs": [
    {
     "data": {
      "text/plain": [
       "0.0"
      ]
     },
     "execution_count": 40,
     "metadata": {},
     "output_type": "execute_result"
    }
   ],
   "source": [
    "#...colleges_p_value\n",
    "colleges_p_value = np.count_nonzero(colleges_simulated_stats > colleges_observed_statistic)/len(colleges_simulated_stats)\n",
    "colleges_p_value"
   ]
  },
  {
   "cell_type": "code",
   "execution_count": 41,
   "metadata": {
    "deletable": false,
    "scrolled": true
   },
   "outputs": [
    {
     "name": "stdout",
     "output_type": "stream",
     "text": [
      "~~~~~~~~~~~~~~~~~~~~~~~~~~~~~~~~~~~~~~~~~~~~~~~~~~~~~~~~~~~~~~~~~~~~~\n",
      "Running tests\n",
      "\n",
      "---------------------------------------------------------------------\n",
      "Test summary\n",
      "    Passed: 1\n",
      "    Failed: 0\n",
      "[ooooooooook] 100.0% passed\n",
      "\n"
     ]
    }
   ],
   "source": [
    "_ = ok.grade('q2_2_7')"
   ]
  },
  {
   "cell_type": "markdown",
   "metadata": {},
   "source": [
    "**Question 8**: Given the results of the simulation above and the calculated p-value, what can we say about the conclusion of the hypothesis test *(do we reject or fail to reject the null)*? That is, are the proportions of women enrollment in public and private institutions different or the same?"
   ]
  },
  {
   "cell_type": "markdown",
   "metadata": {
    "deletable": false,
    "manual_problem_id": "disease_2_1"
   },
   "source": [
    "<hr style=\"color:Maroon;background-color:Maroon;border:0 none; height: 3px;\">\n",
    "\n",
    "Reject the null hypothesis, there is evidence to believe that the enrollment of women in public insuitutions is difference than enrollment of women in private institutions.\n",
    "\n",
    "<hr style=\"color:Maroon;background-color:Maroon;border:0 none; height: 3px;\">"
   ]
  },
  {
   "cell_type": "markdown",
   "metadata": {},
   "source": [
    "### Section 3: Geographic Location"
   ]
  },
  {
   "cell_type": "markdown",
   "metadata": {},
   "source": [
    "Is it necessarily the case that private institutions discriminate based on gender? In this section, we will explore this question using confidence intervals and explore one possible confounder which is the geographic region of the institution, reported in the column `Geographic region`."
   ]
  },
  {
   "cell_type": "markdown",
   "metadata": {},
   "source": [
    "To begin the exploration, you will (re)implement the investigation into the association between women enrollment rate and sector of institution using confidence intervals, which we'll also use to examine the role of how other factors, such as geographic location, plays in the association.\n",
    "\n",
    "Using confidence intervals to investigate the possible association between women enrollment rate and the sector of the institution. We'll use the following null and alternative hypotheses:\n",
    "\n",
    "**Null Hypothesis**: The average women enrollment rate of private institutions is drawn from the same distribution as the overall population of institutions; differences are due to chance.\n",
    "\n",
    "**Alternative Hypothesis**: The average women enrollment rate of private institutions is lower than the women enrollment rate of the overall population; differences are not due to chance."
   ]
  },
  {
   "cell_type": "markdown",
   "metadata": {},
   "source": [
    "**Question 1** Calculate the average women enrollment of private institutions and assign it to the name `private_mean_enrollment`."
   ]
  },
  {
   "cell_type": "code",
   "execution_count": 42,
   "metadata": {},
   "outputs": [
    {
     "data": {
      "text/plain": [
       "0.51901861252115056"
      ]
     },
     "execution_count": 42,
     "metadata": {},
     "output_type": "execute_result"
    }
   ],
   "source": [
    "#...private_mean_enrollment\n",
    "private_mean_enrollment = colleges[colleges.get('sector') == 'private'].get('women_enrollment').mean()\n",
    "private_mean_enrollment"
   ]
  },
  {
   "cell_type": "code",
   "execution_count": 43,
   "metadata": {},
   "outputs": [
    {
     "name": "stdout",
     "output_type": "stream",
     "text": [
      "~~~~~~~~~~~~~~~~~~~~~~~~~~~~~~~~~~~~~~~~~~~~~~~~~~~~~~~~~~~~~~~~~~~~~\n",
      "Running tests\n",
      "\n",
      "---------------------------------------------------------------------\n",
      "Test summary\n",
      "    Passed: 1\n",
      "    Failed: 0\n",
      "[ooooooooook] 100.0% passed\n",
      "\n"
     ]
    }
   ],
   "source": [
    "_ = ok.grade('q2_3_1')"
   ]
  },
  {
   "cell_type": "markdown",
   "metadata": {},
   "source": [
    "**Question 2**: Using bootstraping, calculate 5000 estimates of the *average women enrollment* from the population and store them in an array `enrollment_means`. \n",
    "\n",
    "*It may take a few minutes to run, which is fine.*"
   ]
  },
  {
   "cell_type": "code",
   "execution_count": 44,
   "metadata": {},
   "outputs": [],
   "source": [
    "enrollment_means = ([])\n",
    "\n",
    "for i in np.arange(0,5000):\n",
    "    resample = colleges.sample(colleges.shape[0],replace=True)\n",
    "    enrollment_mean = resample.get('women_enrollment').mean()\n",
    "    enrollment_means = np.append(enrollment_mean,enrollment_means)"
   ]
  },
  {
   "cell_type": "code",
   "execution_count": 45,
   "metadata": {},
   "outputs": [
    {
     "name": "stdout",
     "output_type": "stream",
     "text": [
      "~~~~~~~~~~~~~~~~~~~~~~~~~~~~~~~~~~~~~~~~~~~~~~~~~~~~~~~~~~~~~~~~~~~~~\n",
      "Running tests\n",
      "\n",
      "---------------------------------------------------------------------\n",
      "Test summary\n",
      "    Passed: 1\n",
      "    Failed: 0\n",
      "[ooooooooook] 100.0% passed\n",
      "\n"
     ]
    }
   ],
   "source": [
    "_ = ok.grade('q2_3_2')"
   ]
  },
  {
   "cell_type": "markdown",
   "metadata": {},
   "source": [
    "**Question 3**: Fill in the function below to calculate the 95% confidence interval of the inputted `means` array. We will use this function to calculate the 95% confidence interval of the *average women enrollment* of institutions in our data. (Compute the lower and upper ends of the interval, named `lower_bound` and `upper_bound`, respectively.)"
   ]
  },
  {
   "cell_type": "code",
   "execution_count": 46,
   "metadata": {},
   "outputs": [],
   "source": [
    "def calculate_ci(means):\n",
    "    #calculate lower bound\n",
    "    lower = np.percentile(means,2.5)\n",
    "    \n",
    "    #calculate upper bound\n",
    "    upper = np.percentile(means,97.5)\n",
    "    \n",
    "    return lower, upper"
   ]
  },
  {
   "cell_type": "code",
   "execution_count": 47,
   "metadata": {},
   "outputs": [
    {
     "name": "stdout",
     "output_type": "stream",
     "text": [
      "95% Confidence interval:  [0.5320551622594478, 0.5423677877231496]\n"
     ]
    }
   ],
   "source": [
    "lower_bound, upper_bound = calculate_ci(enrollment_means)\n",
    "\n",
    "print(\"95% Confidence interval: \", \"[{0}, {1}]\".format(lower_bound, upper_bound))"
   ]
  },
  {
   "cell_type": "code",
   "execution_count": 48,
   "metadata": {},
   "outputs": [
    {
     "name": "stdout",
     "output_type": "stream",
     "text": [
      "~~~~~~~~~~~~~~~~~~~~~~~~~~~~~~~~~~~~~~~~~~~~~~~~~~~~~~~~~~~~~~~~~~~~~\n",
      "Running tests\n",
      "\n",
      "---------------------------------------------------------------------\n",
      "Test summary\n",
      "    Passed: 1\n",
      "    Failed: 0\n",
      "[ooooooooook] 100.0% passed\n",
      "\n"
     ]
    }
   ],
   "source": [
    "_ = ok.grade('q2_3_3')"
   ]
  },
  {
   "cell_type": "code",
   "execution_count": 49,
   "metadata": {},
   "outputs": [
    {
     "data": {
      "image/png": "[encoded data removed]",
      "text/plain": [
       "<Figure size 432x288 with 1 Axes>"
      ]
     },
     "metadata": {},
     "output_type": "display_data"
    }
   ],
   "source": [
    "bpd.DataFrame().assign(MeanEnrollment=enrollment_means).plot(kind='hist', density=True)\n",
    "plots.plot([lower_bound, upper_bound], [0, 0], color='lime')\n",
    "plots.scatter([private_mean_enrollment], [0], color='r');"
   ]
  },
  {
   "cell_type": "code",
   "execution_count": null,
   "metadata": {},
   "outputs": [],
   "source": []
  },
  {
   "cell_type": "markdown",
   "metadata": {},
   "source": [
    "**Question 4**: Interpret your results from the plot displayed above. Should you reject the null hypothesis, and what conclusion can you make with the confidence interval and calculated statistic about the women enrollment rate of private institutions?"
   ]
  },
  {
   "cell_type": "markdown",
   "metadata": {},
   "source": [
    "<hr style=\"color:Maroon;background-color:Maroon;border:0 none; height: 3px;\">\n",
    "\n",
    "We should reject the null hypothesis that there is no mean difference in female enrollment between public and private sectors. We have evidence to believe that there is a difference in female enrollment between public and private sectors.\n",
    "\n",
    "<hr style=\"color:Maroon;background-color:Maroon;border:0 none; height: 3px;\">"
   ]
  },
  {
   "cell_type": "markdown",
   "metadata": {},
   "source": [
    "You are now going to test for an association between women enrollment and institution sector *while controlling for* the geographic region of the college. The column `Geographic region` contains data about the region of each institution. This means that in the simulation, you will select subpopulations of each region and separately test for an association in each of those subpopulations. You will do this using the following procedure:\n",
    "\n",
    "1. In the outter for-loop, loop through each region in the dataset.\n",
    "2. For all colleges within that certain region:\n",
    "    - Compute the 95% confidence interval of the *average women enrollment* as in question 3 above. Use 5000 simulations to compute each bootstrap. You may reuse the `calculate_ci` function you defined above.\n",
    "    - Compute the *average women enrollment* of institutions that are in the private sector.\n",
    "    \n",
    "In the end, you should have nine groups of regions, each with its own confidence interval and observed test statistic.\n",
    "\n",
    "**Question 5**: Using the code skeleton below, simulate the bootstrap procedure sketched out above. Save the confidence intervals in a list called `enrollment_ci_by_region` and the observed statistics in a list called `enrollment_mean_by_region`.\n",
    "\n",
    "*Note*: The elements of `enrollment_ci_by_region` should be lists.\n",
    "*Note*: You may want to reduce the number of simulations while you're developing your code! However, in your final submission, make sure your code runs 5000 simulations. It will take a while for it to run."
   ]
  },
  {
   "cell_type": "code",
   "execution_count": 50,
   "metadata": {},
   "outputs": [
    {
     "name": "stdout",
     "output_type": "stream",
     "text": [
      "[[0.52919642857142857, 0.55901785714285712], [0.52213114754098366, 0.54644808743169404], [0.5156925837320574, 0.53990669856459328], [0.49895572916666664, 0.54364583333333327], [0.51883124999999997, 0.54683333333333339], [0.50571428571428567, 0.54833333333333323], [0.53749076754695679, 0.55945210154752456], [0.53030612244897957, 0.56147510741138551], [0.14999999999999999, 0.14999999999999999]]\n",
      "[0.53072727272727271, 0.52396396396396405, 0.51790000000000003, 0.49862068965517242, 0.52057971014492754, 0.55384615384615377, 0.51812499999999995, 0.51097560975609757, nan]\n"
     ]
    }
   ],
   "source": [
    "regions = np.unique(colleges.get('Geographic region'))\n",
    "\n",
    "enrollment_ci_by_region = []\n",
    "enrollment_mean_by_region = []\n",
    "\n",
    "for i in regions:\n",
    "    # Use bootstrap for the region\n",
    "    region = colleges[colleges.get('Geographic region') == i]\n",
    "    \n",
    "    enrollment_means = []\n",
    "    for j in np.arange(5000):\n",
    "        resample = region.sample(region.shape[0],replace=True)\n",
    "        enrollment_mean = resample.get('women_enrollment').mean()\n",
    "        enrollment_means.append(enrollment_mean)\n",
    "\n",
    "    # Now record the confidence interval and test statistic\n",
    "    lower_bound = np.percentile(enrollment_means,2.5)\n",
    "    upper_bound = np.percentile(enrollment_means,97.5)\n",
    "    ci = [lower_bound, upper_bound]\n",
    "    enrollment_ci_by_region.append(ci)\n",
    "    \n",
    "    private_mean = region[region.get('sector') == 'private'].get('women_enrollment').mean()\n",
    "    enrollment_mean_by_region.append(private_mean)\n",
    "\n",
    "print(enrollment_ci_by_region)\n",
    "print(enrollment_mean_by_region)"
   ]
  },
  {
   "cell_type": "code",
   "execution_count": 51,
   "metadata": {},
   "outputs": [
    {
     "name": "stdout",
     "output_type": "stream",
     "text": [
      "~~~~~~~~~~~~~~~~~~~~~~~~~~~~~~~~~~~~~~~~~~~~~~~~~~~~~~~~~~~~~~~~~~~~~\n",
      "Running tests\n",
      "\n",
      "---------------------------------------------------------------------\n",
      "Test summary\n",
      "    Passed: 1\n",
      "    Failed: 0\n",
      "[ooooooooook] 100.0% passed\n",
      "\n"
     ]
    }
   ],
   "source": [
    "_ = ok.grade('q2_3_5')"
   ]
  },
  {
   "cell_type": "markdown",
   "metadata": {},
   "source": [
    "The cell below plots each confidence interval and the corresponding test statistic for each (range of) value(s) of diastolic blood pressure. The x-axis is diastolic blood pressure, the y-axis is total cholesterol."
   ]
  },
  {
   "cell_type": "code",
   "execution_count": 52,
   "metadata": {},
   "outputs": [
    {
     "data": {
      "image/png": "[encoded data removed]",
      "text/plain": [
       "<Figure size 432x288 with 1 Axes>"
      ]
     },
     "metadata": {},
     "output_type": "display_data"
    }
   ],
   "source": [
    "# Run this cell; DO NOT CHANGE THIS CELL\n",
    "\n",
    "for k, ci, stat in zip(regions, enrollment_ci_by_region, enrollment_mean_by_region):\n",
    "    plots.plot([k,k], ci)\n",
    "    plots.scatter([k], [stat])\n",
    "    plots.xticks(rotation=90)\n",
    "    \n",
    "plots.xlabel('Region')\n",
    "plots.ylabel('Women Enrollment Rate');"
   ]
  },
  {
   "cell_type": "markdown",
   "metadata": {},
   "source": [
    "**Question 6**: Assign `enrollment_explanations` to a list of the following statements that are possible and consistent with the observed data/plot above.\n",
    "\n",
    "1. There is no association between women enrollment and sector of institution across the regions of the country.\n",
    "2. There may be an assocation between women enrollment and sector of institution in the southern area of the country.\n",
    "3. There is no assocation between women enrollment and sector of institution in the southern area of the country.\n",
    "4. There is not a significant association between women enrollment and sector of institution in the far western area of the country."
   ]
  },
  {
   "cell_type": "code",
   "execution_count": 53,
   "metadata": {},
   "outputs": [],
   "source": [
    "#...enrollment_explanations\n",
    "enrollment_explanations = [2,4]"
   ]
  },
  {
   "cell_type": "code",
   "execution_count": 54,
   "metadata": {},
   "outputs": [
    {
     "name": "stdout",
     "output_type": "stream",
     "text": [
      "~~~~~~~~~~~~~~~~~~~~~~~~~~~~~~~~~~~~~~~~~~~~~~~~~~~~~~~~~~~~~~~~~~~~~\n",
      "Running tests\n",
      "\n",
      "---------------------------------------------------------------------\n",
      "Test summary\n",
      "    Passed: 1\n",
      "    Failed: 0\n",
      "[ooooooooook] 100.0% passed\n",
      "\n"
     ]
    }
   ],
   "source": [
    "_ = ok.grade('q2_3_6')"
   ]
  },
  {
   "cell_type": "markdown",
   "metadata": {},
   "source": [
    "### Summary\n",
    "Overall, we have analyzed the enrollment rates of men and women in institutions across the country and saw how evolving trends of admission standards. We did these analyses through statistical tests and confidence intervals. An important part of data science is to interpret the results we make by connecting to other data and information sources. We connected results generated to current trends in society, which is an essential part of a data scientist. Here is a plot showing the forecasting of enrollment rates into the future, does it agree with your intuition?\n",
    "\n",
    "<img src=\"degrees.jpg\"/>"
   ]
  },
  {
   "cell_type": "markdown",
   "metadata": {},
   "source": [
    "#### Run the below cell to generate a backup submission for the work you have done so far."
   ]
  },
  {
   "cell_type": "code",
   "execution_count": 55,
   "metadata": {},
   "outputs": [
    {
     "data": {
      "application/javascript": [
       "IPython.notebook.save_checkpoint();"
      ],
      "text/plain": [
       "<IPython.core.display.Javascript object>"
      ]
     },
     "metadata": {},
     "output_type": "display_data"
    },
    {
     "data": {
      "application/javascript": [
       "IPython.notebook.save_notebook();"
      ],
      "text/plain": [
       "<IPython.core.display.Javascript object>"
      ]
     },
     "metadata": {},
     "output_type": "display_data"
    },
    {
     "name": "stdout",
     "output_type": "stream",
     "text": [
      "Saving notebook... Saved 'project02.ipynb'.\n",
      "Submit... 100% complete\n",
      "Submission successful for user: kjay@ucsd.edu\n",
      "URL: https://okpy.org/ucsd/dsc10/sp20/project02/submissions/V753Ko\n",
      "\n"
     ]
    }
   ],
   "source": [
    "_ = ok.submit()"
   ]
  },
  {
   "cell_type": "markdown",
   "metadata": {},
   "source": [
    "# SDPD Police Calls"
   ]
  },
  {
   "cell_type": "markdown",
   "metadata": {
    "deletable": false,
    "manual_problem_id": "part_3_determine_causality"
   },
   "source": [
    "## Part 3: Police Call Trends"
   ]
  },
  {
   "cell_type": "markdown",
   "metadata": {
    "deletable": false,
    "manual_problem_id": "part_3_ethical"
   },
   "source": [
    "We now move on to a new topic, SDPD (San Diego Police Department) police calls/reports. As you know, the COVID-19 situation has greatly affected many areas of our society, most likely including police reports. This is because more people have inclined to stay at home, as stores and other places close. As a result, the amount of police reports, as well as the type of reports, may have likely changed as well. In the following sections, we will explore these questions and discover how police reports have changed from COVID-19, using data from SDPD.\n",
    "\n",
    "\n",
    "You can read more about the data here: https://data.sandiego.gov/datasets/police-calls-for-service/\n",
    "\n",
    "![website](website.PNG)"
   ]
  },
  {
   "cell_type": "code",
   "execution_count": 56,
   "metadata": {
    "deletable": false,
    "manual_problem_id": "disease_3_1"
   },
   "outputs": [
    {
     "data": {
      "text/html": [
       "<div>\n",
       "<style scoped>\n",
       "    .dataframe tbody tr th:only-of-type {\n",
       "        vertical-align: middle;\n",
       "    }\n",
       "\n",
       "    .dataframe tbody tr th {\n",
       "        vertical-align: top;\n",
       "    }\n",
       "\n",
       "    .dataframe thead th {\n",
       "        text-align: right;\n",
       "    }\n",
       "</style>\n",
       "<table border=\"1\" class=\"dataframe\">\n",
       "  <thead>\n",
       "    <tr style=\"text-align: right;\">\n",
       "      <th></th>\n",
       "      <th>incident_num</th>\n",
       "      <th>date_time</th>\n",
       "      <th>day_of_week</th>\n",
       "      <th>address_number_primary</th>\n",
       "      <th>address_dir_primary</th>\n",
       "      <th>address_road_primary</th>\n",
       "      <th>address_sfx_primary</th>\n",
       "      <th>address_dir_intersecting</th>\n",
       "      <th>address_road_intersecting</th>\n",
       "      <th>address_sfx_intersecting</th>\n",
       "      <th>call_type</th>\n",
       "      <th>disposition</th>\n",
       "      <th>beat</th>\n",
       "      <th>priority</th>\n",
       "    </tr>\n",
       "  </thead>\n",
       "  <tbody>\n",
       "    <tr>\n",
       "      <th>0</th>\n",
       "      <td>E20010000001</td>\n",
       "      <td>2020-01-01 00:00:09</td>\n",
       "      <td>4</td>\n",
       "      <td>400</td>\n",
       "      <td>NaN</td>\n",
       "      <td>06TH</td>\n",
       "      <td>AVE</td>\n",
       "      <td>NaN</td>\n",
       "      <td>NaN</td>\n",
       "      <td>NaN</td>\n",
       "      <td>11-8</td>\n",
       "      <td>A</td>\n",
       "      <td>523</td>\n",
       "      <td>0</td>\n",
       "    </tr>\n",
       "    <tr>\n",
       "      <th>1</th>\n",
       "      <td>E20010000002</td>\n",
       "      <td>2020-01-01 00:00:20</td>\n",
       "      <td>4</td>\n",
       "      <td>5000</td>\n",
       "      <td>NaN</td>\n",
       "      <td>UNIVERSITY</td>\n",
       "      <td>AVE</td>\n",
       "      <td>NaN</td>\n",
       "      <td>NaN</td>\n",
       "      <td>NaN</td>\n",
       "      <td>FD</td>\n",
       "      <td>K</td>\n",
       "      <td>826</td>\n",
       "      <td>2</td>\n",
       "    </tr>\n",
       "    <tr>\n",
       "      <th>2</th>\n",
       "      <td>E20010000003</td>\n",
       "      <td>2020-01-01 00:00:21</td>\n",
       "      <td>4</td>\n",
       "      <td>800</td>\n",
       "      <td>NaN</td>\n",
       "      <td>SAWTELLE</td>\n",
       "      <td>AVE</td>\n",
       "      <td>NaN</td>\n",
       "      <td>NaN</td>\n",
       "      <td>NaN</td>\n",
       "      <td>AU1</td>\n",
       "      <td>W</td>\n",
       "      <td>434</td>\n",
       "      <td>1</td>\n",
       "    </tr>\n",
       "    <tr>\n",
       "      <th>3</th>\n",
       "      <td>E20010000004</td>\n",
       "      <td>2020-01-01 00:00:32</td>\n",
       "      <td>4</td>\n",
       "      <td>5000</td>\n",
       "      <td>NaN</td>\n",
       "      <td>UNIVERSITY</td>\n",
       "      <td>AVE</td>\n",
       "      <td>NaN</td>\n",
       "      <td>NaN</td>\n",
       "      <td>NaN</td>\n",
       "      <td>FD</td>\n",
       "      <td>K</td>\n",
       "      <td>826</td>\n",
       "      <td>2</td>\n",
       "    </tr>\n",
       "    <tr>\n",
       "      <th>4</th>\n",
       "      <td>E20010000005</td>\n",
       "      <td>2020-01-01 00:00:42</td>\n",
       "      <td>4</td>\n",
       "      <td>5200</td>\n",
       "      <td>NaN</td>\n",
       "      <td>CLAIREMONT MESA</td>\n",
       "      <td>BLV</td>\n",
       "      <td>NaN</td>\n",
       "      <td>NaN</td>\n",
       "      <td>NaN</td>\n",
       "      <td>415V</td>\n",
       "      <td>K</td>\n",
       "      <td>111</td>\n",
       "      <td>1</td>\n",
       "    </tr>\n",
       "    <tr>\n",
       "      <th>...</th>\n",
       "      <td>...</td>\n",
       "      <td>...</td>\n",
       "      <td>...</td>\n",
       "      <td>...</td>\n",
       "      <td>...</td>\n",
       "      <td>...</td>\n",
       "      <td>...</td>\n",
       "      <td>...</td>\n",
       "      <td>...</td>\n",
       "      <td>...</td>\n",
       "      <td>...</td>\n",
       "      <td>...</td>\n",
       "      <td>...</td>\n",
       "      <td>...</td>\n",
       "    </tr>\n",
       "    <tr>\n",
       "      <th>198740</th>\n",
       "      <td>E20050003524</td>\n",
       "      <td>2020-05-02 23:31:30</td>\n",
       "      <td>7</td>\n",
       "      <td>0</td>\n",
       "      <td>NaN</td>\n",
       "      <td>EL CAJON</td>\n",
       "      <td>BLV</td>\n",
       "      <td>NaN</td>\n",
       "      <td>MC CLINTOCK</td>\n",
       "      <td>NaN</td>\n",
       "      <td>PARTY</td>\n",
       "      <td>K</td>\n",
       "      <td>838</td>\n",
       "      <td>3</td>\n",
       "    </tr>\n",
       "    <tr>\n",
       "      <th>198741</th>\n",
       "      <td>E20050003533</td>\n",
       "      <td>2020-05-02 23:36:11</td>\n",
       "      <td>7</td>\n",
       "      <td>0</td>\n",
       "      <td>NaN</td>\n",
       "      <td>HARBOR</td>\n",
       "      <td>DR</td>\n",
       "      <td>NaN</td>\n",
       "      <td>SIGSBEE</td>\n",
       "      <td>NaN</td>\n",
       "      <td>10851</td>\n",
       "      <td>DUP</td>\n",
       "      <td>511</td>\n",
       "      <td>0</td>\n",
       "    </tr>\n",
       "    <tr>\n",
       "      <th>198742</th>\n",
       "      <td>E20050003537</td>\n",
       "      <td>2020-05-02 23:38:18</td>\n",
       "      <td>7</td>\n",
       "      <td>0</td>\n",
       "      <td>NaN</td>\n",
       "      <td>PARK</td>\n",
       "      <td>BLV</td>\n",
       "      <td>NaN</td>\n",
       "      <td>NaN</td>\n",
       "      <td>NaN</td>\n",
       "      <td>10851</td>\n",
       "      <td>CAN</td>\n",
       "      <td>511</td>\n",
       "      <td>1</td>\n",
       "    </tr>\n",
       "    <tr>\n",
       "      <th>198743</th>\n",
       "      <td>E20050003542</td>\n",
       "      <td>2020-05-02 23:42:19</td>\n",
       "      <td>7</td>\n",
       "      <td>6500</td>\n",
       "      <td>NaN</td>\n",
       "      <td>MISSION GORGE</td>\n",
       "      <td>RD</td>\n",
       "      <td>NaN</td>\n",
       "      <td>NaN</td>\n",
       "      <td>NaN</td>\n",
       "      <td>CW</td>\n",
       "      <td>K</td>\n",
       "      <td>321</td>\n",
       "      <td>1</td>\n",
       "    </tr>\n",
       "    <tr>\n",
       "      <th>198744</th>\n",
       "      <td>E20050003550</td>\n",
       "      <td>2020-05-02 23:47:31</td>\n",
       "      <td>7</td>\n",
       "      <td>11700</td>\n",
       "      <td>NaN</td>\n",
       "      <td>EVERGOLD</td>\n",
       "      <td>ST</td>\n",
       "      <td>NaN</td>\n",
       "      <td>NaN</td>\n",
       "      <td>NaN</td>\n",
       "      <td>11-6</td>\n",
       "      <td>DUP</td>\n",
       "      <td>246</td>\n",
       "      <td>1</td>\n",
       "    </tr>\n",
       "  </tbody>\n",
       "</table>\n",
       "<p>198745 rows × 14 columns</p>\n",
       "</div>"
      ],
      "text/plain": [
       "        incident_num            date_time  day_of_week  \\\n",
       "0       E20010000001  2020-01-01 00:00:09            4   \n",
       "1       E20010000002  2020-01-01 00:00:20            4   \n",
       "2       E20010000003  2020-01-01 00:00:21            4   \n",
       "3       E20010000004  2020-01-01 00:00:32            4   \n",
       "4       E20010000005  2020-01-01 00:00:42            4   \n",
       "...              ...                  ...          ...   \n",
       "198740  E20050003524  2020-05-02 23:31:30            7   \n",
       "198741  E20050003533  2020-05-02 23:36:11            7   \n",
       "198742  E20050003537  2020-05-02 23:38:18            7   \n",
       "198743  E20050003542  2020-05-02 23:42:19            7   \n",
       "198744  E20050003550  2020-05-02 23:47:31            7   \n",
       "\n",
       "        address_number_primary address_dir_primary address_road_primary  \\\n",
       "0                          400                 NaN                 06TH   \n",
       "1                         5000                 NaN           UNIVERSITY   \n",
       "2                          800                 NaN             SAWTELLE   \n",
       "3                         5000                 NaN           UNIVERSITY   \n",
       "4                         5200                 NaN      CLAIREMONT MESA   \n",
       "...                        ...                 ...                  ...   \n",
       "198740                       0                 NaN             EL CAJON   \n",
       "198741                       0                 NaN               HARBOR   \n",
       "198742                       0                 NaN                 PARK   \n",
       "198743                    6500                 NaN        MISSION GORGE   \n",
       "198744                   11700                 NaN             EVERGOLD   \n",
       "\n",
       "       address_sfx_primary  address_dir_intersecting  \\\n",
       "0                      AVE                       NaN   \n",
       "1                      AVE                       NaN   \n",
       "2                      AVE                       NaN   \n",
       "3                      AVE                       NaN   \n",
       "4                      BLV                       NaN   \n",
       "...                    ...                       ...   \n",
       "198740                 BLV                       NaN   \n",
       "198741                  DR                       NaN   \n",
       "198742                 BLV                       NaN   \n",
       "198743                  RD                       NaN   \n",
       "198744                  ST                       NaN   \n",
       "\n",
       "       address_road_intersecting  address_sfx_intersecting call_type  \\\n",
       "0                            NaN                       NaN      11-8   \n",
       "1                            NaN                       NaN        FD   \n",
       "2                            NaN                       NaN       AU1   \n",
       "3                            NaN                       NaN        FD   \n",
       "4                            NaN                       NaN      415V   \n",
       "...                          ...                       ...       ...   \n",
       "198740               MC CLINTOCK                       NaN     PARTY   \n",
       "198741                   SIGSBEE                       NaN     10851   \n",
       "198742                       NaN                       NaN     10851   \n",
       "198743                       NaN                       NaN        CW   \n",
       "198744                       NaN                       NaN      11-6   \n",
       "\n",
       "       disposition  beat  priority  \n",
       "0                A   523         0  \n",
       "1                K   826         2  \n",
       "2                W   434         1  \n",
       "3                K   826         2  \n",
       "4                K   111         1  \n",
       "...            ...   ...       ...  \n",
       "198740           K   838         3  \n",
       "198741         DUP   511         0  \n",
       "198742         CAN   511         1  \n",
       "198743           K   321         1  \n",
       "198744         DUP   246         1  \n",
       "\n",
       "[198745 rows x 14 columns]"
      ]
     },
     "execution_count": 56,
     "metadata": {},
     "output_type": "execute_result"
    }
   ],
   "source": [
    "policeCalls = bpd.read_csv(\"pd_calls_for_service_2020_datasd.csv\")\n",
    "policeCalls"
   ]
  },
  {
   "cell_type": "markdown",
   "metadata": {
    "deletable": false,
    "manual_problem_id": "disease_4_1_1"
   },
   "source": [
    "### Section 1: Analyzing Police Call Trends\n",
    "\n",
    "In this section, we will be analyzing the trends of increases and decreases in overall and different types of police calls. We will examine how COVID-19 may have impacted the trends of reports that occurred through statistical analyses and data visualization. We will use March 15th (3-15) as the benchmark date for when COVID-19 may have began impacting police reports. Let's get started!"
   ]
  },
  {
   "cell_type": "markdown",
   "metadata": {},
   "source": [
    "**Question 1**: The column `date_time` in the policeCalls table contains the date and time of each incident report. We are particularly interested in examining the dates of incidents, so we will extract out just the dates. \n",
    "\n",
    "Define a function `getDate` below that takes in a datetime value and returns only the date. For example, if the datetime value is `2020-10-20 22:32:12`, then the function should return only `2020-10-20`.\n",
    "\n",
    "*Hint: How do we split a string value into 2 separate values?*"
   ]
  },
  {
   "cell_type": "code",
   "execution_count": 58,
   "metadata": {
    "deletable": false
   },
   "outputs": [],
   "source": [
    "def getDate(datetime):\n",
    "    return datetime.split()[0]\n"
   ]
  },
  {
   "cell_type": "markdown",
   "metadata": {},
   "source": [
    "Now that we have our function, we can apply it to the `date_time` column in our data and get a column of the dates of each incident report. Run the code cell below to make sure your function works correctly. You should have a new column `date` that holds the value of the date of the incident."
   ]
  },
  {
   "cell_type": "code",
   "execution_count": 59,
   "metadata": {
    "deletable": false,
    "manual_problem_id": "part_4_chol_stat",
    "scrolled": true
   },
   "outputs": [
    {
     "data": {
      "text/html": [
       "<div>\n",
       "<style scoped>\n",
       "    .dataframe tbody tr th:only-of-type {\n",
       "        vertical-align: middle;\n",
       "    }\n",
       "\n",
       "    .dataframe tbody tr th {\n",
       "        vertical-align: top;\n",
       "    }\n",
       "\n",
       "    .dataframe thead th {\n",
       "        text-align: right;\n",
       "    }\n",
       "</style>\n",
       "<table border=\"1\" class=\"dataframe\">\n",
       "  <thead>\n",
       "    <tr style=\"text-align: right;\">\n",
       "      <th></th>\n",
       "      <th>incident_num</th>\n",
       "      <th>date_time</th>\n",
       "      <th>day_of_week</th>\n",
       "      <th>address_number_primary</th>\n",
       "      <th>address_dir_primary</th>\n",
       "      <th>address_road_primary</th>\n",
       "      <th>address_sfx_primary</th>\n",
       "      <th>address_dir_intersecting</th>\n",
       "      <th>address_road_intersecting</th>\n",
       "      <th>address_sfx_intersecting</th>\n",
       "      <th>call_type</th>\n",
       "      <th>disposition</th>\n",
       "      <th>beat</th>\n",
       "      <th>priority</th>\n",
       "      <th>date</th>\n",
       "    </tr>\n",
       "  </thead>\n",
       "  <tbody>\n",
       "    <tr>\n",
       "      <th>0</th>\n",
       "      <td>E20010000001</td>\n",
       "      <td>2020-01-01 00:00:09</td>\n",
       "      <td>4</td>\n",
       "      <td>400</td>\n",
       "      <td>NaN</td>\n",
       "      <td>06TH</td>\n",
       "      <td>AVE</td>\n",
       "      <td>NaN</td>\n",
       "      <td>NaN</td>\n",
       "      <td>NaN</td>\n",
       "      <td>11-8</td>\n",
       "      <td>A</td>\n",
       "      <td>523</td>\n",
       "      <td>0</td>\n",
       "      <td>2020-01-01</td>\n",
       "    </tr>\n",
       "    <tr>\n",
       "      <th>1</th>\n",
       "      <td>E20010000002</td>\n",
       "      <td>2020-01-01 00:00:20</td>\n",
       "      <td>4</td>\n",
       "      <td>5000</td>\n",
       "      <td>NaN</td>\n",
       "      <td>UNIVERSITY</td>\n",
       "      <td>AVE</td>\n",
       "      <td>NaN</td>\n",
       "      <td>NaN</td>\n",
       "      <td>NaN</td>\n",
       "      <td>FD</td>\n",
       "      <td>K</td>\n",
       "      <td>826</td>\n",
       "      <td>2</td>\n",
       "      <td>2020-01-01</td>\n",
       "    </tr>\n",
       "    <tr>\n",
       "      <th>2</th>\n",
       "      <td>E20010000003</td>\n",
       "      <td>2020-01-01 00:00:21</td>\n",
       "      <td>4</td>\n",
       "      <td>800</td>\n",
       "      <td>NaN</td>\n",
       "      <td>SAWTELLE</td>\n",
       "      <td>AVE</td>\n",
       "      <td>NaN</td>\n",
       "      <td>NaN</td>\n",
       "      <td>NaN</td>\n",
       "      <td>AU1</td>\n",
       "      <td>W</td>\n",
       "      <td>434</td>\n",
       "      <td>1</td>\n",
       "      <td>2020-01-01</td>\n",
       "    </tr>\n",
       "    <tr>\n",
       "      <th>3</th>\n",
       "      <td>E20010000004</td>\n",
       "      <td>2020-01-01 00:00:32</td>\n",
       "      <td>4</td>\n",
       "      <td>5000</td>\n",
       "      <td>NaN</td>\n",
       "      <td>UNIVERSITY</td>\n",
       "      <td>AVE</td>\n",
       "      <td>NaN</td>\n",
       "      <td>NaN</td>\n",
       "      <td>NaN</td>\n",
       "      <td>FD</td>\n",
       "      <td>K</td>\n",
       "      <td>826</td>\n",
       "      <td>2</td>\n",
       "      <td>2020-01-01</td>\n",
       "    </tr>\n",
       "    <tr>\n",
       "      <th>4</th>\n",
       "      <td>E20010000005</td>\n",
       "      <td>2020-01-01 00:00:42</td>\n",
       "      <td>4</td>\n",
       "      <td>5200</td>\n",
       "      <td>NaN</td>\n",
       "      <td>CLAIREMONT MESA</td>\n",
       "      <td>BLV</td>\n",
       "      <td>NaN</td>\n",
       "      <td>NaN</td>\n",
       "      <td>NaN</td>\n",
       "      <td>415V</td>\n",
       "      <td>K</td>\n",
       "      <td>111</td>\n",
       "      <td>1</td>\n",
       "      <td>2020-01-01</td>\n",
       "    </tr>\n",
       "    <tr>\n",
       "      <th>...</th>\n",
       "      <td>...</td>\n",
       "      <td>...</td>\n",
       "      <td>...</td>\n",
       "      <td>...</td>\n",
       "      <td>...</td>\n",
       "      <td>...</td>\n",
       "      <td>...</td>\n",
       "      <td>...</td>\n",
       "      <td>...</td>\n",
       "      <td>...</td>\n",
       "      <td>...</td>\n",
       "      <td>...</td>\n",
       "      <td>...</td>\n",
       "      <td>...</td>\n",
       "      <td>...</td>\n",
       "    </tr>\n",
       "    <tr>\n",
       "      <th>198740</th>\n",
       "      <td>E20050003524</td>\n",
       "      <td>2020-05-02 23:31:30</td>\n",
       "      <td>7</td>\n",
       "      <td>0</td>\n",
       "      <td>NaN</td>\n",
       "      <td>EL CAJON</td>\n",
       "      <td>BLV</td>\n",
       "      <td>NaN</td>\n",
       "      <td>MC CLINTOCK</td>\n",
       "      <td>NaN</td>\n",
       "      <td>PARTY</td>\n",
       "      <td>K</td>\n",
       "      <td>838</td>\n",
       "      <td>3</td>\n",
       "      <td>2020-05-02</td>\n",
       "    </tr>\n",
       "    <tr>\n",
       "      <th>198741</th>\n",
       "      <td>E20050003533</td>\n",
       "      <td>2020-05-02 23:36:11</td>\n",
       "      <td>7</td>\n",
       "      <td>0</td>\n",
       "      <td>NaN</td>\n",
       "      <td>HARBOR</td>\n",
       "      <td>DR</td>\n",
       "      <td>NaN</td>\n",
       "      <td>SIGSBEE</td>\n",
       "      <td>NaN</td>\n",
       "      <td>10851</td>\n",
       "      <td>DUP</td>\n",
       "      <td>511</td>\n",
       "      <td>0</td>\n",
       "      <td>2020-05-02</td>\n",
       "    </tr>\n",
       "    <tr>\n",
       "      <th>198742</th>\n",
       "      <td>E20050003537</td>\n",
       "      <td>2020-05-02 23:38:18</td>\n",
       "      <td>7</td>\n",
       "      <td>0</td>\n",
       "      <td>NaN</td>\n",
       "      <td>PARK</td>\n",
       "      <td>BLV</td>\n",
       "      <td>NaN</td>\n",
       "      <td>NaN</td>\n",
       "      <td>NaN</td>\n",
       "      <td>10851</td>\n",
       "      <td>CAN</td>\n",
       "      <td>511</td>\n",
       "      <td>1</td>\n",
       "      <td>2020-05-02</td>\n",
       "    </tr>\n",
       "    <tr>\n",
       "      <th>198743</th>\n",
       "      <td>E20050003542</td>\n",
       "      <td>2020-05-02 23:42:19</td>\n",
       "      <td>7</td>\n",
       "      <td>6500</td>\n",
       "      <td>NaN</td>\n",
       "      <td>MISSION GORGE</td>\n",
       "      <td>RD</td>\n",
       "      <td>NaN</td>\n",
       "      <td>NaN</td>\n",
       "      <td>NaN</td>\n",
       "      <td>CW</td>\n",
       "      <td>K</td>\n",
       "      <td>321</td>\n",
       "      <td>1</td>\n",
       "      <td>2020-05-02</td>\n",
       "    </tr>\n",
       "    <tr>\n",
       "      <th>198744</th>\n",
       "      <td>E20050003550</td>\n",
       "      <td>2020-05-02 23:47:31</td>\n",
       "      <td>7</td>\n",
       "      <td>11700</td>\n",
       "      <td>NaN</td>\n",
       "      <td>EVERGOLD</td>\n",
       "      <td>ST</td>\n",
       "      <td>NaN</td>\n",
       "      <td>NaN</td>\n",
       "      <td>NaN</td>\n",
       "      <td>11-6</td>\n",
       "      <td>DUP</td>\n",
       "      <td>246</td>\n",
       "      <td>1</td>\n",
       "      <td>2020-05-02</td>\n",
       "    </tr>\n",
       "  </tbody>\n",
       "</table>\n",
       "<p>198745 rows × 15 columns</p>\n",
       "</div>"
      ],
      "text/plain": [
       "        incident_num            date_time  day_of_week  \\\n",
       "0       E20010000001  2020-01-01 00:00:09            4   \n",
       "1       E20010000002  2020-01-01 00:00:20            4   \n",
       "2       E20010000003  2020-01-01 00:00:21            4   \n",
       "3       E20010000004  2020-01-01 00:00:32            4   \n",
       "4       E20010000005  2020-01-01 00:00:42            4   \n",
       "...              ...                  ...          ...   \n",
       "198740  E20050003524  2020-05-02 23:31:30            7   \n",
       "198741  E20050003533  2020-05-02 23:36:11            7   \n",
       "198742  E20050003537  2020-05-02 23:38:18            7   \n",
       "198743  E20050003542  2020-05-02 23:42:19            7   \n",
       "198744  E20050003550  2020-05-02 23:47:31            7   \n",
       "\n",
       "        address_number_primary address_dir_primary address_road_primary  \\\n",
       "0                          400                 NaN                 06TH   \n",
       "1                         5000                 NaN           UNIVERSITY   \n",
       "2                          800                 NaN             SAWTELLE   \n",
       "3                         5000                 NaN           UNIVERSITY   \n",
       "4                         5200                 NaN      CLAIREMONT MESA   \n",
       "...                        ...                 ...                  ...   \n",
       "198740                       0                 NaN             EL CAJON   \n",
       "198741                       0                 NaN               HARBOR   \n",
       "198742                       0                 NaN                 PARK   \n",
       "198743                    6500                 NaN        MISSION GORGE   \n",
       "198744                   11700                 NaN             EVERGOLD   \n",
       "\n",
       "       address_sfx_primary  address_dir_intersecting  \\\n",
       "0                      AVE                       NaN   \n",
       "1                      AVE                       NaN   \n",
       "2                      AVE                       NaN   \n",
       "3                      AVE                       NaN   \n",
       "4                      BLV                       NaN   \n",
       "...                    ...                       ...   \n",
       "198740                 BLV                       NaN   \n",
       "198741                  DR                       NaN   \n",
       "198742                 BLV                       NaN   \n",
       "198743                  RD                       NaN   \n",
       "198744                  ST                       NaN   \n",
       "\n",
       "       address_road_intersecting  address_sfx_intersecting call_type  \\\n",
       "0                            NaN                       NaN      11-8   \n",
       "1                            NaN                       NaN        FD   \n",
       "2                            NaN                       NaN       AU1   \n",
       "3                            NaN                       NaN        FD   \n",
       "4                            NaN                       NaN      415V   \n",
       "...                          ...                       ...       ...   \n",
       "198740               MC CLINTOCK                       NaN     PARTY   \n",
       "198741                   SIGSBEE                       NaN     10851   \n",
       "198742                       NaN                       NaN     10851   \n",
       "198743                       NaN                       NaN        CW   \n",
       "198744                       NaN                       NaN      11-6   \n",
       "\n",
       "       disposition  beat  priority        date  \n",
       "0                A   523         0  2020-01-01  \n",
       "1                K   826         2  2020-01-01  \n",
       "2                W   434         1  2020-01-01  \n",
       "3                K   826         2  2020-01-01  \n",
       "4                K   111         1  2020-01-01  \n",
       "...            ...   ...       ...         ...  \n",
       "198740           K   838         3  2020-05-02  \n",
       "198741         DUP   511         0  2020-05-02  \n",
       "198742         CAN   511         1  2020-05-02  \n",
       "198743           K   321         1  2020-05-02  \n",
       "198744         DUP   246         1  2020-05-02  \n",
       "\n",
       "[198745 rows x 15 columns]"
      ]
     },
     "execution_count": 59,
     "metadata": {},
     "output_type": "execute_result"
    }
   ],
   "source": [
    "dateColumn = policeCalls.get('date_time').apply(getDate)\n",
    "policeCalls = policeCalls.assign(date = dateColumn) \n",
    "policeCalls"
   ]
  },
  {
   "cell_type": "code",
   "execution_count": 62,
   "metadata": {
    "deletable": false
   },
   "outputs": [
    {
     "name": "stdout",
     "output_type": "stream",
     "text": [
      "~~~~~~~~~~~~~~~~~~~~~~~~~~~~~~~~~~~~~~~~~~~~~~~~~~~~~~~~~~~~~~~~~~~~~\n",
      "Running tests\n",
      "\n",
      "---------------------------------------------------------------------\n",
      "Test summary\n",
      "    Passed: 1\n",
      "    Failed: 0\n",
      "[ooooooooook] 100.0% passed\n",
      "\n"
     ]
    }
   ],
   "source": [
    "_ = ok.grade('q3_1_1')"
   ]
  },
  {
   "cell_type": "markdown",
   "metadata": {
    "deletable": false,
    "manual_problem_id": "disease_4_1_5"
   },
   "source": [
    "**Question 2**: The column `incident_num` represents the id of the incident that was recorded in the corresponding row. It will be useful to observe how many `incident_num` values occur on each date. We will visualize this with a time-series line plot, with the x-axis as date and the y-axis as the count of incident numbers on a particular date.\n",
    "\n",
    "Create a time-series line plot of the count of `incident_num` by date.\n",
    "\n",
    "*Hint: How do you get the count of incident_num by each date in the data?*"
   ]
  },
  {
   "cell_type": "code",
   "execution_count": 63,
   "metadata": {},
   "outputs": [
    {
     "data": {
      "text/html": [
       "<div>\n",
       "<style scoped>\n",
       "    .dataframe tbody tr th:only-of-type {\n",
       "        vertical-align: middle;\n",
       "    }\n",
       "\n",
       "    .dataframe tbody tr th {\n",
       "        vertical-align: top;\n",
       "    }\n",
       "\n",
       "    .dataframe thead th {\n",
       "        text-align: right;\n",
       "    }\n",
       "</style>\n",
       "<table border=\"1\" class=\"dataframe\">\n",
       "  <thead>\n",
       "    <tr style=\"text-align: right;\">\n",
       "      <th></th>\n",
       "      <th>incident_num</th>\n",
       "      <th>date_time</th>\n",
       "      <th>day_of_week</th>\n",
       "      <th>address_number_primary</th>\n",
       "      <th>address_dir_primary</th>\n",
       "      <th>address_road_primary</th>\n",
       "      <th>address_sfx_primary</th>\n",
       "      <th>address_dir_intersecting</th>\n",
       "      <th>address_road_intersecting</th>\n",
       "      <th>address_sfx_intersecting</th>\n",
       "      <th>call_type</th>\n",
       "      <th>disposition</th>\n",
       "      <th>beat</th>\n",
       "      <th>priority</th>\n",
       "    </tr>\n",
       "    <tr>\n",
       "      <th>date</th>\n",
       "      <th></th>\n",
       "      <th></th>\n",
       "      <th></th>\n",
       "      <th></th>\n",
       "      <th></th>\n",
       "      <th></th>\n",
       "      <th></th>\n",
       "      <th></th>\n",
       "      <th></th>\n",
       "      <th></th>\n",
       "      <th></th>\n",
       "      <th></th>\n",
       "      <th></th>\n",
       "      <th></th>\n",
       "    </tr>\n",
       "  </thead>\n",
       "  <tbody>\n",
       "    <tr>\n",
       "      <th>2020-01-01</th>\n",
       "      <td>1465</td>\n",
       "      <td>1465</td>\n",
       "      <td>1465</td>\n",
       "      <td>1465</td>\n",
       "      <td>64</td>\n",
       "      <td>1465</td>\n",
       "      <td>1361</td>\n",
       "      <td>0</td>\n",
       "      <td>223</td>\n",
       "      <td>0</td>\n",
       "      <td>1465</td>\n",
       "      <td>1465</td>\n",
       "      <td>1465</td>\n",
       "      <td>1465</td>\n",
       "    </tr>\n",
       "    <tr>\n",
       "      <th>2020-01-02</th>\n",
       "      <td>1550</td>\n",
       "      <td>1550</td>\n",
       "      <td>1550</td>\n",
       "      <td>1550</td>\n",
       "      <td>67</td>\n",
       "      <td>1550</td>\n",
       "      <td>1436</td>\n",
       "      <td>0</td>\n",
       "      <td>216</td>\n",
       "      <td>0</td>\n",
       "      <td>1547</td>\n",
       "      <td>1549</td>\n",
       "      <td>1550</td>\n",
       "      <td>1550</td>\n",
       "    </tr>\n",
       "    <tr>\n",
       "      <th>2020-01-03</th>\n",
       "      <td>1708</td>\n",
       "      <td>1708</td>\n",
       "      <td>1708</td>\n",
       "      <td>1708</td>\n",
       "      <td>87</td>\n",
       "      <td>1708</td>\n",
       "      <td>1578</td>\n",
       "      <td>0</td>\n",
       "      <td>290</td>\n",
       "      <td>0</td>\n",
       "      <td>1706</td>\n",
       "      <td>1703</td>\n",
       "      <td>1708</td>\n",
       "      <td>1708</td>\n",
       "    </tr>\n",
       "    <tr>\n",
       "      <th>2020-01-04</th>\n",
       "      <td>1551</td>\n",
       "      <td>1551</td>\n",
       "      <td>1551</td>\n",
       "      <td>1551</td>\n",
       "      <td>72</td>\n",
       "      <td>1551</td>\n",
       "      <td>1419</td>\n",
       "      <td>0</td>\n",
       "      <td>266</td>\n",
       "      <td>0</td>\n",
       "      <td>1551</td>\n",
       "      <td>1551</td>\n",
       "      <td>1551</td>\n",
       "      <td>1551</td>\n",
       "    </tr>\n",
       "    <tr>\n",
       "      <th>2020-01-05</th>\n",
       "      <td>1415</td>\n",
       "      <td>1415</td>\n",
       "      <td>1415</td>\n",
       "      <td>1415</td>\n",
       "      <td>64</td>\n",
       "      <td>1415</td>\n",
       "      <td>1288</td>\n",
       "      <td>0</td>\n",
       "      <td>247</td>\n",
       "      <td>0</td>\n",
       "      <td>1415</td>\n",
       "      <td>1415</td>\n",
       "      <td>1415</td>\n",
       "      <td>1415</td>\n",
       "    </tr>\n",
       "    <tr>\n",
       "      <th>...</th>\n",
       "      <td>...</td>\n",
       "      <td>...</td>\n",
       "      <td>...</td>\n",
       "      <td>...</td>\n",
       "      <td>...</td>\n",
       "      <td>...</td>\n",
       "      <td>...</td>\n",
       "      <td>...</td>\n",
       "      <td>...</td>\n",
       "      <td>...</td>\n",
       "      <td>...</td>\n",
       "      <td>...</td>\n",
       "      <td>...</td>\n",
       "      <td>...</td>\n",
       "    </tr>\n",
       "    <tr>\n",
       "      <th>2020-04-28</th>\n",
       "      <td>1765</td>\n",
       "      <td>1765</td>\n",
       "      <td>1765</td>\n",
       "      <td>1765</td>\n",
       "      <td>95</td>\n",
       "      <td>1763</td>\n",
       "      <td>1631</td>\n",
       "      <td>0</td>\n",
       "      <td>269</td>\n",
       "      <td>0</td>\n",
       "      <td>1762</td>\n",
       "      <td>1764</td>\n",
       "      <td>1765</td>\n",
       "      <td>1765</td>\n",
       "    </tr>\n",
       "    <tr>\n",
       "      <th>2020-04-29</th>\n",
       "      <td>1597</td>\n",
       "      <td>1597</td>\n",
       "      <td>1597</td>\n",
       "      <td>1597</td>\n",
       "      <td>82</td>\n",
       "      <td>1597</td>\n",
       "      <td>1479</td>\n",
       "      <td>0</td>\n",
       "      <td>251</td>\n",
       "      <td>0</td>\n",
       "      <td>1595</td>\n",
       "      <td>1597</td>\n",
       "      <td>1597</td>\n",
       "      <td>1597</td>\n",
       "    </tr>\n",
       "    <tr>\n",
       "      <th>2020-04-30</th>\n",
       "      <td>1748</td>\n",
       "      <td>1748</td>\n",
       "      <td>1748</td>\n",
       "      <td>1748</td>\n",
       "      <td>98</td>\n",
       "      <td>1745</td>\n",
       "      <td>1610</td>\n",
       "      <td>0</td>\n",
       "      <td>251</td>\n",
       "      <td>0</td>\n",
       "      <td>1748</td>\n",
       "      <td>1748</td>\n",
       "      <td>1748</td>\n",
       "      <td>1748</td>\n",
       "    </tr>\n",
       "    <tr>\n",
       "      <th>2020-05-01</th>\n",
       "      <td>1744</td>\n",
       "      <td>1744</td>\n",
       "      <td>1744</td>\n",
       "      <td>1744</td>\n",
       "      <td>102</td>\n",
       "      <td>1743</td>\n",
       "      <td>1616</td>\n",
       "      <td>0</td>\n",
       "      <td>307</td>\n",
       "      <td>0</td>\n",
       "      <td>1743</td>\n",
       "      <td>1744</td>\n",
       "      <td>1744</td>\n",
       "      <td>1744</td>\n",
       "    </tr>\n",
       "    <tr>\n",
       "      <th>2020-05-02</th>\n",
       "      <td>1468</td>\n",
       "      <td>1468</td>\n",
       "      <td>1468</td>\n",
       "      <td>1468</td>\n",
       "      <td>72</td>\n",
       "      <td>1468</td>\n",
       "      <td>1369</td>\n",
       "      <td>0</td>\n",
       "      <td>275</td>\n",
       "      <td>0</td>\n",
       "      <td>1468</td>\n",
       "      <td>1468</td>\n",
       "      <td>1468</td>\n",
       "      <td>1468</td>\n",
       "    </tr>\n",
       "  </tbody>\n",
       "</table>\n",
       "<p>123 rows × 14 columns</p>\n",
       "</div>"
      ],
      "text/plain": [
       "            incident_num  date_time  day_of_week  address_number_primary  \\\n",
       "date                                                                       \n",
       "2020-01-01          1465       1465         1465                    1465   \n",
       "2020-01-02          1550       1550         1550                    1550   \n",
       "2020-01-03          1708       1708         1708                    1708   \n",
       "2020-01-04          1551       1551         1551                    1551   \n",
       "2020-01-05          1415       1415         1415                    1415   \n",
       "...                  ...        ...          ...                     ...   \n",
       "2020-04-28          1765       1765         1765                    1765   \n",
       "2020-04-29          1597       1597         1597                    1597   \n",
       "2020-04-30          1748       1748         1748                    1748   \n",
       "2020-05-01          1744       1744         1744                    1744   \n",
       "2020-05-02          1468       1468         1468                    1468   \n",
       "\n",
       "            address_dir_primary  address_road_primary  address_sfx_primary  \\\n",
       "date                                                                         \n",
       "2020-01-01                   64                  1465                 1361   \n",
       "2020-01-02                   67                  1550                 1436   \n",
       "2020-01-03                   87                  1708                 1578   \n",
       "2020-01-04                   72                  1551                 1419   \n",
       "2020-01-05                   64                  1415                 1288   \n",
       "...                         ...                   ...                  ...   \n",
       "2020-04-28                   95                  1763                 1631   \n",
       "2020-04-29                   82                  1597                 1479   \n",
       "2020-04-30                   98                  1745                 1610   \n",
       "2020-05-01                  102                  1743                 1616   \n",
       "2020-05-02                   72                  1468                 1369   \n",
       "\n",
       "            address_dir_intersecting  address_road_intersecting  \\\n",
       "date                                                              \n",
       "2020-01-01                         0                        223   \n",
       "2020-01-02                         0                        216   \n",
       "2020-01-03                         0                        290   \n",
       "2020-01-04                         0                        266   \n",
       "2020-01-05                         0                        247   \n",
       "...                              ...                        ...   \n",
       "2020-04-28                         0                        269   \n",
       "2020-04-29                         0                        251   \n",
       "2020-04-30                         0                        251   \n",
       "2020-05-01                         0                        307   \n",
       "2020-05-02                         0                        275   \n",
       "\n",
       "            address_sfx_intersecting  call_type  disposition  beat  priority  \n",
       "date                                                                          \n",
       "2020-01-01                         0       1465         1465  1465      1465  \n",
       "2020-01-02                         0       1547         1549  1550      1550  \n",
       "2020-01-03                         0       1706         1703  1708      1708  \n",
       "2020-01-04                         0       1551         1551  1551      1551  \n",
       "2020-01-05                         0       1415         1415  1415      1415  \n",
       "...                              ...        ...          ...   ...       ...  \n",
       "2020-04-28                         0       1762         1764  1765      1765  \n",
       "2020-04-29                         0       1595         1597  1597      1597  \n",
       "2020-04-30                         0       1748         1748  1748      1748  \n",
       "2020-05-01                         0       1743         1744  1744      1744  \n",
       "2020-05-02                         0       1468         1468  1468      1468  \n",
       "\n",
       "[123 rows x 14 columns]"
      ]
     },
     "execution_count": 63,
     "metadata": {},
     "output_type": "execute_result"
    }
   ],
   "source": [
    "policeCalls.groupby('date').count()"
   ]
  },
  {
   "cell_type": "code",
   "execution_count": 64,
   "metadata": {
    "deletable": false,
    "for_assignment_type": "student",
    "manual_problem_id": "part_4_compute_chol_ts"
   },
   "outputs": [
    {
     "data": {
      "text/plain": [
       "<matplotlib.axes._subplots.AxesSubplot at 0x7f8b25bcbc88>"
      ]
     },
     "execution_count": 64,
     "metadata": {},
     "output_type": "execute_result"
    },
    {
     "data": {
      "image/png": "[encoded data removed]",
      "text/plain": [
       "<Figure size 936x576 with 1 Axes>"
      ]
     },
     "metadata": {},
     "output_type": "display_data"
    }
   ],
   "source": [
    "countByDay =  policeCalls.groupby('date').count().get('incident_num')\n",
    "\n",
    "#Don't change\n",
    "fig = plots.gcf()\n",
    "fig.set_size_inches(13, 8)\n",
    "countByDay.plot()\n"
   ]
  },
  {
   "cell_type": "code",
   "execution_count": 65,
   "metadata": {
    "deletable": false
   },
   "outputs": [
    {
     "name": "stdout",
     "output_type": "stream",
     "text": [
      "~~~~~~~~~~~~~~~~~~~~~~~~~~~~~~~~~~~~~~~~~~~~~~~~~~~~~~~~~~~~~~~~~~~~~\n",
      "Running tests\n",
      "\n",
      "---------------------------------------------------------------------\n",
      "Test summary\n",
      "    Passed: 1\n",
      "    Failed: 0\n",
      "[ooooooooook] 100.0% passed\n",
      "\n"
     ]
    }
   ],
   "source": [
    "_ = ok.grade('q3_1_2')"
   ]
  },
  {
   "cell_type": "markdown",
   "metadata": {
    "deletable": false,
    "for_assignment_type": "student",
    "manual_problem_id": "part_4_chol_observed_ts"
   },
   "source": [
    "Looking at the plot, it appears that something happened in the time period right around March 15th this year that caused incident reports to drop. Let's investigate further about what might've happened. Specifically, we want to test whether police calls dropped significantly 30 days after March 15th, compared to before March 15th.\n",
    "\n",
    "We'll use the following null and alternative hypotheses:\n",
    "\n",
    "**Null Hypothesis**: The amount of police calls did not drop from 30 days before March 15th to after March 15th.\n",
    "\n",
    "**Alternative Hypothesis**: The amount of police calls dropped from 30 days before March 15th to after March 15th."
   ]
  },
  {
   "cell_type": "markdown",
   "metadata": {
    "deletable": false
   },
   "source": [
    "For this simulation, we will use the percent drop in mean number of police calls as our test statistic. That is, we will compute the test statistic as:\n",
    "    \n",
    "    100 * (mean number of calls before 3/15 - mean number of calls after 3/15) / (mean number of calls before 3/15)"
   ]
  },
  {
   "cell_type": "markdown",
   "metadata": {
    "deletable": false,
    "manual_problem_id": "disease_4_1_7"
   },
   "source": [
    "**Question 3**: Would larger values of the test statistic favor the null hypothesis or the alternative hypothesis? Explain your reasoning."
   ]
  },
  {
   "cell_type": "markdown",
   "metadata": {
    "deletable": false,
    "for_assignment_type": "student",
    "manual_problem_id": "part_4_simulate_chol_null"
   },
   "source": [
    "<hr style=\"color:Maroon;background-color:Maroon;border:0 none; height: 3px;\">\n",
    "\n",
    "Large values of the test statistic favor the alternative hypothesis. This makes intuitive sense because, under the null assumption, there would be a small to non-difference between the mean number of calls before 3/15 and after 3/15. Larger values of the test statistic imply a larger difference between mean number of calls before and after 3/15, so they would favor the alternative hypothesis.\n",
    "\n",
    "<hr style=\"color:Maroon;background-color:Maroon;border:0 none; height: 3px;\">"
   ]
  },
  {
   "cell_type": "markdown",
   "metadata": {
    "deletable": false,
    "for_assignment_type": "student",
    "manual_problem_id": "part_4_simulate_null_chol"
   },
   "source": [
    "**Question 4**: Start by creating 2 tables, one with all dates before and including 3-15 and another with dates after 3-15. We want 2 tables, one with dates before `2020-03-15`, and another table with dates after.\n",
    "\n",
    "*Hint: Dates in the format `YYYY-MM-DD` are really nice to work with [for a lot of reasons](https://en.wikipedia.org/wiki/ISO_8601).  Python has a `datetime` module that will let you calculate days between, but because of the format the date order and the alphabetical order with strings is the same!  So `date < '1970-01-01'` will only be true for 1969 and earlier.*"
   ]
  },
  {
   "cell_type": "code",
   "execution_count": 66,
   "metadata": {
    "deletable": false
   },
   "outputs": [],
   "source": [
    "policeCallsBefore = policeCalls[policeCalls.get('date') <= '2020-03-15']\n",
    "policeCallsAfter = policeCalls[policeCalls.get('date') > '2020-03-15']"
   ]
  },
  {
   "cell_type": "code",
   "execution_count": 68,
   "metadata": {},
   "outputs": [
    {
     "name": "stdout",
     "output_type": "stream",
     "text": [
      "~~~~~~~~~~~~~~~~~~~~~~~~~~~~~~~~~~~~~~~~~~~~~~~~~~~~~~~~~~~~~~~~~~~~~\n",
      "Running tests\n",
      "\n",
      "---------------------------------------------------------------------\n",
      "Test summary\n",
      "    Passed: 1\n",
      "    Failed: 0\n",
      "[ooooooooook] 100.0% passed\n",
      "\n"
     ]
    }
   ],
   "source": [
    "_ = ok.grade('q3_1_4')"
   ]
  },
  {
   "cell_type": "markdown",
   "metadata": {},
   "source": [
    "**Question 5**: When performing our test, we will have to get the number of incidents for dates before/including 3-15 and after. Instead of calculating it repetitively during each iteration like we did above, it is better to define a function. Fill in two functions below, `getCountsByDayBefore` and `getCountsByDayAfter` that both take in a dataframe and outputs a dataframe with one column, `incident_num` that contains the counts of incident reports by each date. The first function should return the counts before 3-15, and the second should return the counts after 3-15."
   ]
  },
  {
   "cell_type": "code",
   "execution_count": 70,
   "metadata": {},
   "outputs": [],
   "source": [
    "def getCountsByDayBefore(table):\n",
    "    correct_dates = table[table.get('date') <= '2020-03-15']\n",
    "    before_counted = correct_dates.groupby('date').count()\n",
    "    incident = before_counted.get('incident_num')\n",
    "    return incident\n",
    "    \n",
    "\n",
    "\n",
    "def getCountsByDayAfter(table):\n",
    "    correct_dates = table[table.get('date') > '2020-03-15']\n",
    "    after_counted = correct_dates.groupby('date').count()\n",
    "    incident = after_counted.get('incident_num')\n",
    "    return incident\n"
   ]
  },
  {
   "cell_type": "code",
   "execution_count": 72,
   "metadata": {},
   "outputs": [
    {
     "name": "stdout",
     "output_type": "stream",
     "text": [
      "~~~~~~~~~~~~~~~~~~~~~~~~~~~~~~~~~~~~~~~~~~~~~~~~~~~~~~~~~~~~~~~~~~~~~\n",
      "Running tests\n",
      "\n",
      "---------------------------------------------------------------------\n",
      "Test summary\n",
      "    Passed: 1\n",
      "    Failed: 0\n",
      "[ooooooooook] 100.0% passed\n",
      "\n"
     ]
    }
   ],
   "source": [
    "_ = ok.grade('q3_1_5')"
   ]
  },
  {
   "cell_type": "markdown",
   "metadata": {},
   "source": [
    "**Question 6**: Next, we will create a function to calculate our test statistic. Remember that the statistic we are using is the percent drop (take a look above if you don't remember how to calculate it). Complete the function below that takes in 2 arrays, the number of reports before/including 3-15 and the number of reports after 3-15, and outputs the test statistic, percent drop."
   ]
  },
  {
   "cell_type": "code",
   "execution_count": 77,
   "metadata": {},
   "outputs": [],
   "source": [
    "def getPercentDrop(callsBefore, callsAfter):\n",
    "    return 100 * (callsBefore.mean() - callsAfter.mean()) / (callsBefore.mean())"
   ]
  },
  {
   "cell_type": "code",
   "execution_count": 78,
   "metadata": {},
   "outputs": [
    {
     "name": "stdout",
     "output_type": "stream",
     "text": [
      "~~~~~~~~~~~~~~~~~~~~~~~~~~~~~~~~~~~~~~~~~~~~~~~~~~~~~~~~~~~~~~~~~~~~~\n",
      "Running tests\n",
      "\n",
      "---------------------------------------------------------------------\n",
      "Test summary\n",
      "    Passed: 1\n",
      "    Failed: 0\n",
      "[ooooooooook] 100.0% passed\n",
      "\n"
     ]
    }
   ],
   "source": [
    "_ = ok.grade('q3_1_6')"
   ]
  },
  {
   "cell_type": "markdown",
   "metadata": {},
   "source": [
    "Now, we can calculate the observed statistic from our data. Run the cell below to output the observed percent drop in calls."
   ]
  },
  {
   "cell_type": "code",
   "execution_count": 79,
   "metadata": {},
   "outputs": [],
   "source": [
    "#Run this cell\n",
    "dailyCountBefore = getCountsByDayBefore(policeCalls)\n",
    "dailyCountAfter = getCountsByDayAfter(policeCalls)\n",
    "\n",
    "observedDrop = getPercentDrop(dailyCountBefore, dailyCountAfter)"
   ]
  },
  {
   "cell_type": "code",
   "execution_count": 76,
   "metadata": {},
   "outputs": [
    {
     "data": {
      "text/plain": [
       "3.7217313697427077"
      ]
     },
     "execution_count": 76,
     "metadata": {},
     "output_type": "execute_result"
    }
   ],
   "source": [
    "observedDrop"
   ]
  },
  {
   "cell_type": "markdown",
   "metadata": {},
   "source": [
    "**Question 7**: We will now perform the bootstrapping to test out hypotheses. Run 10,000 iterations by bootstrapping from the columns of counts of incident reports above, `dailyCountBefore` and `dailyCountAfter`, and compute the percent drop test statistics. You may add more lines or define more functions if you wish.\n",
    "\n",
    "*Hint: Recall how to bootstrap from an array of numbers. Do we sample with or without replacement? The `np.random.choice` function may be particularly useful.*"
   ]
  },
  {
   "cell_type": "code",
   "execution_count": 82,
   "metadata": {
    "deletable": false,
    "manual_problem_id": "part_4_chol_conclusion"
   },
   "outputs": [],
   "source": [
    "N = 10000\n",
    "\n",
    "dropPercents = ([])\n",
    "for _ in np.arange(N):\n",
    "    sampledBefore = np.random.choice(dailyCountBefore,len(dailyCountBefore),replace=True)\n",
    "    sampledAfter =  np.random.choice(dailyCountAfter,len(dailyCountAfter),replace=True)\n",
    "    dropPercent = getPercentDrop(sampledBefore,sampledAfter)\n",
    "    dropPercents = np.append(dropPercent,dropPercents)\n"
   ]
  },
  {
   "cell_type": "code",
   "execution_count": 83,
   "metadata": {},
   "outputs": [
    {
     "data": {
      "text/plain": [
       "array([ 2.66611798,  4.10151829,  4.49655375, ...,  1.5358975 ,\n",
       "        3.51307323,  3.49806408])"
      ]
     },
     "execution_count": 83,
     "metadata": {},
     "output_type": "execute_result"
    }
   ],
   "source": [
    "dropPercents"
   ]
  },
  {
   "cell_type": "code",
   "execution_count": 84,
   "metadata": {
    "deletable": false,
    "manual_problem_id": "disease_q_4_1_6"
   },
   "outputs": [
    {
     "data": {
      "text/plain": [
       "<matplotlib.lines.Line2D at 0x7f8b20b88748>"
      ]
     },
     "execution_count": 84,
     "metadata": {},
     "output_type": "execute_result"
    },
    {
     "data": {
      "image/png": "[encoded data removed]",
      "text/plain": [
       "<Figure size 432x288 with 1 Axes>"
      ]
     },
     "metadata": {},
     "output_type": "display_data"
    }
   ],
   "source": [
    "#Don't change, just run\n",
    "df = bpd.DataFrame()\n",
    "df = df.assign(dropPercent=dropPercents)\n",
    "df.plot(kind='hist', bins = 20)\n",
    "plots.axvline(0, color='C1')"
   ]
  },
  {
   "cell_type": "code",
   "execution_count": 86,
   "metadata": {},
   "outputs": [
    {
     "name": "stdout",
     "output_type": "stream",
     "text": [
      "p-value:  0.0049\n"
     ]
    }
   ],
   "source": [
    "print(\"p-value: \", np.count_nonzero(dropPercents < 0) / N)"
   ]
  },
  {
   "cell_type": "code",
   "execution_count": 87,
   "metadata": {
    "deletable": false
   },
   "outputs": [
    {
     "name": "stdout",
     "output_type": "stream",
     "text": [
      "~~~~~~~~~~~~~~~~~~~~~~~~~~~~~~~~~~~~~~~~~~~~~~~~~~~~~~~~~~~~~~~~~~~~~\n",
      "Running tests\n",
      "\n",
      "---------------------------------------------------------------------\n",
      "Test summary\n",
      "    Passed: 1\n",
      "    Failed: 0\n",
      "[ooooooooook] 100.0% passed\n",
      "\n"
     ]
    }
   ],
   "source": [
    "_ = ok.grade('q3_1_7')"
   ]
  },
  {
   "cell_type": "markdown",
   "metadata": {},
   "source": [
    "**Question 8**: Looking at the plot and calculated p-value, what can we say about the null hypothesis? Is it likely that the calls did not drop after 3-15?"
   ]
  },
  {
   "cell_type": "markdown",
   "metadata": {},
   "source": [
    "<hr style=\"color:Maroon;background-color:Maroon;border:0 none; height: 3px;\">\n",
    "\n",
    "We have evidence to reject the null hypothesis. There is evidence to show that the mean count of calls dropped after 3-15.\n",
    "\n",
    "<hr style=\"color:Maroon;background-color:Maroon;border:0 none; height: 3px;\">"
   ]
  },
  {
   "cell_type": "markdown",
   "metadata": {},
   "source": [
    "**Question 9**: We will be reusing some of the bootstrapping code in a later part, so it is good to pack everything within a function so we can easily access it later on. Complete the function `get_p` that takes in 2 tables, before and after, and runs the bootstrap with them like above, and returns the p-value."
   ]
  },
  {
   "cell_type": "code",
   "execution_count": 88,
   "metadata": {},
   "outputs": [],
   "source": [
    "def get_p(before_counts,after_counts):\n",
    "    N=10000\n",
    "    \n",
    "    dropPercents = ([])\n",
    "    \n",
    "    for i in np.arange(N):\n",
    "        sampledBefore = np.random.choice(before_counts,len(before_counts))\n",
    "        sampledAfter = np.random.choice(after_counts,len(after_counts))\n",
    "        dropPercent = getPercentDrop(sampledBefore,sampledAfter)\n",
    "        dropPercents = np.append(dropPercent,dropPercents)\n",
    "\n",
    "   \n",
    "    return np.count_nonzero(dropPercents < 0) / N"
   ]
  },
  {
   "cell_type": "code",
   "execution_count": 89,
   "metadata": {},
   "outputs": [
    {
     "name": "stdout",
     "output_type": "stream",
     "text": [
      "~~~~~~~~~~~~~~~~~~~~~~~~~~~~~~~~~~~~~~~~~~~~~~~~~~~~~~~~~~~~~~~~~~~~~\n",
      "Running tests\n",
      "\n",
      "---------------------------------------------------------------------\n",
      "Test summary\n",
      "    Passed: 1\n",
      "    Failed: 0\n",
      "[ooooooooook] 100.0% passed\n",
      "\n"
     ]
    }
   ],
   "source": [
    "_ = ok.grade('q3_1_9')"
   ]
  },
  {
   "cell_type": "markdown",
   "metadata": {
    "deletable": false,
    "manual_problem_id": "diesease_4_2_1"
   },
   "source": [
    "### Caveat\n",
    "\n",
    "Bootstrapping is for samples from a population, and the time series isn't really a sample, but rather the full record.\n",
    "\n",
    "The assumption made here is that the number of police calls every day can be modeled as a random data generating process with some true underlying properties.  The model we just made assumes that is unchanging over time before March 15, and then suddenly changes, and then is unchanging again after.  In statistics we call a time-series with a fixed random process *stationary* or *ergodic*.  \n",
    "\n",
    "So in this case, we assume that the number of calls every day is a random realization of some real underlying data generating process."
   ]
  },
  {
   "cell_type": "markdown",
   "metadata": {
    "deletable": false,
    "manual_problem_id": "disease_4_2_3"
   },
   "source": [
    "## Section 2: Police Call Types\n",
    "Now we will take a deeper dive into the different types of police calls made and analyze which calls are the most common. We will then explore the trends of calls before COVID-19 ocurred and after to discover insights about what kinds of trends changed."
   ]
  },
  {
   "cell_type": "markdown",
   "metadata": {
    "deletable": false,
    "for_assignment_type": "student",
    "manual_problem_id": "part_4_summed_mn_data"
   },
   "source": [
    "**Question 1**: We are going to analyze the distribution of call types in the data. To do so, create a barchart of the top 10 most common call types sorted from greatest to least. You may add more lines if you wish."
   ]
  },
  {
   "cell_type": "code",
   "execution_count": 94,
   "metadata": {
    "deletable": false
   },
   "outputs": [
    {
     "data": {
      "text/plain": [
       "<matplotlib.axes._subplots.AxesSubplot at 0x7f8a4406c278>"
      ]
     },
     "execution_count": 94,
     "metadata": {},
     "output_type": "execute_result"
    },
    {
     "data": {
      "image/png": "[encoded data removed]",
      "text/plain": [
       "<Figure size 432x288 with 1 Axes>"
      ]
     },
     "metadata": {},
     "output_type": "display_data"
    }
   ],
   "source": [
    "callCounts = policeCalls.groupby('call_type').count().sort_values('incident_num',ascending=False).get('incident_num')\n",
    "topCalls = policeCalls.groupby('call_type').count().sort_values('incident_num',ascending=False).reset_index().iloc[0:10,0:2].set_index('call_type')\n",
    "topCalls.plot(kind=\"barh\")\n"
   ]
  },
  {
   "cell_type": "code",
   "execution_count": 95,
   "metadata": {},
   "outputs": [
    {
     "data": {
      "text/plain": [
       "0       415\n",
       "1    SELENF\n",
       "2         T\n",
       "3        CW\n",
       "4      459A\n",
       "5      1151\n",
       "6      1186\n",
       "7    MPSSTP\n",
       "8       586\n",
       "9       911\n",
       "Name: call_type, dtype: object"
      ]
     },
     "execution_count": 95,
     "metadata": {},
     "output_type": "execute_result"
    }
   ],
   "source": [
    "topCalls = topCalls.reset_index().get('call_type')\n",
    "topCalls"
   ]
  },
  {
   "cell_type": "code",
   "execution_count": 96,
   "metadata": {
    "deletable": false,
    "for_assignment_type": "student",
    "manual_problem_id": "part_4_summed_hazard_data"
   },
   "outputs": [
    {
     "name": "stdout",
     "output_type": "stream",
     "text": [
      "~~~~~~~~~~~~~~~~~~~~~~~~~~~~~~~~~~~~~~~~~~~~~~~~~~~~~~~~~~~~~~~~~~~~~\n",
      "Running tests\n",
      "\n",
      "---------------------------------------------------------------------\n",
      "Test summary\n",
      "    Passed: 1\n",
      "    Failed: 0\n",
      "[ooooooooook] 100.0% passed\n",
      "\n"
     ]
    }
   ],
   "source": [
    "_ = ok.grade('q3_2_1')"
   ]
  },
  {
   "cell_type": "markdown",
   "metadata": {
    "deletable": false,
    "scrolled": false
   },
   "source": [
    "We may have run into an issue with understanding our data. Any idea what a 459A or a 415 is? This is a common issue with data, and it is important to fully understand the terms we are dealing with. A common solution is to take another table to look up the meanings.\n",
    "\n",
    "Check out this site: https://data.sandiego.gov/datasets/police-calls-for-service/\n",
    "\n",
    "You can perform a merge with several different columns, police beat to disposition code. Let's load the data from the source and take a look at the descriptions."
   ]
  },
  {
   "cell_type": "code",
   "execution_count": 97,
   "metadata": {
    "deletable": false,
    "for_assignment_type": "student",
    "manual_problem_id": "part_4_hazard_function",
    "scrolled": true
   },
   "outputs": [
    {
     "data": {
      "text/html": [
       "<div>\n",
       "<style scoped>\n",
       "    .dataframe tbody tr th:only-of-type {\n",
       "        vertical-align: middle;\n",
       "    }\n",
       "\n",
       "    .dataframe tbody tr th {\n",
       "        vertical-align: top;\n",
       "    }\n",
       "\n",
       "    .dataframe thead th {\n",
       "        text-align: right;\n",
       "    }\n",
       "</style>\n",
       "<table border=\"1\" class=\"dataframe\">\n",
       "  <thead>\n",
       "    <tr style=\"text-align: right;\">\n",
       "      <th></th>\n",
       "      <th>call_type</th>\n",
       "      <th>description</th>\n",
       "    </tr>\n",
       "  </thead>\n",
       "  <tbody>\n",
       "    <tr>\n",
       "      <th>0</th>\n",
       "      <td>10</td>\n",
       "      <td>OUT OF SERV, SUBJTOCALL</td>\n",
       "    </tr>\n",
       "    <tr>\n",
       "      <th>1</th>\n",
       "      <td>10-97</td>\n",
       "      <td>ARRIVE ON SCENE</td>\n",
       "    </tr>\n",
       "    <tr>\n",
       "      <th>2</th>\n",
       "      <td>1016</td>\n",
       "      <td>PRISONER IN CUSTODY</td>\n",
       "    </tr>\n",
       "    <tr>\n",
       "      <th>3</th>\n",
       "      <td>1016PT</td>\n",
       "      <td>PTU (PRISONER TRANSPORT)</td>\n",
       "    </tr>\n",
       "    <tr>\n",
       "      <th>4</th>\n",
       "      <td>1016QC</td>\n",
       "      <td>SHOPLIFTER/QUICK CITE</td>\n",
       "    </tr>\n",
       "    <tr>\n",
       "      <th>...</th>\n",
       "      <td>...</td>\n",
       "      <td>...</td>\n",
       "    </tr>\n",
       "    <tr>\n",
       "      <th>300</th>\n",
       "      <td>TPURS</td>\n",
       "      <td>TRAFFIC PURSUIT</td>\n",
       "    </tr>\n",
       "    <tr>\n",
       "      <th>301</th>\n",
       "      <td>TPURSCR</td>\n",
       "      <td>TRAFFIC PURSUIT-COST REC</td>\n",
       "    </tr>\n",
       "    <tr>\n",
       "      <th>302</th>\n",
       "      <td>TRO</td>\n",
       "      <td>TRO VIOLATION, REPORT</td>\n",
       "    </tr>\n",
       "    <tr>\n",
       "      <th>303</th>\n",
       "      <td>VARDA</td>\n",
       "      <td>VARDA ALARM</td>\n",
       "    </tr>\n",
       "    <tr>\n",
       "      <th>304</th>\n",
       "      <td>WARRANT</td>\n",
       "      <td>WARRANT</td>\n",
       "    </tr>\n",
       "  </tbody>\n",
       "</table>\n",
       "<p>305 rows × 2 columns</p>\n",
       "</div>"
      ],
      "text/plain": [
       "    call_type               description\n",
       "0          10   OUT OF SERV, SUBJTOCALL\n",
       "1       10-97           ARRIVE ON SCENE\n",
       "2        1016       PRISONER IN CUSTODY\n",
       "3      1016PT  PTU (PRISONER TRANSPORT)\n",
       "4      1016QC     SHOPLIFTER/QUICK CITE\n",
       "..        ...                       ...\n",
       "300     TPURS           TRAFFIC PURSUIT\n",
       "301   TPURSCR  TRAFFIC PURSUIT-COST REC\n",
       "302       TRO     TRO VIOLATION, REPORT\n",
       "303     VARDA               VARDA ALARM\n",
       "304   WARRANT                   WARRANT\n",
       "\n",
       "[305 rows x 2 columns]"
      ]
     },
     "execution_count": 97,
     "metadata": {},
     "output_type": "execute_result"
    }
   ],
   "source": [
    "callTypes = bpd.read_csv(\"pd_cfs_calltypes_datasd.csv\")\n",
    "callTypes"
   ]
  },
  {
   "cell_type": "markdown",
   "metadata": {
    "deletable": false
   },
   "source": [
    "**Question 2**: Now that we have a table with call type definitions, we can perform a merge. Join the `callTypes` table with `policeCalls` and store the result as `policeCalls`."
   ]
  },
  {
   "cell_type": "code",
   "execution_count": 104,
   "metadata": {
    "deletable": false,
    "for_assignment_type": "student",
    "manual_problem_id": "part_4_ht_minnesota_data"
   },
   "outputs": [
    {
     "data": {
      "text/html": [
       "<div>\n",
       "<style scoped>\n",
       "    .dataframe tbody tr th:only-of-type {\n",
       "        vertical-align: middle;\n",
       "    }\n",
       "\n",
       "    .dataframe tbody tr th {\n",
       "        vertical-align: top;\n",
       "    }\n",
       "\n",
       "    .dataframe thead th {\n",
       "        text-align: right;\n",
       "    }\n",
       "</style>\n",
       "<table border=\"1\" class=\"dataframe\">\n",
       "  <thead>\n",
       "    <tr style=\"text-align: right;\">\n",
       "      <th></th>\n",
       "      <th>incident_num</th>\n",
       "      <th>date_time</th>\n",
       "      <th>day_of_week</th>\n",
       "      <th>address_number_primary</th>\n",
       "      <th>address_dir_primary</th>\n",
       "      <th>address_road_primary</th>\n",
       "      <th>address_sfx_primary</th>\n",
       "      <th>address_dir_intersecting</th>\n",
       "      <th>address_road_intersecting</th>\n",
       "      <th>address_sfx_intersecting</th>\n",
       "      <th>call_type</th>\n",
       "      <th>disposition</th>\n",
       "      <th>beat</th>\n",
       "      <th>priority</th>\n",
       "      <th>date</th>\n",
       "      <th>description_x</th>\n",
       "      <th>description_y</th>\n",
       "      <th>description</th>\n",
       "    </tr>\n",
       "  </thead>\n",
       "  <tbody>\n",
       "    <tr>\n",
       "      <th>0</th>\n",
       "      <td>E20010000001</td>\n",
       "      <td>2020-01-01 00:00:09</td>\n",
       "      <td>4</td>\n",
       "      <td>400</td>\n",
       "      <td>NaN</td>\n",
       "      <td>06TH</td>\n",
       "      <td>AVE</td>\n",
       "      <td>NaN</td>\n",
       "      <td>NaN</td>\n",
       "      <td>NaN</td>\n",
       "      <td>11-8</td>\n",
       "      <td>A</td>\n",
       "      <td>523</td>\n",
       "      <td>0</td>\n",
       "      <td>2020-01-01</td>\n",
       "      <td>PERSON DOWN</td>\n",
       "      <td>PERSON DOWN</td>\n",
       "      <td>PERSON DOWN</td>\n",
       "    </tr>\n",
       "    <tr>\n",
       "      <th>1</th>\n",
       "      <td>E20010000048</td>\n",
       "      <td>2020-01-01 00:10:42</td>\n",
       "      <td>4</td>\n",
       "      <td>800</td>\n",
       "      <td>NaN</td>\n",
       "      <td>05TH</td>\n",
       "      <td>AVE</td>\n",
       "      <td>NaN</td>\n",
       "      <td>NaN</td>\n",
       "      <td>NaN</td>\n",
       "      <td>11-8</td>\n",
       "      <td>K</td>\n",
       "      <td>523</td>\n",
       "      <td>0</td>\n",
       "      <td>2020-01-01</td>\n",
       "      <td>PERSON DOWN</td>\n",
       "      <td>PERSON DOWN</td>\n",
       "      <td>PERSON DOWN</td>\n",
       "    </tr>\n",
       "    <tr>\n",
       "      <th>2</th>\n",
       "      <td>E20010000099</td>\n",
       "      <td>2020-01-01 00:27:11</td>\n",
       "      <td>4</td>\n",
       "      <td>3900</td>\n",
       "      <td>NaN</td>\n",
       "      <td>MISSION</td>\n",
       "      <td>BLV</td>\n",
       "      <td>NaN</td>\n",
       "      <td>NaN</td>\n",
       "      <td>NaN</td>\n",
       "      <td>11-8</td>\n",
       "      <td>K</td>\n",
       "      <td>121</td>\n",
       "      <td>0</td>\n",
       "      <td>2020-01-01</td>\n",
       "      <td>PERSON DOWN</td>\n",
       "      <td>PERSON DOWN</td>\n",
       "      <td>PERSON DOWN</td>\n",
       "    </tr>\n",
       "    <tr>\n",
       "      <th>3</th>\n",
       "      <td>E20010000192</td>\n",
       "      <td>2020-01-01 01:10:23</td>\n",
       "      <td>4</td>\n",
       "      <td>500</td>\n",
       "      <td>NaN</td>\n",
       "      <td>06TH</td>\n",
       "      <td>AVE</td>\n",
       "      <td>NaN</td>\n",
       "      <td>NaN</td>\n",
       "      <td>NaN</td>\n",
       "      <td>11-8</td>\n",
       "      <td>R</td>\n",
       "      <td>523</td>\n",
       "      <td>0</td>\n",
       "      <td>2020-01-01</td>\n",
       "      <td>PERSON DOWN</td>\n",
       "      <td>PERSON DOWN</td>\n",
       "      <td>PERSON DOWN</td>\n",
       "    </tr>\n",
       "    <tr>\n",
       "      <th>4</th>\n",
       "      <td>E20010000204</td>\n",
       "      <td>2020-01-01 01:20:17</td>\n",
       "      <td>4</td>\n",
       "      <td>3600</td>\n",
       "      <td>NaN</td>\n",
       "      <td>WITHERBY</td>\n",
       "      <td>ST</td>\n",
       "      <td>NaN</td>\n",
       "      <td>NaN</td>\n",
       "      <td>NaN</td>\n",
       "      <td>11-8</td>\n",
       "      <td>CAN</td>\n",
       "      <td>611</td>\n",
       "      <td>0</td>\n",
       "      <td>2020-01-01</td>\n",
       "      <td>PERSON DOWN</td>\n",
       "      <td>PERSON DOWN</td>\n",
       "      <td>PERSON DOWN</td>\n",
       "    </tr>\n",
       "    <tr>\n",
       "      <th>...</th>\n",
       "      <td>...</td>\n",
       "      <td>...</td>\n",
       "      <td>...</td>\n",
       "      <td>...</td>\n",
       "      <td>...</td>\n",
       "      <td>...</td>\n",
       "      <td>...</td>\n",
       "      <td>...</td>\n",
       "      <td>...</td>\n",
       "      <td>...</td>\n",
       "      <td>...</td>\n",
       "      <td>...</td>\n",
       "      <td>...</td>\n",
       "      <td>...</td>\n",
       "      <td>...</td>\n",
       "      <td>...</td>\n",
       "      <td>...</td>\n",
       "      <td>...</td>\n",
       "    </tr>\n",
       "    <tr>\n",
       "      <th>191281</th>\n",
       "      <td>E20040033015</td>\n",
       "      <td>2020-04-20 20:58:20</td>\n",
       "      <td>2</td>\n",
       "      <td>4300</td>\n",
       "      <td>NaN</td>\n",
       "      <td>Z</td>\n",
       "      <td>ST</td>\n",
       "      <td>NaN</td>\n",
       "      <td>NaN</td>\n",
       "      <td>NaN</td>\n",
       "      <td>330</td>\n",
       "      <td>K</td>\n",
       "      <td>441</td>\n",
       "      <td>3</td>\n",
       "      <td>2020-04-20</td>\n",
       "      <td>GAMBLING</td>\n",
       "      <td>GAMBLING</td>\n",
       "      <td>GAMBLING</td>\n",
       "    </tr>\n",
       "    <tr>\n",
       "      <th>191282</th>\n",
       "      <td>E20030010121</td>\n",
       "      <td>2020-03-06 17:05:29</td>\n",
       "      <td>6</td>\n",
       "      <td>1400</td>\n",
       "      <td>NaN</td>\n",
       "      <td>BROADWAY</td>\n",
       "      <td>NaN</td>\n",
       "      <td>NaN</td>\n",
       "      <td>NaN</td>\n",
       "      <td>NaN</td>\n",
       "      <td>AMBER</td>\n",
       "      <td>W</td>\n",
       "      <td>521</td>\n",
       "      <td>1</td>\n",
       "      <td>2020-03-06</td>\n",
       "      <td>AMBER ALERT INFO</td>\n",
       "      <td>AMBER ALERT INFO</td>\n",
       "      <td>AMBER ALERT INFO</td>\n",
       "    </tr>\n",
       "    <tr>\n",
       "      <th>191283</th>\n",
       "      <td>E20030020083</td>\n",
       "      <td>2020-03-12 13:12:55</td>\n",
       "      <td>5</td>\n",
       "      <td>3700</td>\n",
       "      <td>NaN</td>\n",
       "      <td>04TH</td>\n",
       "      <td>AVE</td>\n",
       "      <td>NaN</td>\n",
       "      <td>NaN</td>\n",
       "      <td>NaN</td>\n",
       "      <td>C12</td>\n",
       "      <td>A</td>\n",
       "      <td>627</td>\n",
       "      <td>1</td>\n",
       "      <td>2020-03-12</td>\n",
       "      <td>SWAT EMERGENCY RESPONSE</td>\n",
       "      <td>SWAT EMERGENCY RESPONSE</td>\n",
       "      <td>SWAT EMERGENCY RESPONSE</td>\n",
       "    </tr>\n",
       "    <tr>\n",
       "      <th>191284</th>\n",
       "      <td>E20040049203</td>\n",
       "      <td>2020-04-30 05:40:11</td>\n",
       "      <td>5</td>\n",
       "      <td>4500</td>\n",
       "      <td>NaN</td>\n",
       "      <td>NIMITZ</td>\n",
       "      <td>BLV</td>\n",
       "      <td>NaN</td>\n",
       "      <td>NaN</td>\n",
       "      <td>NaN</td>\n",
       "      <td>FC</td>\n",
       "      <td>O</td>\n",
       "      <td>613</td>\n",
       "      <td>4</td>\n",
       "      <td>2020-04-30</td>\n",
       "      <td>FRONT COUNTER CLOSURES</td>\n",
       "      <td>FRONT COUNTER CLOSURES</td>\n",
       "      <td>FRONT COUNTER CLOSURES</td>\n",
       "    </tr>\n",
       "    <tr>\n",
       "      <th>191285</th>\n",
       "      <td>E20040049921</td>\n",
       "      <td>2020-04-30 13:05:53</td>\n",
       "      <td>5</td>\n",
       "      <td>1800</td>\n",
       "      <td>NaN</td>\n",
       "      <td>JULIAN</td>\n",
       "      <td>AVE</td>\n",
       "      <td>NaN</td>\n",
       "      <td>NaN</td>\n",
       "      <td>NaN</td>\n",
       "      <td>502</td>\n",
       "      <td>R</td>\n",
       "      <td>512</td>\n",
       "      <td>4</td>\n",
       "      <td>2020-04-30</td>\n",
       "      <td>COMPUTER CRIMES</td>\n",
       "      <td>COMPUTER CRIMES</td>\n",
       "      <td>COMPUTER CRIMES</td>\n",
       "    </tr>\n",
       "  </tbody>\n",
       "</table>\n",
       "<p>191286 rows × 18 columns</p>\n",
       "</div>"
      ],
      "text/plain": [
       "        incident_num            date_time  day_of_week  \\\n",
       "0       E20010000001  2020-01-01 00:00:09            4   \n",
       "1       E20010000048  2020-01-01 00:10:42            4   \n",
       "2       E20010000099  2020-01-01 00:27:11            4   \n",
       "3       E20010000192  2020-01-01 01:10:23            4   \n",
       "4       E20010000204  2020-01-01 01:20:17            4   \n",
       "...              ...                  ...          ...   \n",
       "191281  E20040033015  2020-04-20 20:58:20            2   \n",
       "191282  E20030010121  2020-03-06 17:05:29            6   \n",
       "191283  E20030020083  2020-03-12 13:12:55            5   \n",
       "191284  E20040049203  2020-04-30 05:40:11            5   \n",
       "191285  E20040049921  2020-04-30 13:05:53            5   \n",
       "\n",
       "        address_number_primary address_dir_primary address_road_primary  \\\n",
       "0                          400                 NaN                 06TH   \n",
       "1                          800                 NaN                 05TH   \n",
       "2                         3900                 NaN              MISSION   \n",
       "3                          500                 NaN                 06TH   \n",
       "4                         3600                 NaN             WITHERBY   \n",
       "...                        ...                 ...                  ...   \n",
       "191281                    4300                 NaN                    Z   \n",
       "191282                    1400                 NaN             BROADWAY   \n",
       "191283                    3700                 NaN                 04TH   \n",
       "191284                    4500                 NaN               NIMITZ   \n",
       "191285                    1800                 NaN               JULIAN   \n",
       "\n",
       "       address_sfx_primary  address_dir_intersecting  \\\n",
       "0                      AVE                       NaN   \n",
       "1                      AVE                       NaN   \n",
       "2                      BLV                       NaN   \n",
       "3                      AVE                       NaN   \n",
       "4                       ST                       NaN   \n",
       "...                    ...                       ...   \n",
       "191281                  ST                       NaN   \n",
       "191282                 NaN                       NaN   \n",
       "191283                 AVE                       NaN   \n",
       "191284                 BLV                       NaN   \n",
       "191285                 AVE                       NaN   \n",
       "\n",
       "       address_road_intersecting  address_sfx_intersecting call_type  \\\n",
       "0                            NaN                       NaN      11-8   \n",
       "1                            NaN                       NaN      11-8   \n",
       "2                            NaN                       NaN      11-8   \n",
       "3                            NaN                       NaN      11-8   \n",
       "4                            NaN                       NaN      11-8   \n",
       "...                          ...                       ...       ...   \n",
       "191281                       NaN                       NaN       330   \n",
       "191282                       NaN                       NaN     AMBER   \n",
       "191283                       NaN                       NaN       C12   \n",
       "191284                       NaN                       NaN        FC   \n",
       "191285                       NaN                       NaN       502   \n",
       "\n",
       "       disposition  beat  priority        date            description_x  \\\n",
       "0                A   523         0  2020-01-01              PERSON DOWN   \n",
       "1                K   523         0  2020-01-01              PERSON DOWN   \n",
       "2                K   121         0  2020-01-01              PERSON DOWN   \n",
       "3                R   523         0  2020-01-01              PERSON DOWN   \n",
       "4              CAN   611         0  2020-01-01              PERSON DOWN   \n",
       "...            ...   ...       ...         ...                      ...   \n",
       "191281           K   441         3  2020-04-20                 GAMBLING   \n",
       "191282           W   521         1  2020-03-06         AMBER ALERT INFO   \n",
       "191283           A   627         1  2020-03-12  SWAT EMERGENCY RESPONSE   \n",
       "191284           O   613         4  2020-04-30   FRONT COUNTER CLOSURES   \n",
       "191285           R   512         4  2020-04-30          COMPUTER CRIMES   \n",
       "\n",
       "                  description_y              description  \n",
       "0                   PERSON DOWN              PERSON DOWN  \n",
       "1                   PERSON DOWN              PERSON DOWN  \n",
       "2                   PERSON DOWN              PERSON DOWN  \n",
       "3                   PERSON DOWN              PERSON DOWN  \n",
       "4                   PERSON DOWN              PERSON DOWN  \n",
       "...                         ...                      ...  \n",
       "191281                 GAMBLING                 GAMBLING  \n",
       "191282         AMBER ALERT INFO         AMBER ALERT INFO  \n",
       "191283  SWAT EMERGENCY RESPONSE  SWAT EMERGENCY RESPONSE  \n",
       "191284   FRONT COUNTER CLOSURES   FRONT COUNTER CLOSURES  \n",
       "191285          COMPUTER CRIMES          COMPUTER CRIMES  \n",
       "\n",
       "[191286 rows x 18 columns]"
      ]
     },
     "execution_count": 104,
     "metadata": {},
     "output_type": "execute_result"
    }
   ],
   "source": [
    "policeCalls = policeCalls.merge(callTypes,on='call_type')\n",
    "policeCalls"
   ]
  },
  {
   "cell_type": "code",
   "execution_count": 105,
   "metadata": {
    "deletable": false,
    "manual_problem_id": "disease_6_1"
   },
   "outputs": [
    {
     "name": "stdout",
     "output_type": "stream",
     "text": [
      "~~~~~~~~~~~~~~~~~~~~~~~~~~~~~~~~~~~~~~~~~~~~~~~~~~~~~~~~~~~~~~~~~~~~~\n",
      "Running tests\n",
      "\n",
      "---------------------------------------------------------------------\n",
      "Test summary\n",
      "    Passed: 1\n",
      "    Failed: 0\n",
      "[ooooooooook] 100.0% passed\n",
      "\n"
     ]
    }
   ],
   "source": [
    "_ = ok.grade('q3_2_2')"
   ]
  },
  {
   "cell_type": "markdown",
   "metadata": {},
   "source": [
    "**Question 3**: Now, recreate the barchart you made above with the `description` column that has the description of the call."
   ]
  },
  {
   "cell_type": "code",
   "execution_count": 107,
   "metadata": {
    "deletable": false,
    "scrolled": true
   },
   "outputs": [
    {
     "data": {
      "text/plain": [
       "<matplotlib.axes._subplots.AxesSubplot at 0x7f8a232372b0>"
      ]
     },
     "execution_count": 107,
     "metadata": {},
     "output_type": "execute_result"
    },
    {
     "data": {
      "image/png": "[encoded data removed]",
      "text/plain": [
       "<Figure size 432x288 with 1 Axes>"
      ]
     },
     "metadata": {},
     "output_type": "display_data"
    }
   ],
   "source": [
    "callCounts = policeCalls.groupby('description').count().sort_values('incident_num',ascending=False).get('incident_num')\n",
    "topCalls = policeCalls.groupby('description').count().sort_values('incident_num',ascending=False).reset_index().iloc[0:10,0:2].set_index('description')\n",
    "topCalls.plot(kind=\"barh\")"
   ]
  },
  {
   "cell_type": "code",
   "execution_count": 108,
   "metadata": {},
   "outputs": [
    {
     "name": "stdout",
     "output_type": "stream",
     "text": [
      "~~~~~~~~~~~~~~~~~~~~~~~~~~~~~~~~~~~~~~~~~~~~~~~~~~~~~~~~~~~~~~~~~~~~~\n",
      "Running tests\n",
      "\n",
      "---------------------------------------------------------------------\n",
      "Test summary\n",
      "    Passed: 1\n",
      "    Failed: 0\n",
      "[ooooooooook] 100.0% passed\n",
      "\n"
     ]
    }
   ],
   "source": [
    "_ = ok.grade('q3_2_3')"
   ]
  },
  {
   "cell_type": "markdown",
   "metadata": {},
   "source": [
    "**Question 4**: Now we will go a little more in depth by looking at the most common call types that occurred before 3-15 and after 3-15. Notice that our code will get a little repetitive, so we will define a function.\n",
    "\n",
    "Define a function `plotByDay` that takes in a table with columns like policeCalls and returns a barchart of the 10 most common call type descriptions, sorted from greatest to least. \n",
    "\n",
    "*Hint: This is very similar to what you did above, except the table we are using is different based on whether or not we are using incidents before or after 3-15.*"
   ]
  },
  {
   "cell_type": "code",
   "execution_count": 109,
   "metadata": {},
   "outputs": [],
   "source": [
    "def plotByDay(table):\n",
    "    sample_frame = table.groupby('description').count().sort_values('incident_num',ascending=False).iloc[0:10,0:1]\n",
    "    sample_frame.plot(kind=\"barh\")"
   ]
  },
  {
   "cell_type": "code",
   "execution_count": 110,
   "metadata": {},
   "outputs": [
    {
     "name": "stdout",
     "output_type": "stream",
     "text": [
      "~~~~~~~~~~~~~~~~~~~~~~~~~~~~~~~~~~~~~~~~~~~~~~~~~~~~~~~~~~~~~~~~~~~~~\n",
      "Running tests\n",
      "\n",
      "---------------------------------------------------------------------\n",
      "Test summary\n",
      "    Passed: 1\n",
      "    Failed: 0\n",
      "[ooooooooook] 100.0% passed\n",
      "\n"
     ]
    }
   ],
   "source": [
    "_ = ok.grade('q3_2_4')"
   ]
  },
  {
   "cell_type": "markdown",
   "metadata": {},
   "source": [
    "Run these cells below to visualize the most common types of calls before and after 3-15."
   ]
  },
  {
   "cell_type": "code",
   "execution_count": 111,
   "metadata": {},
   "outputs": [
    {
     "data": {
      "image/png": "[encoded data removed]",
      "text/plain": [
       "<Figure size 432x288 with 1 Axes>"
      ]
     },
     "metadata": {},
     "output_type": "display_data"
    }
   ],
   "source": [
    "#Calls before 3-15\n",
    "policeCallsBefore = policeCalls[policeCalls.get('date') <= \"2020-03-15\"]\n",
    "plotByDay(policeCallsBefore)"
   ]
  },
  {
   "cell_type": "code",
   "execution_count": 112,
   "metadata": {
    "scrolled": true
   },
   "outputs": [
    {
     "data": {
      "image/png": "[encoded data removed]",
      "text/plain": [
       "<Figure size 432x288 with 1 Axes>"
      ]
     },
     "metadata": {},
     "output_type": "display_data"
    }
   ],
   "source": [
    "#Calls after 3-15\n",
    "policeCallsAfter = policeCalls[policeCalls.get('date') > \"2020-03-15\"]\n",
    "plotByDay(policeCallsAfter)"
   ]
  },
  {
   "cell_type": "markdown",
   "metadata": {},
   "source": [
    "We have now explored some of the calls that are present in the data and their distributions. We will now go into a deeper analysis of these types of calls and how some have changed because of the COVID-19 situation. "
   ]
  },
  {
   "cell_type": "markdown",
   "metadata": {},
   "source": [
    "**Question 5**: What interesting things do you notice when comparing the two plots above? Have the number of police calls relatively increased or decreased after 3-15? What call types increased in frequency, and which ones decreased? You don't have to expliciitly state every difference, but note at least 3-4 differences you observe."
   ]
  },
  {
   "cell_type": "markdown",
   "metadata": {},
   "source": [
    "<hr style=\"color:Maroon;background-color:Maroon;border:0 none; height: 3px;\">\n",
    "\n",
    "The number of police calls have relatively decreased after 3-15. We can notice that 'traffic stop' was a prevelant factor before 3/15, while after 3/15 it decreases sharply. Interestingly, 'special detail' rises sharply after 3/15.\n",
    "Further, we can also see that there is a decrease in burglary after 3/15, likely because everyone is at home!\n",
    "\n",
    "<hr style=\"color:Maroon;background-color:Maroon;border:0 none; height: 3px;\">"
   ]
  },
  {
   "cell_type": "markdown",
   "metadata": {},
   "source": [
    "In this section, we saw trends in different police call types and how they've changed before and after March 15, which is the benchmark we used for COVID-19. Data visualization makes it easy for us to get a quick glance at how categories differ relative to each other. In the next section, we will expand and go deeper into this topic by quantifying the changes through statistical analyses."
   ]
  },
  {
   "cell_type": "markdown",
   "metadata": {
    "deletable": false,
    "manual_problem_id": "disease_4_2_7"
   },
   "source": [
    "## Part 4: Deeper Analysis of Police Call Changes\n",
    "We will now go more in-depth of how police calls have changed over time and find some possible explanations. Because of the COVID-19 situation, many shelter-in-place orders have enforced people to stay at home. This will greatly increase certain types of police reports, while reducing others. We will work with time-series regression and continue the hypotheses testing we did in the previous parts for a wider range of police reports."
   ]
  },
  {
   "cell_type": "markdown",
   "metadata": {},
   "source": [
    "### Section 1:  Which Call Types Dropped the Most?\n",
    "As we may have noticed from the previous part, some types of calls seemed to have suddenly dropped after 3-15, which may be a consequence of COVID-19. We will now explore how specific types of calls have changed by analyzing the percentage drop as well as hypotheses testing to generate p-values."
   ]
  },
  {
   "cell_type": "markdown",
   "metadata": {},
   "source": [
    "**Question 1**: Write a function called `filterByDescription` that takes in a table and a description string, and outputs a table with same columns as policeCalls, but only with description matching the inputted description.\n",
    "\n",
    "For example, \n",
    "\n",
    "```\n",
    "d = \"TRAFFIC STOP\"\n",
    "filterByDescription(policeCalls, d)\n",
    "```\n",
    "\n",
    "will give back a table with the same columns as policeCalls, but with only traffic stops."
   ]
  },
  {
   "cell_type": "code",
   "execution_count": 116,
   "metadata": {},
   "outputs": [],
   "source": [
    "def filterByDescription(policeCalls, description):\n",
    "    return policeCalls[policeCalls.get('description') == description]"
   ]
  },
  {
   "cell_type": "code",
   "execution_count": 117,
   "metadata": {},
   "outputs": [
    {
     "data": {
      "text/html": [
       "<div>\n",
       "<style scoped>\n",
       "    .dataframe tbody tr th:only-of-type {\n",
       "        vertical-align: middle;\n",
       "    }\n",
       "\n",
       "    .dataframe tbody tr th {\n",
       "        vertical-align: top;\n",
       "    }\n",
       "\n",
       "    .dataframe thead th {\n",
       "        text-align: right;\n",
       "    }\n",
       "</style>\n",
       "<table border=\"1\" class=\"dataframe\">\n",
       "  <thead>\n",
       "    <tr style=\"text-align: right;\">\n",
       "      <th></th>\n",
       "      <th>incident_num</th>\n",
       "      <th>date_time</th>\n",
       "      <th>day_of_week</th>\n",
       "      <th>address_number_primary</th>\n",
       "      <th>address_dir_primary</th>\n",
       "      <th>address_road_primary</th>\n",
       "      <th>address_sfx_primary</th>\n",
       "      <th>address_dir_intersecting</th>\n",
       "      <th>address_road_intersecting</th>\n",
       "      <th>address_sfx_intersecting</th>\n",
       "      <th>call_type</th>\n",
       "      <th>disposition</th>\n",
       "      <th>beat</th>\n",
       "      <th>priority</th>\n",
       "      <th>date</th>\n",
       "      <th>description_x</th>\n",
       "      <th>description_y</th>\n",
       "      <th>description</th>\n",
       "    </tr>\n",
       "  </thead>\n",
       "  <tbody>\n",
       "    <tr>\n",
       "      <th>24388</th>\n",
       "      <td>E20010000042</td>\n",
       "      <td>2020-01-01 00:09:48</td>\n",
       "      <td>4</td>\n",
       "      <td>0</td>\n",
       "      <td>NaN</td>\n",
       "      <td>BALBOA</td>\n",
       "      <td>AVE</td>\n",
       "      <td>NaN</td>\n",
       "      <td>MOUNT CULEBRA</td>\n",
       "      <td>NaN</td>\n",
       "      <td>T</td>\n",
       "      <td>O</td>\n",
       "      <td>112</td>\n",
       "      <td>2</td>\n",
       "      <td>2020-01-01</td>\n",
       "      <td>TRAFFIC STOP</td>\n",
       "      <td>TRAFFIC STOP</td>\n",
       "      <td>TRAFFIC STOP</td>\n",
       "    </tr>\n",
       "    <tr>\n",
       "      <th>24389</th>\n",
       "      <td>E20010000160</td>\n",
       "      <td>2020-01-01 00:59:38</td>\n",
       "      <td>4</td>\n",
       "      <td>8800</td>\n",
       "      <td>NaN</td>\n",
       "      <td>CAPRICORN</td>\n",
       "      <td>WAY</td>\n",
       "      <td>NaN</td>\n",
       "      <td>NaN</td>\n",
       "      <td>NaN</td>\n",
       "      <td>T</td>\n",
       "      <td>K</td>\n",
       "      <td>242</td>\n",
       "      <td>2</td>\n",
       "      <td>2020-01-01</td>\n",
       "      <td>TRAFFIC STOP</td>\n",
       "      <td>TRAFFIC STOP</td>\n",
       "      <td>TRAFFIC STOP</td>\n",
       "    </tr>\n",
       "    <tr>\n",
       "      <th>24390</th>\n",
       "      <td>E20010000165</td>\n",
       "      <td>2020-01-01 01:01:09</td>\n",
       "      <td>4</td>\n",
       "      <td>4500</td>\n",
       "      <td>NaN</td>\n",
       "      <td>CASS</td>\n",
       "      <td>ST</td>\n",
       "      <td>NaN</td>\n",
       "      <td>NaN</td>\n",
       "      <td>NaN</td>\n",
       "      <td>T</td>\n",
       "      <td>CAN</td>\n",
       "      <td>122</td>\n",
       "      <td>2</td>\n",
       "      <td>2020-01-01</td>\n",
       "      <td>TRAFFIC STOP</td>\n",
       "      <td>TRAFFIC STOP</td>\n",
       "      <td>TRAFFIC STOP</td>\n",
       "    </tr>\n",
       "    <tr>\n",
       "      <th>24391</th>\n",
       "      <td>E20010000166</td>\n",
       "      <td>2020-01-01 01:01:13</td>\n",
       "      <td>4</td>\n",
       "      <td>4500</td>\n",
       "      <td>NaN</td>\n",
       "      <td>CASS</td>\n",
       "      <td>ST</td>\n",
       "      <td>NaN</td>\n",
       "      <td>NaN</td>\n",
       "      <td>NaN</td>\n",
       "      <td>T</td>\n",
       "      <td>K</td>\n",
       "      <td>122</td>\n",
       "      <td>2</td>\n",
       "      <td>2020-01-01</td>\n",
       "      <td>TRAFFIC STOP</td>\n",
       "      <td>TRAFFIC STOP</td>\n",
       "      <td>TRAFFIC STOP</td>\n",
       "    </tr>\n",
       "    <tr>\n",
       "      <th>24392</th>\n",
       "      <td>E20010000258</td>\n",
       "      <td>2020-01-01 01:50:25</td>\n",
       "      <td>4</td>\n",
       "      <td>3900</td>\n",
       "      <td>NaN</td>\n",
       "      <td>HIGHLAND</td>\n",
       "      <td>AVE</td>\n",
       "      <td>NaN</td>\n",
       "      <td>NaN</td>\n",
       "      <td>NaN</td>\n",
       "      <td>T</td>\n",
       "      <td>K</td>\n",
       "      <td>833</td>\n",
       "      <td>2</td>\n",
       "      <td>2020-01-01</td>\n",
       "      <td>TRAFFIC STOP</td>\n",
       "      <td>TRAFFIC STOP</td>\n",
       "      <td>TRAFFIC STOP</td>\n",
       "    </tr>\n",
       "    <tr>\n",
       "      <th>...</th>\n",
       "      <td>...</td>\n",
       "      <td>...</td>\n",
       "      <td>...</td>\n",
       "      <td>...</td>\n",
       "      <td>...</td>\n",
       "      <td>...</td>\n",
       "      <td>...</td>\n",
       "      <td>...</td>\n",
       "      <td>...</td>\n",
       "      <td>...</td>\n",
       "      <td>...</td>\n",
       "      <td>...</td>\n",
       "      <td>...</td>\n",
       "      <td>...</td>\n",
       "      <td>...</td>\n",
       "      <td>...</td>\n",
       "      <td>...</td>\n",
       "      <td>...</td>\n",
       "    </tr>\n",
       "    <tr>\n",
       "      <th>33730</th>\n",
       "      <td>E20050003172</td>\n",
       "      <td>2020-05-02 19:32:29</td>\n",
       "      <td>7</td>\n",
       "      <td>4300</td>\n",
       "      <td>NaN</td>\n",
       "      <td>GRESHAM</td>\n",
       "      <td>ST</td>\n",
       "      <td>NaN</td>\n",
       "      <td>NaN</td>\n",
       "      <td>NaN</td>\n",
       "      <td>T</td>\n",
       "      <td>O</td>\n",
       "      <td>122</td>\n",
       "      <td>2</td>\n",
       "      <td>2020-05-02</td>\n",
       "      <td>TRAFFIC STOP</td>\n",
       "      <td>TRAFFIC STOP</td>\n",
       "      <td>TRAFFIC STOP</td>\n",
       "    </tr>\n",
       "    <tr>\n",
       "      <th>33731</th>\n",
       "      <td>E20050003249</td>\n",
       "      <td>2020-05-02 20:11:51</td>\n",
       "      <td>7</td>\n",
       "      <td>4400</td>\n",
       "      <td>NaN</td>\n",
       "      <td>CASS</td>\n",
       "      <td>ST</td>\n",
       "      <td>NaN</td>\n",
       "      <td>NaN</td>\n",
       "      <td>NaN</td>\n",
       "      <td>T</td>\n",
       "      <td>O</td>\n",
       "      <td>122</td>\n",
       "      <td>2</td>\n",
       "      <td>2020-05-02</td>\n",
       "      <td>TRAFFIC STOP</td>\n",
       "      <td>TRAFFIC STOP</td>\n",
       "      <td>TRAFFIC STOP</td>\n",
       "    </tr>\n",
       "    <tr>\n",
       "      <th>33732</th>\n",
       "      <td>E20050003340</td>\n",
       "      <td>2020-05-02 21:14:17</td>\n",
       "      <td>7</td>\n",
       "      <td>3400</td>\n",
       "      <td>NaN</td>\n",
       "      <td>DEL MAR HEIGHTS</td>\n",
       "      <td>RD</td>\n",
       "      <td>NaN</td>\n",
       "      <td>NaN</td>\n",
       "      <td>NaN</td>\n",
       "      <td>T</td>\n",
       "      <td>K</td>\n",
       "      <td>934</td>\n",
       "      <td>2</td>\n",
       "      <td>2020-05-02</td>\n",
       "      <td>TRAFFIC STOP</td>\n",
       "      <td>TRAFFIC STOP</td>\n",
       "      <td>TRAFFIC STOP</td>\n",
       "    </tr>\n",
       "    <tr>\n",
       "      <th>33733</th>\n",
       "      <td>E20050003360</td>\n",
       "      <td>2020-05-02 21:25:50</td>\n",
       "      <td>7</td>\n",
       "      <td>0</td>\n",
       "      <td>NaN</td>\n",
       "      <td>42ND</td>\n",
       "      <td>ST</td>\n",
       "      <td>NaN</td>\n",
       "      <td>MARKET</td>\n",
       "      <td>NaN</td>\n",
       "      <td>T</td>\n",
       "      <td>K</td>\n",
       "      <td>444</td>\n",
       "      <td>2</td>\n",
       "      <td>2020-05-02</td>\n",
       "      <td>TRAFFIC STOP</td>\n",
       "      <td>TRAFFIC STOP</td>\n",
       "      <td>TRAFFIC STOP</td>\n",
       "    </tr>\n",
       "    <tr>\n",
       "      <th>33734</th>\n",
       "      <td>E20050003385</td>\n",
       "      <td>2020-05-02 21:42:04</td>\n",
       "      <td>7</td>\n",
       "      <td>1900</td>\n",
       "      <td>NaN</td>\n",
       "      <td>GARNET</td>\n",
       "      <td>AVE</td>\n",
       "      <td>NaN</td>\n",
       "      <td>NaN</td>\n",
       "      <td>NaN</td>\n",
       "      <td>T</td>\n",
       "      <td>K</td>\n",
       "      <td>122</td>\n",
       "      <td>2</td>\n",
       "      <td>2020-05-02</td>\n",
       "      <td>TRAFFIC STOP</td>\n",
       "      <td>TRAFFIC STOP</td>\n",
       "      <td>TRAFFIC STOP</td>\n",
       "    </tr>\n",
       "  </tbody>\n",
       "</table>\n",
       "<p>9347 rows × 18 columns</p>\n",
       "</div>"
      ],
      "text/plain": [
       "       incident_num            date_time  day_of_week  address_number_primary  \\\n",
       "24388  E20010000042  2020-01-01 00:09:48            4                       0   \n",
       "24389  E20010000160  2020-01-01 00:59:38            4                    8800   \n",
       "24390  E20010000165  2020-01-01 01:01:09            4                    4500   \n",
       "24391  E20010000166  2020-01-01 01:01:13            4                    4500   \n",
       "24392  E20010000258  2020-01-01 01:50:25            4                    3900   \n",
       "...             ...                  ...          ...                     ...   \n",
       "33730  E20050003172  2020-05-02 19:32:29            7                    4300   \n",
       "33731  E20050003249  2020-05-02 20:11:51            7                    4400   \n",
       "33732  E20050003340  2020-05-02 21:14:17            7                    3400   \n",
       "33733  E20050003360  2020-05-02 21:25:50            7                       0   \n",
       "33734  E20050003385  2020-05-02 21:42:04            7                    1900   \n",
       "\n",
       "      address_dir_primary address_road_primary address_sfx_primary  \\\n",
       "24388                 NaN               BALBOA                 AVE   \n",
       "24389                 NaN            CAPRICORN                 WAY   \n",
       "24390                 NaN                 CASS                  ST   \n",
       "24391                 NaN                 CASS                  ST   \n",
       "24392                 NaN             HIGHLAND                 AVE   \n",
       "...                   ...                  ...                 ...   \n",
       "33730                 NaN              GRESHAM                  ST   \n",
       "33731                 NaN                 CASS                  ST   \n",
       "33732                 NaN      DEL MAR HEIGHTS                  RD   \n",
       "33733                 NaN                 42ND                  ST   \n",
       "33734                 NaN               GARNET                 AVE   \n",
       "\n",
       "       address_dir_intersecting address_road_intersecting  \\\n",
       "24388                       NaN             MOUNT CULEBRA   \n",
       "24389                       NaN                       NaN   \n",
       "24390                       NaN                       NaN   \n",
       "24391                       NaN                       NaN   \n",
       "24392                       NaN                       NaN   \n",
       "...                         ...                       ...   \n",
       "33730                       NaN                       NaN   \n",
       "33731                       NaN                       NaN   \n",
       "33732                       NaN                       NaN   \n",
       "33733                       NaN                    MARKET   \n",
       "33734                       NaN                       NaN   \n",
       "\n",
       "       address_sfx_intersecting call_type disposition  beat  priority  \\\n",
       "24388                       NaN         T           O   112         2   \n",
       "24389                       NaN         T           K   242         2   \n",
       "24390                       NaN         T         CAN   122         2   \n",
       "24391                       NaN         T           K   122         2   \n",
       "24392                       NaN         T           K   833         2   \n",
       "...                         ...       ...         ...   ...       ...   \n",
       "33730                       NaN         T           O   122         2   \n",
       "33731                       NaN         T           O   122         2   \n",
       "33732                       NaN         T           K   934         2   \n",
       "33733                       NaN         T           K   444         2   \n",
       "33734                       NaN         T           K   122         2   \n",
       "\n",
       "             date description_x description_y   description  \n",
       "24388  2020-01-01  TRAFFIC STOP  TRAFFIC STOP  TRAFFIC STOP  \n",
       "24389  2020-01-01  TRAFFIC STOP  TRAFFIC STOP  TRAFFIC STOP  \n",
       "24390  2020-01-01  TRAFFIC STOP  TRAFFIC STOP  TRAFFIC STOP  \n",
       "24391  2020-01-01  TRAFFIC STOP  TRAFFIC STOP  TRAFFIC STOP  \n",
       "24392  2020-01-01  TRAFFIC STOP  TRAFFIC STOP  TRAFFIC STOP  \n",
       "...           ...           ...           ...           ...  \n",
       "33730  2020-05-02  TRAFFIC STOP  TRAFFIC STOP  TRAFFIC STOP  \n",
       "33731  2020-05-02  TRAFFIC STOP  TRAFFIC STOP  TRAFFIC STOP  \n",
       "33732  2020-05-02  TRAFFIC STOP  TRAFFIC STOP  TRAFFIC STOP  \n",
       "33733  2020-05-02  TRAFFIC STOP  TRAFFIC STOP  TRAFFIC STOP  \n",
       "33734  2020-05-02  TRAFFIC STOP  TRAFFIC STOP  TRAFFIC STOP  \n",
       "\n",
       "[9347 rows x 18 columns]"
      ]
     },
     "execution_count": 117,
     "metadata": {},
     "output_type": "execute_result"
    }
   ],
   "source": [
    "#Run this cell to test your code\n",
    "description = \"TRAFFIC STOP\"\n",
    "traffic = filterByDescription(policeCalls, description)\n",
    "traffic"
   ]
  },
  {
   "cell_type": "code",
   "execution_count": 118,
   "metadata": {},
   "outputs": [
    {
     "name": "stdout",
     "output_type": "stream",
     "text": [
      "~~~~~~~~~~~~~~~~~~~~~~~~~~~~~~~~~~~~~~~~~~~~~~~~~~~~~~~~~~~~~~~~~~~~~\n",
      "Running tests\n",
      "\n",
      "---------------------------------------------------------------------\n",
      "Test summary\n",
      "    Passed: 1\n",
      "    Failed: 0\n",
      "[ooooooooook] 100.0% passed\n",
      "\n"
     ]
    }
   ],
   "source": [
    "_ = ok.grade('q4_1_1')"
   ]
  },
  {
   "cell_type": "markdown",
   "metadata": {},
   "source": [
    "**Question 2**: Recall the bootstrapping test we did in Part 3. We can now analyze different call types and see if they've changed before and after 3-15. Previously, we had used all the data to perform a bootstrap, but now we can focus on specific call types. \n",
    "\n",
    "In the question below, create `before` and `after` that contain all traffic stop reports before 3-15 and after 3-15. Use the traffic table already defined to do this.\n",
    "\n",
    "*Hint: Remember to always reuse your previous functions! `getCountsByDayBefore` and `getCountsByDayAfter` will be useful for getting tables with dates before and after 3-15.*"
   ]
  },
  {
   "cell_type": "code",
   "execution_count": 119,
   "metadata": {},
   "outputs": [],
   "source": [
    "traffic = filterByDescription(policeCalls, description)\n",
    "before = getCountsByDayBefore(traffic)\n",
    "after = getCountsByDayAfter(traffic)"
   ]
  },
  {
   "cell_type": "markdown",
   "metadata": {},
   "source": [
    "Rather than typing out all of the bootstrapping code again, we can simply call our functions to do the computation for us. We will use the `getPercentDrop` and `get_p` functions to compute the percent drop and p-value of whether the amount of calls have dropped or not after 3-15."
   ]
  },
  {
   "cell_type": "code",
   "execution_count": 120,
   "metadata": {},
   "outputs": [
    {
     "name": "stdout",
     "output_type": "stream",
     "text": [
      "Percent Drop:  33.0050061143\n",
      "p-value:  0.0\n"
     ]
    }
   ],
   "source": [
    "print(\"Percent Drop: \", getPercentDrop(before, after)) #TAKES 2 ARRAY AS INPUT\n",
    "print(\"p-value: \", get_p(before, after))               #TAKES 2 TABLES AS INPUT -> TAKES 2 ARRAYS"
   ]
  },
  {
   "cell_type": "code",
   "execution_count": 121,
   "metadata": {},
   "outputs": [
    {
     "name": "stdout",
     "output_type": "stream",
     "text": [
      "~~~~~~~~~~~~~~~~~~~~~~~~~~~~~~~~~~~~~~~~~~~~~~~~~~~~~~~~~~~~~~~~~~~~~\n",
      "Running tests\n",
      "\n",
      "---------------------------------------------------------------------\n",
      "Test summary\n",
      "    Passed: 1\n",
      "    Failed: 0\n",
      "[ooooooooook] 100.0% passed\n",
      "\n"
     ]
    }
   ],
   "source": [
    "_ = ok.grade('q4_1_2')"
   ]
  },
  {
   "cell_type": "markdown",
   "metadata": {},
   "source": [
    "**Question 3**: Interpret the results of the bootstrapping test and percent drop. What can we say about the null hypothesis that the amount of traffic stop reports have not dropped from before 3-15 compared to after? Refer back to part 3 if you're having trouble interpreting. \n",
    "\n",
    "*Hint: Remember, the major difference between our test here and in part 3 is that we only look at traffic stop calls in this part, but looked at all calls in part 3.*"
   ]
  },
  {
   "cell_type": "markdown",
   "metadata": {},
   "source": [
    "<hr style=\"color:Maroon;background-color:Maroon;border:0 none; height: 3px;\">\n",
    "\n",
    "We have evidence to reject the null hypothesis that the amount of traffic reports is the same before and after 3-15. We therefor accept the alternative hypothesis that there WAS a mean drop in traffic reports after 3-15.\n",
    "\n",
    "<hr style=\"color:Maroon;background-color:Maroon;border:0 none; height: 3px;\">"
   ]
  },
  {
   "cell_type": "markdown",
   "metadata": {},
   "source": [
    "Great! Now that we've taken a look at traffic stop calls, we want to do the same for more call types. We will examine how several types of calls have changed after 3-15."
   ]
  },
  {
   "cell_type": "markdown",
   "metadata": {},
   "source": [
    "**Question 4**: First, let's take the top 10 police calls we had made above and get the counts of each in an array. Store this in a Series, `descriptionList`. This is similar to what you did above for `topCalls`. Then, sort `descriptionList` in descending order."
   ]
  },
  {
   "cell_type": "code",
   "execution_count": 123,
   "metadata": {},
   "outputs": [
    {
     "data": {
      "text/plain": [
       "description\n",
       "DISTURBING PEACE               19815\n",
       "SELECTIVE ENFORCEMENT          13607\n",
       "TRAFFIC STOP                    9347\n",
       "CHECK THE WELFARE               8189\n",
       "BURGLARY ALARM                  7737\n",
       "PED STOP/FIELD INTERVIEW        6831\n",
       "SPECIAL DETAIL                  6495\n",
       "ILLEGAL PARKING                 5805\n",
       "UNK EMERG,HANG UP/OPEN LINE     5415\n",
       "DISTURBING PEACE W/VIOLENCE     4990\n",
       "Name: incident_num, dtype: int64"
      ]
     },
     "execution_count": 123,
     "metadata": {},
     "output_type": "execute_result"
    }
   ],
   "source": [
    "descriptionList = policeCalls.groupby('description').count().sort_values('incident_num',ascending=False).iloc[0:10,0:1].get('incident_num')\n",
    "descriptionList"
   ]
  },
  {
   "cell_type": "code",
   "execution_count": 124,
   "metadata": {},
   "outputs": [
    {
     "name": "stdout",
     "output_type": "stream",
     "text": [
      "~~~~~~~~~~~~~~~~~~~~~~~~~~~~~~~~~~~~~~~~~~~~~~~~~~~~~~~~~~~~~~~~~~~~~\n",
      "Running tests\n",
      "\n",
      "---------------------------------------------------------------------\n",
      "Test summary\n",
      "    Passed: 1\n",
      "    Failed: 0\n",
      "[ooooooooook] 100.0% passed\n",
      "\n"
     ]
    }
   ],
   "source": [
    "_ = ok.grade('q4_1_4')"
   ]
  },
  {
   "cell_type": "markdown",
   "metadata": {},
   "source": [
    "**Question 5**: Now, we will loop through each of the top 10 call descriptions and save both the percent drop and p-value in arrays. This is similar to what you ddi above for traffic stops, except we are looking at more descriptions.\n",
    "\n",
    "*Note: Your code may take a while to run, since we are performing iterations for every description.*"
   ]
  },
  {
   "cell_type": "code",
   "execution_count": 126,
   "metadata": {},
   "outputs": [
    {
     "data": {
      "text/plain": [
       "array([ 0.8411,  0.    ,  0.    ,  1.    ,  0.0126,  0.    ,  0.361 ,\n",
       "        0.    ,  1.    ,  1.    ])"
      ]
     },
     "execution_count": 126,
     "metadata": {},
     "output_type": "execute_result"
    }
   ],
   "source": [
    "p_values"
   ]
  },
  {
   "cell_type": "code",
   "execution_count": 125,
   "metadata": {},
   "outputs": [],
   "source": [
    "descriptions = descriptionList.index\n",
    "p_values = ([])\n",
    "percentDrops = ([])\n",
    "for description in descriptions:\n",
    "    description_table = filterByDescription(policeCalls,description)\n",
    "    before = getCountsByDayBefore(description_table)\n",
    "    after = getCountsByDayAfter(description_table)\n",
    "    percentDrop = getPercentDrop(before,after)\n",
    "    percentDrops = np.append(percentDrop,percentDrops)\n",
    "    p_value = get_p(before,after)\n",
    "    p_values = np.append(p_value,p_values)\n"
   ]
  },
  {
   "cell_type": "code",
   "execution_count": 127,
   "metadata": {},
   "outputs": [
    {
     "name": "stdout",
     "output_type": "stream",
     "text": [
      "~~~~~~~~~~~~~~~~~~~~~~~~~~~~~~~~~~~~~~~~~~~~~~~~~~~~~~~~~~~~~~~~~~~~~\n",
      "Running tests\n",
      "\n",
      "---------------------------------------------------------------------\n",
      "Test summary\n",
      "    Passed: 1\n",
      "    Failed: 0\n",
      "[ooooooooook] 100.0% passed\n",
      "\n"
     ]
    }
   ],
   "source": [
    "_ = ok.grade('q4_1_5')"
   ]
  },
  {
   "cell_type": "markdown",
   "metadata": {},
   "source": [
    "Now that we have arrays of the p-values and percentage drops, we can visualize how different call types of changed before and after 3-15."
   ]
  },
  {
   "cell_type": "markdown",
   "metadata": {},
   "source": [
    "**Question 6**: Create a new table `changes` that has a row for each of the top 10 descriptions we examined above, with a column `p_values` for the p-values calculated and a column `percentDrop` for the percent drops calculated. Make sure you set the index of the table to the call descriptions. You may add more lines."
   ]
  },
  {
   "cell_type": "code",
   "execution_count": 128,
   "metadata": {},
   "outputs": [
    {
     "data": {
      "text/html": [
       "<div>\n",
       "<style scoped>\n",
       "    .dataframe tbody tr th:only-of-type {\n",
       "        vertical-align: middle;\n",
       "    }\n",
       "\n",
       "    .dataframe tbody tr th {\n",
       "        vertical-align: top;\n",
       "    }\n",
       "\n",
       "    .dataframe thead th {\n",
       "        text-align: right;\n",
       "    }\n",
       "</style>\n",
       "<table border=\"1\" class=\"dataframe\">\n",
       "  <thead>\n",
       "    <tr style=\"text-align: right;\">\n",
       "      <th></th>\n",
       "      <th>p_values</th>\n",
       "      <th>percentDrop</th>\n",
       "    </tr>\n",
       "    <tr>\n",
       "      <th>name</th>\n",
       "      <th></th>\n",
       "      <th></th>\n",
       "    </tr>\n",
       "  </thead>\n",
       "  <tbody>\n",
       "    <tr>\n",
       "      <th>DISTURBING PEACE</th>\n",
       "      <td>0.8411</td>\n",
       "      <td>-4.340742</td>\n",
       "    </tr>\n",
       "    <tr>\n",
       "      <th>SELECTIVE ENFORCEMENT</th>\n",
       "      <td>0.0000</td>\n",
       "      <td>25.832312</td>\n",
       "    </tr>\n",
       "    <tr>\n",
       "      <th>TRAFFIC STOP</th>\n",
       "      <td>0.0000</td>\n",
       "      <td>55.579369</td>\n",
       "    </tr>\n",
       "    <tr>\n",
       "      <th>CHECK THE WELFARE</th>\n",
       "      <td>1.0000</td>\n",
       "      <td>-68.292293</td>\n",
       "    </tr>\n",
       "    <tr>\n",
       "      <th>BURGLARY ALARM</th>\n",
       "      <td>0.0126</td>\n",
       "      <td>9.579385</td>\n",
       "    </tr>\n",
       "    <tr>\n",
       "      <th>PED STOP/FIELD INTERVIEW</th>\n",
       "      <td>0.0000</td>\n",
       "      <td>23.364959</td>\n",
       "    </tr>\n",
       "    <tr>\n",
       "      <th>SPECIAL DETAIL</th>\n",
       "      <td>0.3610</td>\n",
       "      <td>1.058287</td>\n",
       "    </tr>\n",
       "    <tr>\n",
       "      <th>ILLEGAL PARKING</th>\n",
       "      <td>0.0000</td>\n",
       "      <td>33.005006</td>\n",
       "    </tr>\n",
       "    <tr>\n",
       "      <th>UNK EMERG,HANG UP/OPEN LINE</th>\n",
       "      <td>1.0000</td>\n",
       "      <td>-71.193978</td>\n",
       "    </tr>\n",
       "    <tr>\n",
       "      <th>DISTURBING PEACE W/VIOLENCE</th>\n",
       "      <td>1.0000</td>\n",
       "      <td>-41.279670</td>\n",
       "    </tr>\n",
       "  </tbody>\n",
       "</table>\n",
       "</div>"
      ],
      "text/plain": [
       "                             p_values  percentDrop\n",
       "name                                              \n",
       "DISTURBING PEACE               0.8411    -4.340742\n",
       "SELECTIVE ENFORCEMENT          0.0000    25.832312\n",
       "TRAFFIC STOP                   0.0000    55.579369\n",
       "CHECK THE WELFARE              1.0000   -68.292293\n",
       "BURGLARY ALARM                 0.0126     9.579385\n",
       "PED STOP/FIELD INTERVIEW       0.0000    23.364959\n",
       "SPECIAL DETAIL                 0.3610     1.058287\n",
       "ILLEGAL PARKING                0.0000    33.005006\n",
       "UNK EMERG,HANG UP/OPEN LINE    1.0000   -71.193978\n",
       "DISTURBING PEACE W/VIOLENCE    1.0000   -41.279670"
      ]
     },
     "execution_count": 128,
     "metadata": {},
     "output_type": "execute_result"
    }
   ],
   "source": [
    "changes = bpd.DataFrame().assign(p_values = p_values,percentDrop = percentDrops,name=descriptions).set_index('name')\n",
    "changes\n"
   ]
  },
  {
   "cell_type": "code",
   "execution_count": 132,
   "metadata": {},
   "outputs": [
    {
     "name": "stdout",
     "output_type": "stream",
     "text": [
      "~~~~~~~~~~~~~~~~~~~~~~~~~~~~~~~~~~~~~~~~~~~~~~~~~~~~~~~~~~~~~~~~~~~~~\n",
      "Running tests\n",
      "\n",
      "---------------------------------------------------------------------\n",
      "Test summary\n",
      "    Passed: 1\n",
      "    Failed: 0\n",
      "[ooooooooook] 100.0% passed\n",
      "\n"
     ]
    }
   ],
   "source": [
    "_ = ok.grade('q4_1_6')"
   ]
  },
  {
   "cell_type": "markdown",
   "metadata": {},
   "source": [
    "Great! Now we can visualize the changes in different types of calls together so we can understand how certain types of calls have changed relative to one another. We can also observe the p-values as well to determine which calls seemed to have a statistically significant drop in count after 3-15. \n",
    "\n",
    "Run the cells below."
   ]
  },
  {
   "cell_type": "code",
   "execution_count": 130,
   "metadata": {},
   "outputs": [
    {
     "data": {
      "text/plain": [
       "<matplotlib.axes._subplots.AxesSubplot at 0x7f8a27a342b0>"
      ]
     },
     "execution_count": 130,
     "metadata": {},
     "output_type": "execute_result"
    },
    {
     "data": {
      "image/png": "[encoded data removed]",
      "text/plain": [
       "<Figure size 720x720 with 1 Axes>"
      ]
     },
     "metadata": {},
     "output_type": "display_data"
    }
   ],
   "source": [
    "fig = plots.gcf()\n",
    "fig.set_size_inches(10, 10)\n",
    "changes.get(\"percentDrop\").sort_values().plot(kind=\"barh\")"
   ]
  },
  {
   "cell_type": "code",
   "execution_count": 131,
   "metadata": {},
   "outputs": [
    {
     "data": {
      "text/plain": [
       "<matplotlib.axes._subplots.AxesSubplot at 0x7f8a2ac9af98>"
      ]
     },
     "execution_count": 131,
     "metadata": {},
     "output_type": "execute_result"
    },
    {
     "data": {
      "image/png": "[encoded data removed]",
      "text/plain": [
       "<Figure size 720x720 with 1 Axes>"
      ]
     },
     "metadata": {},
     "output_type": "display_data"
    }
   ],
   "source": [
    "fig = plots.gcf()\n",
    "fig.set_size_inches(10, 10)\n",
    "changes.get(\"p_values\").sort_values().plot(kind=\"barh\")"
   ]
  },
  {
   "cell_type": "markdown",
   "metadata": {},
   "source": [
    "**Question 7**: Examine the plots made above about percent drops and p-values of the diffeernt types of calls. What features do you notice? Which calls seemed to have the most significant changes of percent drops, and which drops are more likely to be statistically significant? You don't need to list out every detail, but make sure you talk about at least 3 observations."
   ]
  },
  {
   "cell_type": "markdown",
   "metadata": {},
   "source": [
    "<hr style=\"color:Maroon;background-color:Maroon;border:0 none; height: 3px;\">\n",
    "\n",
    "*Write your answer here, replacing this text.*\n",
    "\n",
    "<hr style=\"color:Maroon;background-color:Maroon;border:0 none; height: 3px;\">"
   ]
  },
  {
   "cell_type": "markdown",
   "metadata": {},
   "source": [
    "We have now looked at different types of calls and how they have changed from before 3-15 to after 3-15, which may be explainable by the coronavirus situation. We looked at the drop rates as well as the p-values to determine whether certain types of calls have had a statistically significant change."
   ]
  },
  {
   "cell_type": "markdown",
   "metadata": {},
   "source": [
    "### Section 2: Time-Series Regression of Call Trends\n",
    "In this section, we will perform some regression analyses of call types and the dates. This will help us determine the correlations/slopes to understand whether some types of reports have decreased, increased, or remained relatively steady."
   ]
  },
  {
   "cell_type": "markdown",
   "metadata": {},
   "source": [
    "**Question 1**: Define a function below, `countsAfterByDescription` that takes in a table and a description, computes outputs an array of incident report counts by dates after 3-15, and returns a line plot of this array, with date as the x-axis and counts of incident reports as the y-axis. Take advantage of the functions you perviously defined.\n",
    "\n",
    "*Hint: You'll find the functions `getCountsByDayAfter` and `filterByDescription` to be useful.*"
   ]
  },
  {
   "cell_type": "code",
   "execution_count": 133,
   "metadata": {},
   "outputs": [],
   "source": [
    "def countsAfterByDescription(table, description):\n",
    "    filtered = filterByDescription(table,description)\n",
    "    counts = getCountsByDayAfter(filtered)\n",
    "    counts.plot()"
   ]
  },
  {
   "cell_type": "markdown",
   "metadata": {},
   "source": [
    "Let's take a look at the trend of police calls with a description of \"DISTURBING PEACE\" after 3-15."
   ]
  },
  {
   "cell_type": "code",
   "execution_count": 134,
   "metadata": {},
   "outputs": [
    {
     "data": {
      "image/png": "[encoded data removed]",
      "text/plain": [
       "<Figure size 432x288 with 1 Axes>"
      ]
     },
     "metadata": {},
     "output_type": "display_data"
    }
   ],
   "source": [
    "countsAfterByDescription(policeCalls, \"DISTURBING PEACE\")"
   ]
  },
  {
   "cell_type": "code",
   "execution_count": 135,
   "metadata": {},
   "outputs": [
    {
     "name": "stdout",
     "output_type": "stream",
     "text": [
      "~~~~~~~~~~~~~~~~~~~~~~~~~~~~~~~~~~~~~~~~~~~~~~~~~~~~~~~~~~~~~~~~~~~~~\n",
      "Running tests\n",
      "\n",
      "---------------------------------------------------------------------\n",
      "Test summary\n",
      "    Passed: 1\n",
      "    Failed: 0\n",
      "[ooooooooook] 100.0% passed\n",
      "\n"
     ]
    }
   ],
   "source": [
    "_ = ok.grade('q4_2_1')"
   ]
  },
  {
   "cell_type": "markdown",
   "metadata": {},
   "source": [
    "**Question 2**: Define a function, `correlation`, that takes in 2 arrays, a and b, and returns the correlation coefficient between them."
   ]
  },
  {
   "cell_type": "code",
   "execution_count": 136,
   "metadata": {},
   "outputs": [],
   "source": [
    "def standardize(array):\n",
    "    return (array-array.mean()) / np.std(array)\n",
    "\n",
    "def correlation(a, b):\n",
    "    standard_a = standardize(a)\n",
    "    standard_b = standardize(b)\n",
    "    return (standard_a*standard_b).mean()\n",
    "    "
   ]
  },
  {
   "cell_type": "code",
   "execution_count": 137,
   "metadata": {},
   "outputs": [
    {
     "name": "stdout",
     "output_type": "stream",
     "text": [
      "~~~~~~~~~~~~~~~~~~~~~~~~~~~~~~~~~~~~~~~~~~~~~~~~~~~~~~~~~~~~~~~~~~~~~\n",
      "Running tests\n",
      "\n",
      "---------------------------------------------------------------------\n",
      "Test summary\n",
      "    Passed: 1\n",
      "    Failed: 0\n",
      "[ooooooooook] 100.0% passed\n",
      "\n"
     ]
    }
   ],
   "source": [
    "_ = ok.grade('q4_2_2')"
   ]
  },
  {
   "cell_type": "markdown",
   "metadata": {},
   "source": [
    "**Question 3**: Next, we are going to put things together by exploring the correlations of different police calls and the date, which will give insight of whether the trend is increasing or not, relative to other trends. We can then explore which trends are changing more significantly than others.\n",
    "\n",
    "Fill in the function below that takes in a table and description and returns the slope for only police calls that ocurred after 3-15. Most of it has been filled out for you."
   ]
  },
  {
   "cell_type": "code",
   "execution_count": 138,
   "metadata": {},
   "outputs": [],
   "source": [
    "def countsAfterByDescriptionNoGraph(table, description):\n",
    "    filtered = filterByDescription(table,description)\n",
    "    counts = getCountsByDayAfter(filtered)\n",
    "    return counts"
   ]
  },
  {
   "cell_type": "code",
   "execution_count": 139,
   "metadata": {},
   "outputs": [],
   "source": [
    "def getSlope(table, description):\n",
    "    y = np.array(countsAfterByDescriptionNoGraph(table,description))\n",
    "    x = bpd.DataFrame().assign(x=np.arange(y.shape[0])).get(\"x\") # turns dates into integer values\n",
    "    m = correlation(x, y) * np.std(y) / np.std(x)\n",
    "    return m\n"
   ]
  },
  {
   "cell_type": "code",
   "execution_count": 140,
   "metadata": {},
   "outputs": [
    {
     "data": {
      "text/plain": [
       "1.0418475900998698"
      ]
     },
     "execution_count": 140,
     "metadata": {},
     "output_type": "execute_result"
    }
   ],
   "source": [
    "getSlope(policeCalls, \"DISTURBING PEACE\")"
   ]
  },
  {
   "cell_type": "code",
   "execution_count": null,
   "metadata": {},
   "outputs": [],
   "source": [
    "_ = ok.grade('q4_2_3')"
   ]
  },
  {
   "cell_type": "markdown",
   "metadata": {},
   "source": [
    "**Question 4**: Now that we have the function above, we can explore to see which call types have increasing or decreasing trends. Of the following, which call types have a positive slope, meaning the trend has been relatively increasing after 3-15? Assign possible call types to a list `positive_trends` (assign the numbers 1, 2, 3, or 4, not the name).\n",
    "\n",
    "1. DISTURBING PEACE\n",
    "2. ILLEGAL PARKING\n",
    "3. DRUNK - DRUGS/ALCOHOL\n",
    "4. BURGLARY ALARM\n",
    "\n",
    "You may use the function `getSlope` you defined previously to find the slopes of the call types."
   ]
  },
  {
   "cell_type": "code",
   "execution_count": 141,
   "metadata": {},
   "outputs": [
    {
     "name": "stdout",
     "output_type": "stream",
     "text": [
      "1.0418475901\n",
      "-0.289893617021\n",
      "0.115990013026\n",
      "-0.331958315241\n"
     ]
    }
   ],
   "source": [
    "#You may use this to calculate slopes\n",
    "print(getSlope(policeCalls, 'DISTURBING PEACE'))\n",
    "print(getSlope(policeCalls, 'ILLEGAL PARKING'))\n",
    "print(getSlope(policeCalls, 'DRUNK - DRUGS/ALCOHOL'))\n",
    "print(getSlope(policeCalls, 'BURGLARY ALARM'))"
   ]
  },
  {
   "cell_type": "code",
   "execution_count": 142,
   "metadata": {},
   "outputs": [],
   "source": [
    "positive_trends = [1,3]"
   ]
  },
  {
   "cell_type": "code",
   "execution_count": 143,
   "metadata": {},
   "outputs": [
    {
     "name": "stdout",
     "output_type": "stream",
     "text": [
      "~~~~~~~~~~~~~~~~~~~~~~~~~~~~~~~~~~~~~~~~~~~~~~~~~~~~~~~~~~~~~~~~~~~~~\n",
      "Running tests\n",
      "\n",
      "---------------------------------------------------------------------\n",
      "Test summary\n",
      "    Passed: 1\n",
      "    Failed: 0\n",
      "[ooooooooook] 100.0% passed\n",
      "\n"
     ]
    }
   ],
   "source": [
    "_ = ok.grade('q4_2_4')"
   ]
  },
  {
   "cell_type": "markdown",
   "metadata": {},
   "source": [
    "Now that you've chosen some call types that have a positive trend, let's plot out the time-series to see if this is consistent. We will use the `countsAfterByDescription` function to do this. Replace the `description` variable with the names of the descriptions you chose above."
   ]
  },
  {
   "cell_type": "code",
   "execution_count": 145,
   "metadata": {},
   "outputs": [
    {
     "data": {
      "image/png": "[encoded data removed]",
      "text/plain": [
       "<Figure size 432x288 with 1 Axes>"
      ]
     },
     "metadata": {},
     "output_type": "display_data"
    }
   ],
   "source": [
    "description = 'DISTURBING PEACE'\n",
    "countsAfterByDescription(policeCalls, description)"
   ]
  },
  {
   "cell_type": "markdown",
   "metadata": {},
   "source": [
    "**Question 5**: We will now look at decreasing trends. Of the following, which call types have a negative slope, meaning the trend has been relatively decreasing after 3-15? Assign possible call types to a list negative_trends (assign the numbers 1, 2, 3, or 4, not the name).\n",
    "\n",
    "1. SPECIAL DETAIL\n",
    "2. TRESPASSING\n",
    "3. SELECTIVE ENFORCEMENT\n",
    "4. ILLEGAL PARKING\n",
    "\n",
    "Again, you may use the function getSlope you defined previously to find the slopes of the call types."
   ]
  },
  {
   "cell_type": "code",
   "execution_count": 146,
   "metadata": {},
   "outputs": [
    {
     "name": "stdout",
     "output_type": "stream",
     "text": [
      "0.293855840208\n",
      "0.212494572297\n",
      "-0.202019105515\n",
      "-0.289893617021\n"
     ]
    }
   ],
   "source": [
    "#You may use this to calculate slopes\n",
    "print(getSlope(policeCalls, 'SPECIAL DETAIL'))\n",
    "print(getSlope(policeCalls, 'TRESPASSING'))\n",
    "print(getSlope(policeCalls, 'SELECTIVE ENFORCEMENT'))\n",
    "print(getSlope(policeCalls, 'ILLEGAL PARKING'))"
   ]
  },
  {
   "cell_type": "code",
   "execution_count": 147,
   "metadata": {},
   "outputs": [],
   "source": [
    "negative_trends = [3,4]"
   ]
  },
  {
   "cell_type": "code",
   "execution_count": 148,
   "metadata": {},
   "outputs": [
    {
     "name": "stdout",
     "output_type": "stream",
     "text": [
      "~~~~~~~~~~~~~~~~~~~~~~~~~~~~~~~~~~~~~~~~~~~~~~~~~~~~~~~~~~~~~~~~~~~~~\n",
      "Running tests\n",
      "\n",
      "---------------------------------------------------------------------\n",
      "Test summary\n",
      "    Passed: 1\n",
      "    Failed: 0\n",
      "[ooooooooook] 100.0% passed\n",
      "\n"
     ]
    }
   ],
   "source": [
    "_ = ok.grade('q4_2_5')"
   ]
  },
  {
   "cell_type": "markdown",
   "metadata": {},
   "source": [
    "We can do the same thing and look at the trends of the decreasing call types. Replace the `description` variable with the names of the descriptions you chose above."
   ]
  },
  {
   "cell_type": "code",
   "execution_count": 150,
   "metadata": {},
   "outputs": [
    {
     "data": {
      "image/png": "[encoded data removed]",
      "text/plain": [
       "<Figure size 432x288 with 1 Axes>"
      ]
     },
     "metadata": {},
     "output_type": "display_data"
    }
   ],
   "source": [
    "description = 'SPECIAL DETAIL'\n",
    "countsAfterByDescription(policeCalls, description)"
   ]
  },
  {
   "cell_type": "markdown",
   "metadata": {},
   "source": [
    "**Question 6**: After conducting our analyses, we can see that calls regarding \"DISTURBING PEACE\" have increased significantly after 3-15. An important part of being a data scientist is to interpret and connect the results and explain reasons for what occurred. \n",
    "\n",
    "Given the COVID-19 situation and many of the shelter-in-place orders that have been enforced to make people stay at home, given a possible explanation of why calls regarding \"DISTURBING PEACE\" may have increased during this time period. \n",
    "\n",
    "Calls regarding \"DISTURBING PEACE\" include situations like excess partying and loud noises that disturbs others."
   ]
  },
  {
   "cell_type": "markdown",
   "metadata": {},
   "source": [
    "<hr style=\"color:Maroon;background-color:Maroon;border:0 none; height: 3px;\">\n",
    "\n",
    "A plausable explanation of why calls regarding 'DISTURBING PEACE' are happening more often is simply because more people are at home due to COVID 19. It is likely that since more people are at home, more people are likely to call in to the police regarding loud noise or excess partying.\n",
    "\n",
    "<hr style=\"color:Maroon;background-color:Maroon;border:0 none; height: 3px;\">"
   ]
  },
  {
   "cell_type": "markdown",
   "metadata": {},
   "source": [
    "We took our analyses from the previous parts a step further and determined the correlations/slopes of the different types of police reports, versus the date. This is called time-series regression and has generated insight as to whether trends of some calls have increased, decreased, or remained relatively the same."
   ]
  },
  {
   "cell_type": "markdown",
   "metadata": {},
   "source": [
    "### Summary\n",
    "The COVID-19 situation has affected many areas of society, including crime rates and police reports. In this part, we have used statistical analyses and data visualization to understand how police calls have changed because of COVID-19. Furthermore, we also quantified the extent to which call types changed and understood why certain types of calls increased or decreased."
   ]
  },
  {
   "cell_type": "markdown",
   "metadata": {},
   "source": [
    "## Part 5: Conclusion & Reflection\n",
    "We've made it to the end of our analysis of two different datasets, answering interesting questions about each. "
   ]
  },
  {
   "cell_type": "markdown",
   "metadata": {},
   "source": [
    "**Question 1**: In 2 paragraphs, each with 4-6 sentences, explain what you have learned throughout this project.\n",
    "\n",
    "For the first paragraph, what have you discovered about women enrollment rates from the past to the present? How have these rates changed, and what do you think will happen to the rates potentially in the future? Feel free to discuss any other insights you have discovered as well.\n",
    "\n",
    "For the second paragraph, what have you learned about the changes in police call trends before and after the COVID-19 situation? Have certain call types changed more than others? What are examples of some that increased or decreased, and a possible expalanation?"
   ]
  },
  {
   "cell_type": "markdown",
   "metadata": {},
   "source": [
    "<hr style=\"color:Maroon;background-color:Maroon;border:0 none; height: 3px;\">\n",
    "\n",
    "In this project, I was able to learn a great amount about the enrollment rate of women from the past to the present. In the last 40 years, women have changed from having a relatively low rate of admission compared to men to actually having a higher rate of admission than men. I think it is likely that in the short term future we will continue to see more women being admitted than men, perhaps at least as a result of some sort of social compensation for the lack of equality in the past. In the longer term, I expect that the rate will reach closer to a 50/50 between men and women, as equality becomes more of the norm and sexism becomes a thing of the past.\n",
    "\n",
    "For one thing, I never knew so many people called the police every day. It makes sense when you see how many different catagories there are, but still it is astounding to me that there are over 1,500 calls a day to the police in just San Diego alone! I was able to learn about how certain factors change for real data, the most notable being that there were many fewer traffic tickets! I guess that would make sense since people have not been leaving their houses as much. I was suprised to see that the amount of disturbing peace calls have gone up so remarkably, but again I think it makes sense since there are many more people at home (many of which that have nothing better to do than call 911 on us for having parties). \n",
    "\n",
    "<hr style=\"color:Maroon;background-color:Maroon;border:0 none; height: 3px;\">"
   ]
  },
  {
   "cell_type": "markdown",
   "metadata": {},
   "source": [
    "Congratulations! You've made it to the end of the project and have explored questions about both gender discrimination in college admissions, as well as police call trends affected by the COVID-19 situation. There are many more questions and analyses you can perform with the data and we encourage you to explore the data more! Remember to check all the tests and submit the project below when you are completed."
   ]
  },
  {
   "cell_type": "markdown",
   "metadata": {},
   "source": [
    "### Further reading\n",
    "\n",
    "If you're interested in learning more about the topics we've covered, you can check out these articles:\n",
    "\n",
    "**College Admissions**\n",
    "* [Discrimination Against Women in College Admissions](https://www.vox.com/2015/2/17/8050259/discrimination-against-women-is-a-real-problem-in-college-admissions)\n",
    "* [Gender Discrimination Lawsuits](https://law.jrank.org/pages/5368/Colleges-Universities-Gender-Discrimination.html)\n",
    "\n",
    "**Police Reports**\n",
    "* [Crime Report Trends during COVID-19 Shutdown](https://sanjosespotlight.com/san-jose-police-chief-talks-crime-trends-during-covid-19-shutdown/)\n",
    "* [Increases/Decreases in Types of Police Reports during COVID-19](https://www.koin.com/news/health/coronavirus/covid-crime-trends-speeding-break-ins-domestic-violence/)"
   ]
  },
  {
   "cell_type": "code",
   "execution_count": 151,
   "metadata": {},
   "outputs": [
    {
     "name": "stdout",
     "output_type": "stream",
     "text": [
      "Running all tests...\n",
      "~~~~~~~~~~~~~~~~~~~~~~~~~~~~~~~~~~~~~~~~~~~~~~~~~~~~~~~~~~~~~~~~~~~~~\n",
      "Running tests\n",
      "\n",
      "---------------------------------------------------------------------\n",
      "Test summary\n",
      "    Passed: 1\n",
      "    Failed: 0\n",
      "[ooooooooook] 100.0% passed\n",
      "\n",
      "~~~~~~~~~~~~~~~~~~~~~~~~~~~~~~~~~~~~~~~~~~~~~~~~~~~~~~~~~~~~~~~~~~~~~\n",
      "Running tests\n",
      "\n",
      "---------------------------------------------------------------------\n",
      "Test summary\n",
      "    Passed: 1\n",
      "    Failed: 0\n",
      "[ooooooooook] 100.0% passed\n",
      "\n",
      "~~~~~~~~~~~~~~~~~~~~~~~~~~~~~~~~~~~~~~~~~~~~~~~~~~~~~~~~~~~~~~~~~~~~~\n",
      "Running tests\n",
      "\n",
      "---------------------------------------------------------------------\n",
      "Test summary\n",
      "    Passed: 1\n",
      "    Failed: 0\n",
      "[ooooooooook] 100.0% passed\n",
      "\n",
      "~~~~~~~~~~~~~~~~~~~~~~~~~~~~~~~~~~~~~~~~~~~~~~~~~~~~~~~~~~~~~~~~~~~~~\n",
      "Running tests\n",
      "\n",
      "---------------------------------------------------------------------\n",
      "Test summary\n",
      "    Passed: 1\n",
      "    Failed: 0\n",
      "[ooooooooook] 100.0% passed\n",
      "\n",
      "~~~~~~~~~~~~~~~~~~~~~~~~~~~~~~~~~~~~~~~~~~~~~~~~~~~~~~~~~~~~~~~~~~~~~\n",
      "Running tests\n",
      "\n",
      "---------------------------------------------------------------------\n",
      "Test summary\n",
      "    Passed: 1\n",
      "    Failed: 0\n",
      "[ooooooooook] 100.0% passed\n",
      "\n",
      "~~~~~~~~~~~~~~~~~~~~~~~~~~~~~~~~~~~~~~~~~~~~~~~~~~~~~~~~~~~~~~~~~~~~~\n",
      "Running tests\n",
      "\n",
      "---------------------------------------------------------------------\n",
      "Test summary\n",
      "    Passed: 1\n",
      "    Failed: 0\n",
      "[ooooooooook] 100.0% passed\n",
      "\n",
      "~~~~~~~~~~~~~~~~~~~~~~~~~~~~~~~~~~~~~~~~~~~~~~~~~~~~~~~~~~~~~~~~~~~~~\n",
      "Running tests\n",
      "\n",
      "---------------------------------------------------------------------\n",
      "Test summary\n",
      "    Passed: 1\n",
      "    Failed: 0\n",
      "[ooooooooook] 100.0% passed\n",
      "\n",
      "~~~~~~~~~~~~~~~~~~~~~~~~~~~~~~~~~~~~~~~~~~~~~~~~~~~~~~~~~~~~~~~~~~~~~\n",
      "Running tests\n",
      "\n",
      "---------------------------------------------------------------------\n",
      "Test summary\n",
      "    Passed: 1\n",
      "    Failed: 0\n",
      "[ooooooooook] 100.0% passed\n",
      "\n",
      "~~~~~~~~~~~~~~~~~~~~~~~~~~~~~~~~~~~~~~~~~~~~~~~~~~~~~~~~~~~~~~~~~~~~~\n",
      "Running tests\n",
      "\n",
      "---------------------------------------------------------------------\n",
      "Test summary\n",
      "    Passed: 1\n",
      "    Failed: 0\n",
      "[ooooooooook] 100.0% passed\n",
      "\n",
      "~~~~~~~~~~~~~~~~~~~~~~~~~~~~~~~~~~~~~~~~~~~~~~~~~~~~~~~~~~~~~~~~~~~~~\n",
      "Running tests\n",
      "\n",
      "---------------------------------------------------------------------\n",
      "Test summary\n",
      "    Passed: 1\n",
      "    Failed: 0\n",
      "[ooooooooook] 100.0% passed\n",
      "\n",
      "~~~~~~~~~~~~~~~~~~~~~~~~~~~~~~~~~~~~~~~~~~~~~~~~~~~~~~~~~~~~~~~~~~~~~\n",
      "Running tests\n",
      "\n",
      "---------------------------------------------------------------------\n",
      "Test summary\n",
      "    Passed: 1\n",
      "    Failed: 0\n",
      "[ooooooooook] 100.0% passed\n",
      "\n",
      "~~~~~~~~~~~~~~~~~~~~~~~~~~~~~~~~~~~~~~~~~~~~~~~~~~~~~~~~~~~~~~~~~~~~~\n",
      "Running tests\n",
      "\n",
      "---------------------------------------------------------------------\n",
      "Test summary\n",
      "    Passed: 1\n",
      "    Failed: 0\n",
      "[ooooooooook] 100.0% passed\n",
      "\n",
      "~~~~~~~~~~~~~~~~~~~~~~~~~~~~~~~~~~~~~~~~~~~~~~~~~~~~~~~~~~~~~~~~~~~~~\n",
      "Running tests\n",
      "\n",
      "---------------------------------------------------------------------\n",
      "Question 3.2.1 > Suite 1 > Case 1\n",
      "\n",
      ">>> isinstance(topCalls, bpd.Series)\n",
      "False\n",
      "\n",
      "# Error: expected\n",
      "#     True\n",
      "# but got\n",
      "#     False\n",
      "\n",
      "Run only this test case with \"python3 ok -q q3_2_1 --suite 1 --case 1\"\n",
      "---------------------------------------------------------------------\n",
      "Test summary\n",
      "    Passed: 0\n",
      "    Failed: 1\n",
      "[k..........] 0.0% passed\n",
      "\n",
      "~~~~~~~~~~~~~~~~~~~~~~~~~~~~~~~~~~~~~~~~~~~~~~~~~~~~~~~~~~~~~~~~~~~~~\n",
      "Running tests\n",
      "\n",
      "---------------------------------------------------------------------\n",
      "Test summary\n",
      "    Passed: 1\n",
      "    Failed: 0\n",
      "[ooooooooook] 100.0% passed\n",
      "\n",
      "~~~~~~~~~~~~~~~~~~~~~~~~~~~~~~~~~~~~~~~~~~~~~~~~~~~~~~~~~~~~~~~~~~~~~\n",
      "Running tests\n",
      "\n",
      "---------------------------------------------------------------------\n",
      "Test summary\n",
      "    Passed: 1\n",
      "    Failed: 0\n",
      "[ooooooooook] 100.0% passed\n",
      "\n",
      "~~~~~~~~~~~~~~~~~~~~~~~~~~~~~~~~~~~~~~~~~~~~~~~~~~~~~~~~~~~~~~~~~~~~~\n",
      "Running tests\n",
      "\n",
      "---------------------------------------------------------------------\n",
      "Test summary\n",
      "    Passed: 1\n",
      "    Failed: 0\n",
      "[ooooooooook] 100.0% passed\n",
      "\n",
      "~~~~~~~~~~~~~~~~~~~~~~~~~~~~~~~~~~~~~~~~~~~~~~~~~~~~~~~~~~~~~~~~~~~~~\n",
      "Running tests\n",
      "\n",
      "---------------------------------------------------------------------\n",
      "Test summary\n",
      "    Passed: 1\n",
      "    Failed: 0\n",
      "[ooooooooook] 100.0% passed\n",
      "\n",
      "~~~~~~~~~~~~~~~~~~~~~~~~~~~~~~~~~~~~~~~~~~~~~~~~~~~~~~~~~~~~~~~~~~~~~\n",
      "Running tests\n",
      "\n",
      "---------------------------------------------------------------------\n",
      "Test summary\n",
      "    Passed: 1\n",
      "    Failed: 0\n",
      "[ooooooooook] 100.0% passed\n",
      "\n",
      "~~~~~~~~~~~~~~~~~~~~~~~~~~~~~~~~~~~~~~~~~~~~~~~~~~~~~~~~~~~~~~~~~~~~~\n",
      "Running tests\n",
      "\n",
      "---------------------------------------------------------------------\n",
      "Test summary\n",
      "    Passed: 1\n",
      "    Failed: 0\n",
      "[ooooooooook] 100.0% passed\n",
      "\n",
      "~~~~~~~~~~~~~~~~~~~~~~~~~~~~~~~~~~~~~~~~~~~~~~~~~~~~~~~~~~~~~~~~~~~~~\n",
      "Running tests\n",
      "\n",
      "---------------------------------------------------------------------\n",
      "Test summary\n",
      "    Passed: 1\n",
      "    Failed: 0\n",
      "[ooooooooook] 100.0% passed\n",
      "\n",
      "~~~~~~~~~~~~~~~~~~~~~~~~~~~~~~~~~~~~~~~~~~~~~~~~~~~~~~~~~~~~~~~~~~~~~\n",
      "Running tests\n",
      "\n",
      "---------------------------------------------------------------------\n",
      "Test summary\n",
      "    Passed: 1\n",
      "    Failed: 0\n",
      "[ooooooooook] 100.0% passed\n",
      "\n",
      "~~~~~~~~~~~~~~~~~~~~~~~~~~~~~~~~~~~~~~~~~~~~~~~~~~~~~~~~~~~~~~~~~~~~~\n",
      "Running tests\n",
      "\n",
      "---------------------------------------------------------------------\n",
      "Test summary\n",
      "    Passed: 1\n",
      "    Failed: 0\n",
      "[ooooooooook] 100.0% passed\n",
      "\n",
      "~~~~~~~~~~~~~~~~~~~~~~~~~~~~~~~~~~~~~~~~~~~~~~~~~~~~~~~~~~~~~~~~~~~~~\n",
      "Running tests\n",
      "\n",
      "---------------------------------------------------------------------\n",
      "Test summary\n",
      "    Passed: 1\n",
      "    Failed: 0\n",
      "[ooooooooook] 100.0% passed\n",
      "\n",
      "~~~~~~~~~~~~~~~~~~~~~~~~~~~~~~~~~~~~~~~~~~~~~~~~~~~~~~~~~~~~~~~~~~~~~\n",
      "Running tests\n",
      "\n",
      "---------------------------------------------------------------------\n",
      "Test summary\n",
      "    Passed: 1\n",
      "    Failed: 0\n",
      "[ooooooooook] 100.0% passed\n",
      "\n",
      "~~~~~~~~~~~~~~~~~~~~~~~~~~~~~~~~~~~~~~~~~~~~~~~~~~~~~~~~~~~~~~~~~~~~~\n",
      "Running tests\n",
      "\n",
      "---------------------------------------------------------------------\n",
      "Test summary\n",
      "    Passed: 1\n",
      "    Failed: 0\n",
      "[ooooooooook] 100.0% passed\n",
      "\n",
      "~~~~~~~~~~~~~~~~~~~~~~~~~~~~~~~~~~~~~~~~~~~~~~~~~~~~~~~~~~~~~~~~~~~~~\n",
      "Running tests\n",
      "\n",
      "---------------------------------------------------------------------\n",
      "Test summary\n",
      "    Passed: 1\n",
      "    Failed: 0\n",
      "[ooooooooook] 100.0% passed\n",
      "\n",
      "~~~~~~~~~~~~~~~~~~~~~~~~~~~~~~~~~~~~~~~~~~~~~~~~~~~~~~~~~~~~~~~~~~~~~\n",
      "Running tests\n",
      "\n",
      "---------------------------------------------------------------------\n",
      "Test summary\n",
      "    Passed: 1\n",
      "    Failed: 0\n",
      "[ooooooooook] 100.0% passed\n",
      "\n",
      "~~~~~~~~~~~~~~~~~~~~~~~~~~~~~~~~~~~~~~~~~~~~~~~~~~~~~~~~~~~~~~~~~~~~~\n",
      "Running tests\n",
      "\n",
      "---------------------------------------------------------------------\n",
      "Test summary\n",
      "    Passed: 1\n",
      "    Failed: 0\n",
      "[ooooooooook] 100.0% passed\n",
      "\n",
      "~~~~~~~~~~~~~~~~~~~~~~~~~~~~~~~~~~~~~~~~~~~~~~~~~~~~~~~~~~~~~~~~~~~~~\n",
      "Running tests\n",
      "\n",
      "---------------------------------------------------------------------\n",
      "Test summary\n",
      "    Passed: 1\n",
      "    Failed: 0\n",
      "[ooooooooook] 100.0% passed\n",
      "\n",
      "~~~~~~~~~~~~~~~~~~~~~~~~~~~~~~~~~~~~~~~~~~~~~~~~~~~~~~~~~~~~~~~~~~~~~\n",
      "Running tests\n",
      "\n",
      "---------------------------------------------------------------------\n",
      "Test summary\n",
      "    Passed: 1\n",
      "    Failed: 0\n",
      "[ooooooooook] 100.0% passed\n",
      "\n",
      "~~~~~~~~~~~~~~~~~~~~~~~~~~~~~~~~~~~~~~~~~~~~~~~~~~~~~~~~~~~~~~~~~~~~~\n",
      "Running tests\n",
      "\n",
      "---------------------------------------------------------------------\n",
      "Test summary\n",
      "    Passed: 1\n",
      "    Failed: 0\n",
      "[ooooooooook] 100.0% passed\n",
      "\n",
      "~~~~~~~~~~~~~~~~~~~~~~~~~~~~~~~~~~~~~~~~~~~~~~~~~~~~~~~~~~~~~~~~~~~~~\n",
      "Running tests\n",
      "\n",
      "---------------------------------------------------------------------\n",
      "Test summary\n",
      "    Passed: 1\n",
      "    Failed: 0\n",
      "[ooooooooook] 100.0% passed\n",
      "\n",
      "~~~~~~~~~~~~~~~~~~~~~~~~~~~~~~~~~~~~~~~~~~~~~~~~~~~~~~~~~~~~~~~~~~~~~\n",
      "Running tests\n",
      "\n",
      "---------------------------------------------------------------------\n",
      "Test summary\n",
      "    Passed: 1\n",
      "    Failed: 0\n",
      "[ooooooooook] 100.0% passed\n",
      "\n",
      "~~~~~~~~~~~~~~~~~~~~~~~~~~~~~~~~~~~~~~~~~~~~~~~~~~~~~~~~~~~~~~~~~~~~~\n",
      "Running tests\n",
      "\n",
      "---------------------------------------------------------------------\n",
      "Test summary\n",
      "    Passed: 1\n",
      "    Failed: 0\n",
      "[ooooooooook] 100.0% passed\n",
      "\n",
      "~~~~~~~~~~~~~~~~~~~~~~~~~~~~~~~~~~~~~~~~~~~~~~~~~~~~~~~~~~~~~~~~~~~~~\n",
      "Running tests\n",
      "\n",
      "---------------------------------------------------------------------\n",
      "Test summary\n",
      "    Passed: 1\n",
      "    Failed: 0\n",
      "[ooooooooook] 100.0% passed\n",
      "\n",
      "~~~~~~~~~~~~~~~~~~~~~~~~~~~~~~~~~~~~~~~~~~~~~~~~~~~~~~~~~~~~~~~~~~~~~\n",
      "Running tests\n",
      "\n",
      "---------------------------------------------------------------------\n",
      "Test summary\n",
      "    Passed: 1\n",
      "    Failed: 0\n",
      "[ooooooooook] 100.0% passed\n",
      "\n",
      "Finished running all tests.\n"
     ]
    }
   ],
   "source": [
    "# For your convenience, you can run this cell to run all the tests at once!\n",
    "import os\n",
    "print(\"Running all tests...\")\n",
    "_ = [ok.grade(q[:-3]) for q in os.listdir(\"tests\") if q.startswith('q')]\n",
    "print(\"Finished running all tests.\")"
   ]
  },
  {
   "cell_type": "markdown",
   "metadata": {},
   "source": [
    "## Before submitting, select \"Kernel\" -> \"Restart & Run All\" from the menu!\n",
    "\n",
    "Then make sure that all of your cells ran without error."
   ]
  },
  {
   "cell_type": "code",
   "execution_count": 152,
   "metadata": {},
   "outputs": [
    {
     "data": {
      "application/javascript": [
       "IPython.notebook.save_checkpoint();"
      ],
      "text/plain": [
       "<IPython.core.display.Javascript object>"
      ]
     },
     "metadata": {},
     "output_type": "display_data"
    },
    {
     "data": {
      "application/javascript": [
       "IPython.notebook.save_notebook();"
      ],
      "text/plain": [
       "<IPython.core.display.Javascript object>"
      ]
     },
     "metadata": {},
     "output_type": "display_data"
    },
    {
     "name": "stdout",
     "output_type": "stream",
     "text": [
      "Saving notebook... Saved 'project02.ipynb'.\n",
      "Submit... 100% complete\n",
      "Submission successful for user: kjay@ucsd.edu\n",
      "URL: https://okpy.org/ucsd/dsc10/sp20/project02/submissions/z7BMzq\n",
      "\n"
     ]
    }
   ],
   "source": [
    "_ = ok.submit()"
   ]
  },
  {
   "cell_type": "code",
   "execution_count": null,
   "metadata": {},
   "outputs": [],
   "source": []
  }
 ],
 "metadata": {
  "kernelspec": {
   "display_name": "Python 3",
   "language": "python",
   "name": "python3"
  },
  "language_info": {
   "codemirror_mode": {
    "name": "ipython",
    "version": 3
   },
   "file_extension": ".py",
   "mimetype": "text/x-python",
   "name": "python",
   "nbconvert_exporter": "python",
   "pygments_lexer": "ipython3",
   "version": "3.6.7"
  }
 },
 "nbformat": 4,
 "nbformat_minor": 1
}
